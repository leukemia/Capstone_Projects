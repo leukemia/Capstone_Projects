{
 "cells": [
  {
   "cell_type": "markdown",
   "metadata": {},
   "source": [
    "## Machine Learning \n",
    "\n",
    "To find out which model works the best, first I am trying different to find out which default estimator works best. Then after that I will perform hyperparameter tuning. The metric I will use is mean of R^2 across 5-fold cross validation."
   ]
  },
  {
   "cell_type": "code",
   "execution_count": 1,
   "metadata": {},
   "outputs": [],
   "source": [
    "import numpy as np\n",
    "import pandas as pd\n",
    "import seaborn as sns\n",
    "import matplotlib.pyplot as plt\n",
    "%matplotlib inline\n",
    "sns.set()"
   ]
  },
  {
   "cell_type": "code",
   "execution_count": 2,
   "metadata": {},
   "outputs": [],
   "source": [
    "trainset = pd.read_csv('./wrangled_data/trainset.csv')\n",
    "validationset = pd.read_csv('./wrangled_data/validationset.csv')\n",
    "testset = pd.read_csv('./wrangled_data/testset.csv')"
   ]
  },
  {
   "cell_type": "code",
   "execution_count": 3,
   "metadata": {},
   "outputs": [
    {
     "data": {
      "text/plain": [
       "(3367224, 10)"
      ]
     },
     "execution_count": 3,
     "metadata": {},
     "output_type": "execute_result"
    }
   ],
   "source": [
    "trainset.shape"
   ]
  },
  {
   "cell_type": "code",
   "execution_count": 4,
   "metadata": {},
   "outputs": [
    {
     "data": {
      "text/html": [
       "<div>\n",
       "<style scoped>\n",
       "    .dataframe tbody tr th:only-of-type {\n",
       "        vertical-align: middle;\n",
       "    }\n",
       "\n",
       "    .dataframe tbody tr th {\n",
       "        vertical-align: top;\n",
       "    }\n",
       "\n",
       "    .dataframe thead th {\n",
       "        text-align: right;\n",
       "    }\n",
       "</style>\n",
       "<table border=\"1\" class=\"dataframe\">\n",
       "  <thead>\n",
       "    <tr style=\"text-align: right;\">\n",
       "      <th></th>\n",
       "      <th>0</th>\n",
       "      <th>1</th>\n",
       "      <th>2</th>\n",
       "      <th>3</th>\n",
       "      <th>4</th>\n",
       "    </tr>\n",
       "  </thead>\n",
       "  <tbody>\n",
       "    <tr>\n",
       "      <th>date_block_num</th>\n",
       "      <td>12.0</td>\n",
       "      <td>12.0</td>\n",
       "      <td>12.0</td>\n",
       "      <td>12.0</td>\n",
       "      <td>12.0</td>\n",
       "    </tr>\n",
       "    <tr>\n",
       "      <th>shop_id</th>\n",
       "      <td>2.0</td>\n",
       "      <td>2.0</td>\n",
       "      <td>2.0</td>\n",
       "      <td>2.0</td>\n",
       "      <td>2.0</td>\n",
       "    </tr>\n",
       "    <tr>\n",
       "      <th>item_id</th>\n",
       "      <td>5572.0</td>\n",
       "      <td>5643.0</td>\n",
       "      <td>5583.0</td>\n",
       "      <td>7893.0</td>\n",
       "      <td>7894.0</td>\n",
       "    </tr>\n",
       "    <tr>\n",
       "      <th>item_category_id</th>\n",
       "      <td>2.0</td>\n",
       "      <td>2.0</td>\n",
       "      <td>0.0</td>\n",
       "      <td>6.0</td>\n",
       "      <td>6.0</td>\n",
       "    </tr>\n",
       "    <tr>\n",
       "      <th>item_cnt_month</th>\n",
       "      <td>2.0</td>\n",
       "      <td>1.0</td>\n",
       "      <td>0.0</td>\n",
       "      <td>6.0</td>\n",
       "      <td>5.0</td>\n",
       "    </tr>\n",
       "    <tr>\n",
       "      <th>item_cnt_month_lag1</th>\n",
       "      <td>2.0</td>\n",
       "      <td>6.0</td>\n",
       "      <td>0.0</td>\n",
       "      <td>10.0</td>\n",
       "      <td>2.0</td>\n",
       "    </tr>\n",
       "    <tr>\n",
       "      <th>item_cnt_month_lag2</th>\n",
       "      <td>2.0</td>\n",
       "      <td>3.0</td>\n",
       "      <td>0.0</td>\n",
       "      <td>3.0</td>\n",
       "      <td>1.0</td>\n",
       "    </tr>\n",
       "    <tr>\n",
       "      <th>item_cnt_month_lag3</th>\n",
       "      <td>1.0</td>\n",
       "      <td>2.0</td>\n",
       "      <td>0.0</td>\n",
       "      <td>4.0</td>\n",
       "      <td>3.0</td>\n",
       "    </tr>\n",
       "    <tr>\n",
       "      <th>item_cnt_month_lag6</th>\n",
       "      <td>2.0</td>\n",
       "      <td>3.0</td>\n",
       "      <td>0.0</td>\n",
       "      <td>6.0</td>\n",
       "      <td>1.0</td>\n",
       "    </tr>\n",
       "    <tr>\n",
       "      <th>item_cnt_month_lag12</th>\n",
       "      <td>0.0</td>\n",
       "      <td>0.0</td>\n",
       "      <td>0.0</td>\n",
       "      <td>3.0</td>\n",
       "      <td>0.0</td>\n",
       "    </tr>\n",
       "  </tbody>\n",
       "</table>\n",
       "</div>"
      ],
      "text/plain": [
       "                           0       1       2       3       4\n",
       "date_block_num          12.0    12.0    12.0    12.0    12.0\n",
       "shop_id                  2.0     2.0     2.0     2.0     2.0\n",
       "item_id               5572.0  5643.0  5583.0  7893.0  7894.0\n",
       "item_category_id         2.0     2.0     0.0     6.0     6.0\n",
       "item_cnt_month           2.0     1.0     0.0     6.0     5.0\n",
       "item_cnt_month_lag1      2.0     6.0     0.0    10.0     2.0\n",
       "item_cnt_month_lag2      2.0     3.0     0.0     3.0     1.0\n",
       "item_cnt_month_lag3      1.0     2.0     0.0     4.0     3.0\n",
       "item_cnt_month_lag6      2.0     3.0     0.0     6.0     1.0\n",
       "item_cnt_month_lag12     0.0     0.0     0.0     3.0     0.0"
      ]
     },
     "execution_count": 4,
     "metadata": {},
     "output_type": "execute_result"
    }
   ],
   "source": [
    "trainset.head().T"
   ]
  },
  {
   "cell_type": "code",
   "execution_count": 5,
   "metadata": {},
   "outputs": [
    {
     "data": {
      "text/plain": [
       "(990360, 10)"
      ]
     },
     "execution_count": 5,
     "metadata": {},
     "output_type": "execute_result"
    }
   ],
   "source": [
    "validationset.shape"
   ]
  },
  {
   "cell_type": "code",
   "execution_count": 6,
   "metadata": {},
   "outputs": [
    {
     "data": {
      "text/plain": [
       "(3367224, 7)"
      ]
     },
     "execution_count": 6,
     "metadata": {},
     "output_type": "execute_result"
    }
   ],
   "source": [
    "X_train = trainset.drop(['item_cnt_month', 'date_block_num', 'item_category_id'] , axis=1)\n",
    "X_train.shape"
   ]
  },
  {
   "cell_type": "code",
   "execution_count": 7,
   "metadata": {},
   "outputs": [
    {
     "data": {
      "text/html": [
       "<div>\n",
       "<style scoped>\n",
       "    .dataframe tbody tr th:only-of-type {\n",
       "        vertical-align: middle;\n",
       "    }\n",
       "\n",
       "    .dataframe tbody tr th {\n",
       "        vertical-align: top;\n",
       "    }\n",
       "\n",
       "    .dataframe thead th {\n",
       "        text-align: right;\n",
       "    }\n",
       "</style>\n",
       "<table border=\"1\" class=\"dataframe\">\n",
       "  <thead>\n",
       "    <tr style=\"text-align: right;\">\n",
       "      <th></th>\n",
       "      <th>shop_id</th>\n",
       "      <th>item_id</th>\n",
       "      <th>item_cnt_month_lag1</th>\n",
       "      <th>item_cnt_month_lag2</th>\n",
       "      <th>item_cnt_month_lag3</th>\n",
       "      <th>item_cnt_month_lag6</th>\n",
       "      <th>item_cnt_month_lag12</th>\n",
       "    </tr>\n",
       "  </thead>\n",
       "  <tbody>\n",
       "    <tr>\n",
       "      <th>0</th>\n",
       "      <td>2</td>\n",
       "      <td>5572</td>\n",
       "      <td>2.0</td>\n",
       "      <td>2.0</td>\n",
       "      <td>1.0</td>\n",
       "      <td>2.0</td>\n",
       "      <td>0.0</td>\n",
       "    </tr>\n",
       "    <tr>\n",
       "      <th>1</th>\n",
       "      <td>2</td>\n",
       "      <td>5643</td>\n",
       "      <td>6.0</td>\n",
       "      <td>3.0</td>\n",
       "      <td>2.0</td>\n",
       "      <td>3.0</td>\n",
       "      <td>0.0</td>\n",
       "    </tr>\n",
       "    <tr>\n",
       "      <th>2</th>\n",
       "      <td>2</td>\n",
       "      <td>5583</td>\n",
       "      <td>0.0</td>\n",
       "      <td>0.0</td>\n",
       "      <td>0.0</td>\n",
       "      <td>0.0</td>\n",
       "      <td>0.0</td>\n",
       "    </tr>\n",
       "    <tr>\n",
       "      <th>3</th>\n",
       "      <td>2</td>\n",
       "      <td>7893</td>\n",
       "      <td>10.0</td>\n",
       "      <td>3.0</td>\n",
       "      <td>4.0</td>\n",
       "      <td>6.0</td>\n",
       "      <td>3.0</td>\n",
       "    </tr>\n",
       "    <tr>\n",
       "      <th>4</th>\n",
       "      <td>2</td>\n",
       "      <td>7894</td>\n",
       "      <td>2.0</td>\n",
       "      <td>1.0</td>\n",
       "      <td>3.0</td>\n",
       "      <td>1.0</td>\n",
       "      <td>0.0</td>\n",
       "    </tr>\n",
       "  </tbody>\n",
       "</table>\n",
       "</div>"
      ],
      "text/plain": [
       "   shop_id  item_id  item_cnt_month_lag1  item_cnt_month_lag2  \\\n",
       "0        2     5572                  2.0                  2.0   \n",
       "1        2     5643                  6.0                  3.0   \n",
       "2        2     5583                  0.0                  0.0   \n",
       "3        2     7893                 10.0                  3.0   \n",
       "4        2     7894                  2.0                  1.0   \n",
       "\n",
       "   item_cnt_month_lag3  item_cnt_month_lag6  item_cnt_month_lag12  \n",
       "0                  1.0                  2.0                   0.0  \n",
       "1                  2.0                  3.0                   0.0  \n",
       "2                  0.0                  0.0                   0.0  \n",
       "3                  4.0                  6.0                   3.0  \n",
       "4                  3.0                  1.0                   0.0  "
      ]
     },
     "execution_count": 7,
     "metadata": {},
     "output_type": "execute_result"
    }
   ],
   "source": [
    "X_train.head()"
   ]
  },
  {
   "cell_type": "code",
   "execution_count": 8,
   "metadata": {},
   "outputs": [
    {
     "data": {
      "text/plain": [
       "(3367224,)"
      ]
     },
     "execution_count": 8,
     "metadata": {},
     "output_type": "execute_result"
    }
   ],
   "source": [
    "y_train = trainset['item_cnt_month'].astype(int)\n",
    "y_train.shape"
   ]
  },
  {
   "cell_type": "code",
   "execution_count": 9,
   "metadata": {},
   "outputs": [
    {
     "data": {
      "text/plain": [
       "(990360, 7)"
      ]
     },
     "execution_count": 9,
     "metadata": {},
     "output_type": "execute_result"
    }
   ],
   "source": [
    "X_validation = validationset.drop(['item_cnt_month', 'date_block_num', 'item_category_id'], axis=1)\n",
    "X_validation.shape"
   ]
  },
  {
   "cell_type": "code",
   "execution_count": 10,
   "metadata": {},
   "outputs": [
    {
     "data": {
      "text/html": [
       "<div>\n",
       "<style scoped>\n",
       "    .dataframe tbody tr th:only-of-type {\n",
       "        vertical-align: middle;\n",
       "    }\n",
       "\n",
       "    .dataframe tbody tr th {\n",
       "        vertical-align: top;\n",
       "    }\n",
       "\n",
       "    .dataframe thead th {\n",
       "        text-align: right;\n",
       "    }\n",
       "</style>\n",
       "<table border=\"1\" class=\"dataframe\">\n",
       "  <thead>\n",
       "    <tr style=\"text-align: right;\">\n",
       "      <th></th>\n",
       "      <th>shop_id</th>\n",
       "      <th>item_id</th>\n",
       "      <th>item_cnt_month_lag1</th>\n",
       "      <th>item_cnt_month_lag2</th>\n",
       "      <th>item_cnt_month_lag3</th>\n",
       "      <th>item_cnt_month_lag6</th>\n",
       "      <th>item_cnt_month_lag12</th>\n",
       "    </tr>\n",
       "  </thead>\n",
       "  <tbody>\n",
       "    <tr>\n",
       "      <th>0</th>\n",
       "      <td>2</td>\n",
       "      <td>5572</td>\n",
       "      <td>0.0</td>\n",
       "      <td>0.0</td>\n",
       "      <td>0.0</td>\n",
       "      <td>0.0</td>\n",
       "      <td>0.0</td>\n",
       "    </tr>\n",
       "    <tr>\n",
       "      <th>1</th>\n",
       "      <td>2</td>\n",
       "      <td>5643</td>\n",
       "      <td>0.0</td>\n",
       "      <td>0.0</td>\n",
       "      <td>0.0</td>\n",
       "      <td>0.0</td>\n",
       "      <td>0.0</td>\n",
       "    </tr>\n",
       "    <tr>\n",
       "      <th>2</th>\n",
       "      <td>2</td>\n",
       "      <td>5583</td>\n",
       "      <td>0.0</td>\n",
       "      <td>0.0</td>\n",
       "      <td>0.0</td>\n",
       "      <td>0.0</td>\n",
       "      <td>0.0</td>\n",
       "    </tr>\n",
       "    <tr>\n",
       "      <th>3</th>\n",
       "      <td>2</td>\n",
       "      <td>7893</td>\n",
       "      <td>2.0</td>\n",
       "      <td>1.0</td>\n",
       "      <td>4.0</td>\n",
       "      <td>3.0</td>\n",
       "      <td>4.0</td>\n",
       "    </tr>\n",
       "    <tr>\n",
       "      <th>4</th>\n",
       "      <td>2</td>\n",
       "      <td>7894</td>\n",
       "      <td>2.0</td>\n",
       "      <td>1.0</td>\n",
       "      <td>5.0</td>\n",
       "      <td>6.0</td>\n",
       "      <td>2.0</td>\n",
       "    </tr>\n",
       "  </tbody>\n",
       "</table>\n",
       "</div>"
      ],
      "text/plain": [
       "   shop_id  item_id  item_cnt_month_lag1  item_cnt_month_lag2  \\\n",
       "0        2     5572                  0.0                  0.0   \n",
       "1        2     5643                  0.0                  0.0   \n",
       "2        2     5583                  0.0                  0.0   \n",
       "3        2     7893                  2.0                  1.0   \n",
       "4        2     7894                  2.0                  1.0   \n",
       "\n",
       "   item_cnt_month_lag3  item_cnt_month_lag6  item_cnt_month_lag12  \n",
       "0                  0.0                  0.0                   0.0  \n",
       "1                  0.0                  0.0                   0.0  \n",
       "2                  0.0                  0.0                   0.0  \n",
       "3                  4.0                  3.0                   4.0  \n",
       "4                  5.0                  6.0                   2.0  "
      ]
     },
     "execution_count": 10,
     "metadata": {},
     "output_type": "execute_result"
    }
   ],
   "source": [
    "X_validation.head()"
   ]
  },
  {
   "cell_type": "code",
   "execution_count": 11,
   "metadata": {},
   "outputs": [
    {
     "data": {
      "text/plain": [
       "(990360,)"
      ]
     },
     "execution_count": 11,
     "metadata": {},
     "output_type": "execute_result"
    }
   ],
   "source": [
    "y_validation = validationset['item_cnt_month'].astype(int)\n",
    "y_validation.shape"
   ]
  },
  {
   "cell_type": "code",
   "execution_count": 12,
   "metadata": {},
   "outputs": [
    {
     "data": {
      "text/plain": [
       "(214200, 8)"
      ]
     },
     "execution_count": 12,
     "metadata": {},
     "output_type": "execute_result"
    }
   ],
   "source": [
    "X_test = testset.drop(['item_cnt_month', 'date_block_num', 'item_category_id'], axis=1)\n",
    "X_test.shape"
   ]
  },
  {
   "cell_type": "code",
   "execution_count": 13,
   "metadata": {},
   "outputs": [
    {
     "data": {
      "text/html": [
       "<div>\n",
       "<style scoped>\n",
       "    .dataframe tbody tr th:only-of-type {\n",
       "        vertical-align: middle;\n",
       "    }\n",
       "\n",
       "    .dataframe tbody tr th {\n",
       "        vertical-align: top;\n",
       "    }\n",
       "\n",
       "    .dataframe thead th {\n",
       "        text-align: right;\n",
       "    }\n",
       "</style>\n",
       "<table border=\"1\" class=\"dataframe\">\n",
       "  <thead>\n",
       "    <tr style=\"text-align: right;\">\n",
       "      <th></th>\n",
       "      <th>ID</th>\n",
       "      <th>shop_id</th>\n",
       "      <th>item_id</th>\n",
       "      <th>item_cnt_month_lag1</th>\n",
       "      <th>item_cnt_month_lag2</th>\n",
       "      <th>item_cnt_month_lag3</th>\n",
       "      <th>item_cnt_month_lag6</th>\n",
       "      <th>item_cnt_month_lag12</th>\n",
       "    </tr>\n",
       "  </thead>\n",
       "  <tbody>\n",
       "    <tr>\n",
       "      <th>0</th>\n",
       "      <td>0</td>\n",
       "      <td>5</td>\n",
       "      <td>5037</td>\n",
       "      <td>0.0</td>\n",
       "      <td>0.0</td>\n",
       "      <td>0.0</td>\n",
       "      <td>0.0</td>\n",
       "      <td>0.0</td>\n",
       "    </tr>\n",
       "    <tr>\n",
       "      <th>1</th>\n",
       "      <td>1</td>\n",
       "      <td>5</td>\n",
       "      <td>5320</td>\n",
       "      <td>0.0</td>\n",
       "      <td>0.0</td>\n",
       "      <td>0.0</td>\n",
       "      <td>0.0</td>\n",
       "      <td>0.0</td>\n",
       "    </tr>\n",
       "    <tr>\n",
       "      <th>2</th>\n",
       "      <td>2</td>\n",
       "      <td>5</td>\n",
       "      <td>5233</td>\n",
       "      <td>3.0</td>\n",
       "      <td>1.0</td>\n",
       "      <td>2.0</td>\n",
       "      <td>0.0</td>\n",
       "      <td>0.0</td>\n",
       "    </tr>\n",
       "    <tr>\n",
       "      <th>3</th>\n",
       "      <td>3</td>\n",
       "      <td>5</td>\n",
       "      <td>5232</td>\n",
       "      <td>0.0</td>\n",
       "      <td>0.0</td>\n",
       "      <td>0.0</td>\n",
       "      <td>0.0</td>\n",
       "      <td>0.0</td>\n",
       "    </tr>\n",
       "    <tr>\n",
       "      <th>4</th>\n",
       "      <td>4</td>\n",
       "      <td>5</td>\n",
       "      <td>5268</td>\n",
       "      <td>0.0</td>\n",
       "      <td>0.0</td>\n",
       "      <td>0.0</td>\n",
       "      <td>0.0</td>\n",
       "      <td>0.0</td>\n",
       "    </tr>\n",
       "  </tbody>\n",
       "</table>\n",
       "</div>"
      ],
      "text/plain": [
       "   ID  shop_id  item_id  item_cnt_month_lag1  item_cnt_month_lag2  \\\n",
       "0   0        5     5037                  0.0                  0.0   \n",
       "1   1        5     5320                  0.0                  0.0   \n",
       "2   2        5     5233                  3.0                  1.0   \n",
       "3   3        5     5232                  0.0                  0.0   \n",
       "4   4        5     5268                  0.0                  0.0   \n",
       "\n",
       "   item_cnt_month_lag3  item_cnt_month_lag6  item_cnt_month_lag12  \n",
       "0                  0.0                  0.0                   0.0  \n",
       "1                  0.0                  0.0                   0.0  \n",
       "2                  2.0                  0.0                   0.0  \n",
       "3                  0.0                  0.0                   0.0  \n",
       "4                  0.0                  0.0                   0.0  "
      ]
     },
     "execution_count": 13,
     "metadata": {},
     "output_type": "execute_result"
    }
   ],
   "source": [
    "X_test.head()"
   ]
  },
  {
   "cell_type": "code",
   "execution_count": 14,
   "metadata": {},
   "outputs": [
    {
     "data": {
      "text/plain": [
       "Index(['shop_id', 'item_id', 'item_cnt_month_lag1', 'item_cnt_month_lag2',\n",
       "       'item_cnt_month_lag3', 'item_cnt_month_lag6', 'item_cnt_month_lag12'],\n",
       "      dtype='object')"
      ]
     },
     "execution_count": 14,
     "metadata": {},
     "output_type": "execute_result"
    }
   ],
   "source": [
    "X_train.columns"
   ]
  },
  {
   "cell_type": "code",
   "execution_count": 15,
   "metadata": {},
   "outputs": [
    {
     "data": {
      "text/plain": [
       "Index(['ID', 'shop_id', 'item_id', 'item_cnt_month_lag1',\n",
       "       'item_cnt_month_lag2', 'item_cnt_month_lag3', 'item_cnt_month_lag6',\n",
       "       'item_cnt_month_lag12'],\n",
       "      dtype='object')"
      ]
     },
     "execution_count": 15,
     "metadata": {},
     "output_type": "execute_result"
    }
   ],
   "source": [
    "X_test.columns"
   ]
  },
  {
   "cell_type": "code",
   "execution_count": 16,
   "metadata": {},
   "outputs": [
    {
     "data": {
      "text/plain": [
       "(214200, 7)"
      ]
     },
     "execution_count": 16,
     "metadata": {},
     "output_type": "execute_result"
    }
   ],
   "source": [
    "X_test = X_test[X_train.columns]\n",
    "X_test.shape"
   ]
  },
  {
   "cell_type": "code",
   "execution_count": 17,
   "metadata": {},
   "outputs": [
    {
     "data": {
      "text/html": [
       "<div>\n",
       "<style scoped>\n",
       "    .dataframe tbody tr th:only-of-type {\n",
       "        vertical-align: middle;\n",
       "    }\n",
       "\n",
       "    .dataframe tbody tr th {\n",
       "        vertical-align: top;\n",
       "    }\n",
       "\n",
       "    .dataframe thead th {\n",
       "        text-align: right;\n",
       "    }\n",
       "</style>\n",
       "<table border=\"1\" class=\"dataframe\">\n",
       "  <thead>\n",
       "    <tr style=\"text-align: right;\">\n",
       "      <th></th>\n",
       "      <th>shop_id</th>\n",
       "      <th>item_id</th>\n",
       "      <th>item_cnt_month_lag1</th>\n",
       "      <th>item_cnt_month_lag2</th>\n",
       "      <th>item_cnt_month_lag3</th>\n",
       "      <th>item_cnt_month_lag6</th>\n",
       "      <th>item_cnt_month_lag12</th>\n",
       "    </tr>\n",
       "  </thead>\n",
       "  <tbody>\n",
       "    <tr>\n",
       "      <th>0</th>\n",
       "      <td>5</td>\n",
       "      <td>5037</td>\n",
       "      <td>0.0</td>\n",
       "      <td>0.0</td>\n",
       "      <td>0.0</td>\n",
       "      <td>0.0</td>\n",
       "      <td>0.0</td>\n",
       "    </tr>\n",
       "    <tr>\n",
       "      <th>1</th>\n",
       "      <td>5</td>\n",
       "      <td>5320</td>\n",
       "      <td>0.0</td>\n",
       "      <td>0.0</td>\n",
       "      <td>0.0</td>\n",
       "      <td>0.0</td>\n",
       "      <td>0.0</td>\n",
       "    </tr>\n",
       "    <tr>\n",
       "      <th>2</th>\n",
       "      <td>5</td>\n",
       "      <td>5233</td>\n",
       "      <td>3.0</td>\n",
       "      <td>1.0</td>\n",
       "      <td>2.0</td>\n",
       "      <td>0.0</td>\n",
       "      <td>0.0</td>\n",
       "    </tr>\n",
       "    <tr>\n",
       "      <th>3</th>\n",
       "      <td>5</td>\n",
       "      <td>5232</td>\n",
       "      <td>0.0</td>\n",
       "      <td>0.0</td>\n",
       "      <td>0.0</td>\n",
       "      <td>0.0</td>\n",
       "      <td>0.0</td>\n",
       "    </tr>\n",
       "    <tr>\n",
       "      <th>4</th>\n",
       "      <td>5</td>\n",
       "      <td>5268</td>\n",
       "      <td>0.0</td>\n",
       "      <td>0.0</td>\n",
       "      <td>0.0</td>\n",
       "      <td>0.0</td>\n",
       "      <td>0.0</td>\n",
       "    </tr>\n",
       "  </tbody>\n",
       "</table>\n",
       "</div>"
      ],
      "text/plain": [
       "   shop_id  item_id  item_cnt_month_lag1  item_cnt_month_lag2  \\\n",
       "0        5     5037                  0.0                  0.0   \n",
       "1        5     5320                  0.0                  0.0   \n",
       "2        5     5233                  3.0                  1.0   \n",
       "3        5     5232                  0.0                  0.0   \n",
       "4        5     5268                  0.0                  0.0   \n",
       "\n",
       "   item_cnt_month_lag3  item_cnt_month_lag6  item_cnt_month_lag12  \n",
       "0                  0.0                  0.0                   0.0  \n",
       "1                  0.0                  0.0                   0.0  \n",
       "2                  2.0                  0.0                   0.0  \n",
       "3                  0.0                  0.0                   0.0  \n",
       "4                  0.0                  0.0                   0.0  "
      ]
     },
     "execution_count": 17,
     "metadata": {},
     "output_type": "execute_result"
    }
   ],
   "source": [
    "X_test.head()"
   ]
  },
  {
   "cell_type": "markdown",
   "metadata": {},
   "source": [
    "## Linear Regression"
   ]
  },
  {
   "cell_type": "code",
   "execution_count": 18,
   "metadata": {},
   "outputs": [],
   "source": [
    "# Import necessary modules\n",
    "from sklearn.linear_model import LinearRegression\n",
    "from sklearn.metrics import mean_squared_error\n",
    "from sklearn.model_selection import cross_val_score"
   ]
  },
  {
   "cell_type": "code",
   "execution_count": 19,
   "metadata": {},
   "outputs": [],
   "source": [
    "# Create a linear regressor\n",
    "linreg = LinearRegression()\n",
    "\n",
    "# Fit the regressor to the trainign data\n",
    "linreg.fit(X_train, y_train)\n",
    "\n",
    "# make a dictionry to store cross val scores from each estimator\n",
    "cscores = {}\n",
    "cscores_means = {}\n",
    "\n",
    "cross_validation_scores= cross_val_score(linreg, X_train, y_train, cv=5, scoring=\"r2\") "
   ]
  },
  {
   "cell_type": "code",
   "execution_count": 20,
   "metadata": {},
   "outputs": [
    {
     "name": "stdout",
     "output_type": "stream",
     "text": [
      "5-fold cross validation scores for Linear Regression:  [0.7347294  0.78872197 0.74010816 0.68682782 0.35517122]\n",
      "Mean R^2: 0.661111714969716\n"
     ]
    }
   ],
   "source": [
    "# store them  in the dictionary\n",
    "cscores[\"Linear Regression\"] = list(cross_validation_scores)\n",
    "cscores_means[\"Linear Regression\"] = np.mean(cross_validation_scores)\n",
    "\n",
    "print(\"5-fold cross validation scores for Linear Regression: \", cross_validation_scores)\n",
    "print(\"Mean R^2: {}\".format(np.mean(cross_validation_scores)))"
   ]
  },
  {
   "cell_type": "code",
   "execution_count": 21,
   "metadata": {},
   "outputs": [],
   "source": [
    "# Predict on the validation data\n",
    "y_pred = linreg.predict(X_validation)\n",
    "\n",
    "# make a dictionary to store rmse from each estimator\n",
    "rmse_dict = {}\n",
    "\n",
    "rmse_dict[\"Linear Regression\"] = np.sqrt(mean_squared_error(y_validation, y_pred))"
   ]
  },
  {
   "cell_type": "markdown",
   "metadata": {},
   "source": [
    "## Ridge Regression"
   ]
  },
  {
   "cell_type": "code",
   "execution_count": 22,
   "metadata": {},
   "outputs": [],
   "source": [
    "from sklearn.linear_model import Ridge"
   ]
  },
  {
   "cell_type": "code",
   "execution_count": 23,
   "metadata": {},
   "outputs": [],
   "source": [
    "ridge = Ridge(normalize=True, random_state=42)\n",
    "\n",
    "ridge.fit(X_train, y_train)\n",
    "\n",
    "cross_validation_scores= cross_val_score(ridge, X_train, y_train, cv=5, scoring=\"r2\")"
   ]
  },
  {
   "cell_type": "code",
   "execution_count": 24,
   "metadata": {},
   "outputs": [
    {
     "name": "stdout",
     "output_type": "stream",
     "text": [
      "5-fold cross validation scores for Ridge Regression:  [0.72475486 0.75482484 0.68116293 0.61779844 0.36735335]\n",
      "Mean R^2: 0.6291788834612495\n"
     ]
    }
   ],
   "source": [
    "cscores['Ridge Regression'] = list(cross_validation_scores)\n",
    "cscores_means['Ridge Regression'] = np.mean(cross_validation_scores)\n",
    "\n",
    "print(\"5-fold cross validation scores for Ridge Regression: \", cross_validation_scores)\n",
    "print(\"Mean R^2: {}\".format(np.mean(cross_validation_scores)))"
   ]
  },
  {
   "cell_type": "code",
   "execution_count": 25,
   "metadata": {},
   "outputs": [],
   "source": [
    "# Predict on the validation data\n",
    "y_pred = ridge.predict(X_validation)\n",
    "\n",
    "rmse_dict[\"Ridge Regression\"] = np.sqrt(mean_squared_error(y_validation, y_pred))"
   ]
  },
  {
   "cell_type": "markdown",
   "metadata": {},
   "source": [
    "## Lasso Regression"
   ]
  },
  {
   "cell_type": "code",
   "execution_count": 26,
   "metadata": {},
   "outputs": [],
   "source": [
    "from sklearn.linear_model import Lasso"
   ]
  },
  {
   "cell_type": "code",
   "execution_count": 27,
   "metadata": {},
   "outputs": [],
   "source": [
    "lasso = Lasso(normalize=True, random_state=42)\n",
    "\n",
    "lasso.fit(X_train, y_train)\n",
    "\n",
    "cross_validation_scores= cross_val_score(lasso, X_train, y_train, cv=5, scoring=\"r2\")"
   ]
  },
  {
   "cell_type": "code",
   "execution_count": 28,
   "metadata": {},
   "outputs": [
    {
     "name": "stdout",
     "output_type": "stream",
     "text": [
      "5-fold cross validation scores for Lasso Regression:  [-4.36382590e-04 -4.84159121e-04 -4.94544368e-05 -1.21216363e-03\n",
      " -3.50770878e-06]\n",
      "Mean R^2: -0.0004371334970727059\n"
     ]
    }
   ],
   "source": [
    "cscores['Lasso Regression'] = list(cross_validation_scores)\n",
    "cscores_means['Lasso Regression'] = np.mean(cross_validation_scores)\n",
    "\n",
    "print(\"5-fold cross validation scores for Lasso Regression: \", cross_validation_scores)\n",
    "print(\"Mean R^2: {}\".format(np.mean(cross_validation_scores)))"
   ]
  },
  {
   "cell_type": "code",
   "execution_count": 29,
   "metadata": {},
   "outputs": [],
   "source": [
    "# Predict on the validation data\n",
    "y_pred = lasso.predict(X_validation)\n",
    "\n",
    "rmse_dict[\"Lasso Regression\"] = np.sqrt(mean_squared_error(y_validation, y_pred))"
   ]
  },
  {
   "cell_type": "markdown",
   "metadata": {},
   "source": [
    "## Decision Tree"
   ]
  },
  {
   "cell_type": "code",
   "execution_count": 30,
   "metadata": {},
   "outputs": [],
   "source": [
    "from sklearn import tree"
   ]
  },
  {
   "cell_type": "code",
   "execution_count": 31,
   "metadata": {},
   "outputs": [],
   "source": [
    "dt = tree.DecisionTreeRegressor(random_state=42)\n",
    "\n",
    "dt.fit(X_train, y_train)\n",
    "\n",
    "cross_validation_scores= cross_val_score(dt, X_train, y_train, cv=5, scoring=\"r2\")"
   ]
  },
  {
   "cell_type": "code",
   "execution_count": 32,
   "metadata": {},
   "outputs": [
    {
     "name": "stdout",
     "output_type": "stream",
     "text": [
      "5-fold cross validation scores for Decison Tree:  [0.5710347  0.61344177 0.53583615 0.60641432 0.18568558]\n",
      "Mean R^2: 0.5024825050488818\n"
     ]
    }
   ],
   "source": [
    "cscores['Decision Tree'] = list(cross_validation_scores)\n",
    "cscores_means['Decision Tree'] = np.mean(cross_validation_scores)\n",
    "\n",
    "print(\"5-fold cross validation scores for Decison Tree: \", cross_validation_scores)\n",
    "print(\"Mean R^2: {}\".format(np.mean(cross_validation_scores)))"
   ]
  },
  {
   "cell_type": "code",
   "execution_count": 33,
   "metadata": {},
   "outputs": [],
   "source": [
    "# Predict on the validation data\n",
    "y_pred = dt.predict(X_validation)\n",
    "\n",
    "rmse_dict[\"Decision Tree\"] = np.sqrt(mean_squared_error(y_validation, y_pred))"
   ]
  },
  {
   "cell_type": "markdown",
   "metadata": {},
   "source": [
    "## Bagging Regressor"
   ]
  },
  {
   "cell_type": "code",
   "execution_count": 34,
   "metadata": {},
   "outputs": [],
   "source": [
    "from sklearn.ensemble import BaggingRegressor"
   ]
  },
  {
   "cell_type": "code",
   "execution_count": 35,
   "metadata": {},
   "outputs": [],
   "source": [
    "bag = BaggingRegressor(random_state=42)\n",
    "\n",
    "bag.fit(X_train, y_train)\n",
    "\n",
    "cross_validation_scores= cross_val_score(bag, X_train, y_train, cv=5, scoring=\"r2\")"
   ]
  },
  {
   "cell_type": "code",
   "execution_count": 36,
   "metadata": {},
   "outputs": [
    {
     "name": "stdout",
     "output_type": "stream",
     "text": [
      "5-fold cross validation scores for Bagging Tree:  [0.6426729  0.73759897 0.71777498 0.68703943 0.34209103]\n",
      "Mean R^2: 0.6254354604666371\n"
     ]
    }
   ],
   "source": [
    "cscores['Bagging Tree'] = list(cross_validation_scores)\n",
    "cscores_means['Bagging Tree'] = np.mean(cross_validation_scores)\n",
    "\n",
    "print(\"5-fold cross validation scores for Bagging Tree: \", cross_validation_scores)\n",
    "print(\"Mean R^2: {}\".format(np.mean(cross_validation_scores)))"
   ]
  },
  {
   "cell_type": "code",
   "execution_count": 37,
   "metadata": {},
   "outputs": [],
   "source": [
    "# Predict on the validation data\n",
    "y_pred = bag.predict(X_validation)\n",
    "\n",
    "rmse_dict[\"Bagging Tree\"] = np.sqrt(mean_squared_error(y_validation, y_pred))"
   ]
  },
  {
   "cell_type": "markdown",
   "metadata": {},
   "source": [
    "## Random Forest "
   ]
  },
  {
   "cell_type": "code",
   "execution_count": 38,
   "metadata": {},
   "outputs": [],
   "source": [
    "from sklearn.ensemble import RandomForestRegressor"
   ]
  },
  {
   "cell_type": "code",
   "execution_count": 39,
   "metadata": {},
   "outputs": [
    {
     "name": "stderr",
     "output_type": "stream",
     "text": [
      "C:\\Users\\Pankaj\\Anaconda3\\lib\\site-packages\\sklearn\\ensemble\\forest.py:246: FutureWarning: The default value of n_estimators will change from 10 in version 0.20 to 100 in 0.22.\n",
      "  \"10 in version 0.20 to 100 in 0.22.\", FutureWarning)\n"
     ]
    }
   ],
   "source": [
    "rfr = RandomForestRegressor(random_state=42)\n",
    "rfr.fit(X_train, y_train)\n",
    "\n",
    "cross_validation_scores= cross_val_score(rfr, X_train, y_train, cv=5, scoring=\"r2\")"
   ]
  },
  {
   "cell_type": "code",
   "execution_count": 40,
   "metadata": {},
   "outputs": [
    {
     "name": "stdout",
     "output_type": "stream",
     "text": [
      "5-fold cross validation scores for Random Forest:  [0.64142188 0.74072247 0.71893137 0.68446417 0.34801286]\n",
      "Mean R^2: 0.626710548598983\n"
     ]
    }
   ],
   "source": [
    "cscores['Random Forest'] = list(cross_validation_scores)\n",
    "cscores_means['Random Forest'] = np.mean(cross_validation_scores)\n",
    "\n",
    "print(\"5-fold cross validation scores for Random Forest: \", cross_validation_scores)\n",
    "print(\"Mean R^2: {}\".format(np.mean(cross_validation_scores)))"
   ]
  },
  {
   "cell_type": "code",
   "execution_count": 41,
   "metadata": {},
   "outputs": [],
   "source": [
    "# Predict on the validation data\n",
    "y_pred = rfr.predict(X_validation)\n",
    "\n",
    "rmse_dict[\"Random Forest\"] = np.sqrt(mean_squared_error(y_validation, y_pred))"
   ]
  },
  {
   "cell_type": "markdown",
   "metadata": {},
   "source": [
    "## Adaptive Boost Regressor "
   ]
  },
  {
   "cell_type": "code",
   "execution_count": 42,
   "metadata": {},
   "outputs": [],
   "source": [
    "from sklearn.ensemble import AdaBoostRegressor"
   ]
  },
  {
   "cell_type": "code",
   "execution_count": 43,
   "metadata": {},
   "outputs": [],
   "source": [
    "abr = AdaBoostRegressor(random_state=42)\n",
    "abr.fit(X_train, y_train)\n",
    "\n",
    "cross_validation_scores= cross_val_score(abr, X_train, y_train, cv=5, scoring=\"r2\")"
   ]
  },
  {
   "cell_type": "code",
   "execution_count": 44,
   "metadata": {},
   "outputs": [
    {
     "name": "stdout",
     "output_type": "stream",
     "text": [
      "5-fold cross validation scores for Adaptive Boost Regression:  [  0.43299597   0.15127001   0.14416066   0.467402   -17.49830372]\n",
      "Mean R^2: -3.260495016655485\n"
     ]
    }
   ],
   "source": [
    "cscores['Adaptive Boost'] = list(cross_validation_scores)\n",
    "cscores_means['Adaptive Boost'] = np.mean(cross_validation_scores)\n",
    "\n",
    "print(\"5-fold cross validation scores for Adaptive Boost Regression: \", cross_validation_scores)\n",
    "print(\"Mean R^2: {}\".format(np.mean(cross_validation_scores)))"
   ]
  },
  {
   "cell_type": "code",
   "execution_count": 45,
   "metadata": {},
   "outputs": [],
   "source": [
    "# Predict on the validation data\n",
    "y_pred = abr.predict(X_validation)\n",
    "\n",
    "rmse_dict[\"Adaptive Boost\"] = np.sqrt(mean_squared_error(y_validation, y_pred))"
   ]
  },
  {
   "cell_type": "markdown",
   "metadata": {},
   "source": [
    "## Gradient Boost Regressor "
   ]
  },
  {
   "cell_type": "code",
   "execution_count": 46,
   "metadata": {},
   "outputs": [],
   "source": [
    "from sklearn.ensemble import GradientBoostingRegressor"
   ]
  },
  {
   "cell_type": "code",
   "execution_count": 47,
   "metadata": {},
   "outputs": [],
   "source": [
    "gbr = GradientBoostingRegressor(random_state=42)\n",
    "gbr.fit(X_train, y_train)\n",
    "\n",
    "cross_validation_scores= cross_val_score(gbr, X_train, y_train, cv=5, scoring=\"r2\")"
   ]
  },
  {
   "cell_type": "code",
   "execution_count": 48,
   "metadata": {},
   "outputs": [
    {
     "name": "stdout",
     "output_type": "stream",
     "text": [
      "5-fold cross validation scores for Gradient Boost Regression:  [0.75128461 0.8071292  0.7535773  0.69568235 0.38060628]\n",
      "Mean R^2: 0.6776559475632237\n"
     ]
    }
   ],
   "source": [
    "cscores['Gradient Boost'] = list(cross_validation_scores)\n",
    "cscores_means['Gradient Boost'] = np.mean(cross_validation_scores)\n",
    "\n",
    "print(\"5-fold cross validation scores for Gradient Boost Regression: \", cross_validation_scores)\n",
    "print(\"Mean R^2: {}\".format(np.mean(cross_validation_scores)))"
   ]
  },
  {
   "cell_type": "code",
   "execution_count": 49,
   "metadata": {},
   "outputs": [],
   "source": [
    "# Predict on the validation data\n",
    "y_pred = gbr.predict(X_validation)\n",
    "\n",
    "rmse_dict[\"Gradient Boost\"] = np.sqrt(mean_squared_error(y_validation, y_pred))"
   ]
  },
  {
   "cell_type": "markdown",
   "metadata": {},
   "source": [
    "## XGBoost"
   ]
  },
  {
   "cell_type": "code",
   "execution_count": 50,
   "metadata": {},
   "outputs": [],
   "source": [
    "import xgboost as xgb"
   ]
  },
  {
   "cell_type": "code",
   "execution_count": 51,
   "metadata": {},
   "outputs": [
    {
     "name": "stderr",
     "output_type": "stream",
     "text": [
      "C:\\Users\\Pankaj\\Anaconda3\\lib\\site-packages\\xgboost\\core.py:587: FutureWarning: Series.base is deprecated and will be removed in a future version\n",
      "  if getattr(data, 'base', None) is not None and \\\n",
      "C:\\Users\\Pankaj\\Anaconda3\\lib\\site-packages\\xgboost\\core.py:588: FutureWarning: Series.base is deprecated and will be removed in a future version\n",
      "  data.base is not None and isinstance(data, np.ndarray) \\\n",
      "C:\\Users\\Pankaj\\Anaconda3\\lib\\site-packages\\xgboost\\core.py:587: FutureWarning: Series.base is deprecated and will be removed in a future version\n",
      "  if getattr(data, 'base', None) is not None and \\\n",
      "C:\\Users\\Pankaj\\Anaconda3\\lib\\site-packages\\xgboost\\core.py:587: FutureWarning: Series.base is deprecated and will be removed in a future version\n",
      "  if getattr(data, 'base', None) is not None and \\\n",
      "C:\\Users\\Pankaj\\Anaconda3\\lib\\site-packages\\xgboost\\core.py:587: FutureWarning: Series.base is deprecated and will be removed in a future version\n",
      "  if getattr(data, 'base', None) is not None and \\\n",
      "C:\\Users\\Pankaj\\Anaconda3\\lib\\site-packages\\xgboost\\core.py:587: FutureWarning: Series.base is deprecated and will be removed in a future version\n",
      "  if getattr(data, 'base', None) is not None and \\\n"
     ]
    }
   ],
   "source": [
    "xg_reg = xgb.XGBRegressor(random_state=42)\n",
    "xg_reg.fit(X_train, y_train)\n",
    "\n",
    "\n",
    "cross_validation_scores= cross_val_score(xg_reg, X_train, y_train, cv=5, scoring=\"r2\")"
   ]
  },
  {
   "cell_type": "code",
   "execution_count": 52,
   "metadata": {},
   "outputs": [
    {
     "name": "stdout",
     "output_type": "stream",
     "text": [
      "5-fold cross validation scores for XGBoosting:  [0.74139231 0.7998444  0.75198391 0.69813629 0.3814746 ]\n",
      "Mean R^2: 0.6745663011061109\n"
     ]
    }
   ],
   "source": [
    "cscores['XGBoosting'] = list(cross_validation_scores)\n",
    "cscores_means['XGBoosting'] = np.mean(cross_validation_scores)\n",
    "\n",
    "print(\"5-fold cross validation scores for XGBoosting: \", cross_validation_scores)\n",
    "print(\"Mean R^2: {}\".format(np.mean(cross_validation_scores)))"
   ]
  },
  {
   "cell_type": "code",
   "execution_count": 53,
   "metadata": {},
   "outputs": [],
   "source": [
    "# Predict on the validation data\n",
    "y_pred = xg_reg.predict(X_validation)\n",
    "\n",
    "rmse_dict[\"XGBoosting\"] = np.sqrt(mean_squared_error(y_validation, y_pred))"
   ]
  },
  {
   "cell_type": "markdown",
   "metadata": {},
   "source": [
    "## LightGBM"
   ]
  },
  {
   "cell_type": "code",
   "execution_count": 54,
   "metadata": {},
   "outputs": [],
   "source": [
    "import lightgbm as lgb"
   ]
  },
  {
   "cell_type": "code",
   "execution_count": 55,
   "metadata": {},
   "outputs": [],
   "source": [
    "lgb_reg = lgb.LGBMRegressor(random_state=42)\n",
    "lgb_reg.fit(X_train, y_train)\n",
    "\n",
    "\n",
    "cross_validation_scores= cross_val_score(lgb_reg, X_train, y_train, cv=5, scoring=\"r2\")"
   ]
  },
  {
   "cell_type": "code",
   "execution_count": 56,
   "metadata": {},
   "outputs": [
    {
     "name": "stdout",
     "output_type": "stream",
     "text": [
      "5-fold cross validation scores for LightGBM:  [0.69463449 0.77211926 0.73183541 0.68423465 0.38452759]\n",
      "Mean R^2: 0.6534702808829487\n"
     ]
    }
   ],
   "source": [
    "cscores['LightGBM'] = list(cross_validation_scores)\n",
    "cscores_means['LightGBM'] = np.mean(cross_validation_scores)\n",
    "\n",
    "print(\"5-fold cross validation scores for LightGBM: \", cross_validation_scores)\n",
    "print(\"Mean R^2: {}\".format(np.mean(cross_validation_scores)))"
   ]
  },
  {
   "cell_type": "code",
   "execution_count": 57,
   "metadata": {},
   "outputs": [],
   "source": [
    "# Predict on the validation data\n",
    "y_pred = lgb_reg.predict(X_validation)\n",
    "\n",
    "rmse_dict[\"LightGBM\"] = np.sqrt(mean_squared_error(y_validation, y_pred))"
   ]
  },
  {
   "cell_type": "code",
   "execution_count": 58,
   "metadata": {},
   "outputs": [
    {
     "data": {
      "text/plain": [
       "{'Linear Regression': [0.7347294008523426,\n",
       "  0.7887219719256653,\n",
       "  0.7401081625046291,\n",
       "  0.6868278184930344,\n",
       "  0.35517122107290866],\n",
       " 'Ridge Regression': [0.7247548611721013,\n",
       "  0.7548248385077589,\n",
       "  0.6811629285424119,\n",
       "  0.6177984367660057,\n",
       "  0.36735335231796973],\n",
       " 'Lasso Regression': [-0.00043638259007772184,\n",
       "  -0.00048415912117372173,\n",
       "  -4.945443682990991e-05,\n",
       "  -0.0012121636285038484,\n",
       "  -3.507708778327512e-06],\n",
       " 'Decision Tree': [0.5710347026767146,\n",
       "  0.6134417718162082,\n",
       "  0.5358361544942194,\n",
       "  0.6064143175481598,\n",
       "  0.1856855787091073],\n",
       " 'Bagging Tree': [0.6426728967383186,\n",
       "  0.7375989717423909,\n",
       "  0.7177749756404138,\n",
       "  0.6870394280384875,\n",
       "  0.3420910301735749],\n",
       " 'Random Forest': [0.6414218807133164,\n",
       "  0.7407224675994993,\n",
       "  0.7189313661515362,\n",
       "  0.6844641678411972,\n",
       "  0.3480128606893659],\n",
       " 'Adaptive Boost': [0.4329959654011327,\n",
       "  0.15127000589003392,\n",
       "  0.1441606636740076,\n",
       "  0.46740200308317925,\n",
       "  -17.49830372132578],\n",
       " 'Gradient Boost': [0.7512846067033102,\n",
       "  0.8071292007736355,\n",
       "  0.7535772959019024,\n",
       "  0.6956823532558183,\n",
       "  0.38060628118145146],\n",
       " 'XGBoosting': [0.7413923060903382,\n",
       "  0.7998444032115869,\n",
       "  0.7519839053959014,\n",
       "  0.6981362888934057,\n",
       "  0.38147460193932226],\n",
       " 'LightGBM': [0.6946344928111345,\n",
       "  0.7721192573249995,\n",
       "  0.7318354124828284,\n",
       "  0.684234652330661,\n",
       "  0.3845275894651198]}"
      ]
     },
     "execution_count": 58,
     "metadata": {},
     "output_type": "execute_result"
    }
   ],
   "source": [
    "cscores"
   ]
  },
  {
   "cell_type": "code",
   "execution_count": 59,
   "metadata": {},
   "outputs": [
    {
     "data": {
      "text/plain": [
       "{'Linear Regression': 1.349140588520255,\n",
       " 'Ridge Regression': 1.3516762715640174,\n",
       " 'Lasso Regression': 2.4531768511027647,\n",
       " 'Decision Tree': 1.934200057872973,\n",
       " 'Bagging Tree': 1.5428340401124976,\n",
       " 'Random Forest': 1.5317249671710738,\n",
       " 'Adaptive Boost': 2.512667756572795,\n",
       " 'Gradient Boost': 1.5058270741864581,\n",
       " 'XGBoosting': 1.5005163855410986,\n",
       " 'LightGBM': 1.5463498989370228}"
      ]
     },
     "execution_count": 59,
     "metadata": {},
     "output_type": "execute_result"
    }
   ],
   "source": [
    "rmse_dict"
   ]
  },
  {
   "cell_type": "code",
   "execution_count": 60,
   "metadata": {},
   "outputs": [],
   "source": [
    "index = [0]\n",
    "cscores_means_df = pd.DataFrame(cscores_means, index=index)\n",
    "rmse_df = pd.DataFrame(rmse_dict, index=index)"
   ]
  },
  {
   "cell_type": "code",
   "execution_count": 61,
   "metadata": {},
   "outputs": [
    {
     "data": {
      "text/html": [
       "<div>\n",
       "<style scoped>\n",
       "    .dataframe tbody tr th:only-of-type {\n",
       "        vertical-align: middle;\n",
       "    }\n",
       "\n",
       "    .dataframe tbody tr th {\n",
       "        vertical-align: top;\n",
       "    }\n",
       "\n",
       "    .dataframe thead th {\n",
       "        text-align: right;\n",
       "    }\n",
       "</style>\n",
       "<table border=\"1\" class=\"dataframe\">\n",
       "  <thead>\n",
       "    <tr style=\"text-align: right;\">\n",
       "      <th></th>\n",
       "      <th>Linear Regression</th>\n",
       "      <th>Ridge Regression</th>\n",
       "      <th>Lasso Regression</th>\n",
       "      <th>Decision Tree</th>\n",
       "      <th>Bagging Tree</th>\n",
       "      <th>Random Forest</th>\n",
       "      <th>Adaptive Boost</th>\n",
       "      <th>Gradient Boost</th>\n",
       "      <th>XGBoosting</th>\n",
       "      <th>LightGBM</th>\n",
       "    </tr>\n",
       "  </thead>\n",
       "  <tbody>\n",
       "    <tr>\n",
       "      <th>0</th>\n",
       "      <td>0.661112</td>\n",
       "      <td>0.629179</td>\n",
       "      <td>-0.000437</td>\n",
       "      <td>0.502483</td>\n",
       "      <td>0.625435</td>\n",
       "      <td>0.626711</td>\n",
       "      <td>-3.260495</td>\n",
       "      <td>0.677656</td>\n",
       "      <td>0.674566</td>\n",
       "      <td>0.65347</td>\n",
       "    </tr>\n",
       "  </tbody>\n",
       "</table>\n",
       "</div>"
      ],
      "text/plain": [
       "   Linear Regression  Ridge Regression  Lasso Regression  Decision Tree  \\\n",
       "0           0.661112          0.629179         -0.000437       0.502483   \n",
       "\n",
       "   Bagging Tree  Random Forest  Adaptive Boost  Gradient Boost  XGBoosting  \\\n",
       "0      0.625435       0.626711       -3.260495        0.677656    0.674566   \n",
       "\n",
       "   LightGBM  \n",
       "0   0.65347  "
      ]
     },
     "execution_count": 61,
     "metadata": {},
     "output_type": "execute_result"
    }
   ],
   "source": [
    "cscores_means_df"
   ]
  },
  {
   "cell_type": "code",
   "execution_count": 62,
   "metadata": {},
   "outputs": [
    {
     "data": {
      "text/html": [
       "<div>\n",
       "<style scoped>\n",
       "    .dataframe tbody tr th:only-of-type {\n",
       "        vertical-align: middle;\n",
       "    }\n",
       "\n",
       "    .dataframe tbody tr th {\n",
       "        vertical-align: top;\n",
       "    }\n",
       "\n",
       "    .dataframe thead th {\n",
       "        text-align: right;\n",
       "    }\n",
       "</style>\n",
       "<table border=\"1\" class=\"dataframe\">\n",
       "  <thead>\n",
       "    <tr style=\"text-align: right;\">\n",
       "      <th></th>\n",
       "      <th>Linear Regression</th>\n",
       "      <th>Ridge Regression</th>\n",
       "      <th>Lasso Regression</th>\n",
       "      <th>Decision Tree</th>\n",
       "      <th>Bagging Tree</th>\n",
       "      <th>Random Forest</th>\n",
       "      <th>Adaptive Boost</th>\n",
       "      <th>Gradient Boost</th>\n",
       "      <th>XGBoosting</th>\n",
       "      <th>LightGBM</th>\n",
       "    </tr>\n",
       "  </thead>\n",
       "  <tbody>\n",
       "    <tr>\n",
       "      <th>0</th>\n",
       "      <td>1.349141</td>\n",
       "      <td>1.351676</td>\n",
       "      <td>2.453177</td>\n",
       "      <td>1.9342</td>\n",
       "      <td>1.542834</td>\n",
       "      <td>1.531725</td>\n",
       "      <td>2.512668</td>\n",
       "      <td>1.505827</td>\n",
       "      <td>1.500516</td>\n",
       "      <td>1.54635</td>\n",
       "    </tr>\n",
       "  </tbody>\n",
       "</table>\n",
       "</div>"
      ],
      "text/plain": [
       "   Linear Regression  Ridge Regression  Lasso Regression  Decision Tree  \\\n",
       "0           1.349141          1.351676          2.453177         1.9342   \n",
       "\n",
       "   Bagging Tree  Random Forest  Adaptive Boost  Gradient Boost  XGBoosting  \\\n",
       "0      1.542834       1.531725        2.512668        1.505827    1.500516   \n",
       "\n",
       "   LightGBM  \n",
       "0   1.54635  "
      ]
     },
     "execution_count": 62,
     "metadata": {},
     "output_type": "execute_result"
    }
   ],
   "source": [
    "rmse_df"
   ]
  },
  {
   "cell_type": "code",
   "execution_count": 63,
   "metadata": {},
   "outputs": [
    {
     "data": {
      "text/html": [
       "<div>\n",
       "<style scoped>\n",
       "    .dataframe tbody tr th:only-of-type {\n",
       "        vertical-align: middle;\n",
       "    }\n",
       "\n",
       "    .dataframe tbody tr th {\n",
       "        vertical-align: top;\n",
       "    }\n",
       "\n",
       "    .dataframe thead th {\n",
       "        text-align: right;\n",
       "    }\n",
       "</style>\n",
       "<table border=\"1\" class=\"dataframe\">\n",
       "  <thead>\n",
       "    <tr style=\"text-align: right;\">\n",
       "      <th></th>\n",
       "      <th>0</th>\n",
       "    </tr>\n",
       "  </thead>\n",
       "  <tbody>\n",
       "    <tr>\n",
       "      <th>Linear Regression</th>\n",
       "      <td>0.661112</td>\n",
       "    </tr>\n",
       "    <tr>\n",
       "      <th>Ridge Regression</th>\n",
       "      <td>0.629179</td>\n",
       "    </tr>\n",
       "    <tr>\n",
       "      <th>Lasso Regression</th>\n",
       "      <td>-0.000437</td>\n",
       "    </tr>\n",
       "    <tr>\n",
       "      <th>Decision Tree</th>\n",
       "      <td>0.502483</td>\n",
       "    </tr>\n",
       "    <tr>\n",
       "      <th>Bagging Tree</th>\n",
       "      <td>0.625435</td>\n",
       "    </tr>\n",
       "    <tr>\n",
       "      <th>Random Forest</th>\n",
       "      <td>0.626711</td>\n",
       "    </tr>\n",
       "    <tr>\n",
       "      <th>Adaptive Boost</th>\n",
       "      <td>-3.260495</td>\n",
       "    </tr>\n",
       "    <tr>\n",
       "      <th>Gradient Boost</th>\n",
       "      <td>0.677656</td>\n",
       "    </tr>\n",
       "    <tr>\n",
       "      <th>XGBoosting</th>\n",
       "      <td>0.674566</td>\n",
       "    </tr>\n",
       "    <tr>\n",
       "      <th>LightGBM</th>\n",
       "      <td>0.653470</td>\n",
       "    </tr>\n",
       "  </tbody>\n",
       "</table>\n",
       "</div>"
      ],
      "text/plain": [
       "                          0\n",
       "Linear Regression  0.661112\n",
       "Ridge Regression   0.629179\n",
       "Lasso Regression  -0.000437\n",
       "Decision Tree      0.502483\n",
       "Bagging Tree       0.625435\n",
       "Random Forest      0.626711\n",
       "Adaptive Boost    -3.260495\n",
       "Gradient Boost     0.677656\n",
       "XGBoosting         0.674566\n",
       "LightGBM           0.653470"
      ]
     },
     "execution_count": 63,
     "metadata": {},
     "output_type": "execute_result"
    }
   ],
   "source": [
    "cscores_means_df = cscores_means_df.T\n",
    "cscores_means_df"
   ]
  },
  {
   "cell_type": "code",
   "execution_count": 64,
   "metadata": {},
   "outputs": [
    {
     "data": {
      "text/html": [
       "<div>\n",
       "<style scoped>\n",
       "    .dataframe tbody tr th:only-of-type {\n",
       "        vertical-align: middle;\n",
       "    }\n",
       "\n",
       "    .dataframe tbody tr th {\n",
       "        vertical-align: top;\n",
       "    }\n",
       "\n",
       "    .dataframe thead th {\n",
       "        text-align: right;\n",
       "    }\n",
       "</style>\n",
       "<table border=\"1\" class=\"dataframe\">\n",
       "  <thead>\n",
       "    <tr style=\"text-align: right;\">\n",
       "      <th></th>\n",
       "      <th>r2</th>\n",
       "    </tr>\n",
       "  </thead>\n",
       "  <tbody>\n",
       "    <tr>\n",
       "      <th>Linear Regression</th>\n",
       "      <td>0.661112</td>\n",
       "    </tr>\n",
       "    <tr>\n",
       "      <th>Ridge Regression</th>\n",
       "      <td>0.629179</td>\n",
       "    </tr>\n",
       "    <tr>\n",
       "      <th>Lasso Regression</th>\n",
       "      <td>-0.000437</td>\n",
       "    </tr>\n",
       "    <tr>\n",
       "      <th>Decision Tree</th>\n",
       "      <td>0.502483</td>\n",
       "    </tr>\n",
       "    <tr>\n",
       "      <th>Bagging Tree</th>\n",
       "      <td>0.625435</td>\n",
       "    </tr>\n",
       "    <tr>\n",
       "      <th>Random Forest</th>\n",
       "      <td>0.626711</td>\n",
       "    </tr>\n",
       "    <tr>\n",
       "      <th>Adaptive Boost</th>\n",
       "      <td>-3.260495</td>\n",
       "    </tr>\n",
       "    <tr>\n",
       "      <th>Gradient Boost</th>\n",
       "      <td>0.677656</td>\n",
       "    </tr>\n",
       "    <tr>\n",
       "      <th>XGBoosting</th>\n",
       "      <td>0.674566</td>\n",
       "    </tr>\n",
       "    <tr>\n",
       "      <th>LightGBM</th>\n",
       "      <td>0.653470</td>\n",
       "    </tr>\n",
       "  </tbody>\n",
       "</table>\n",
       "</div>"
      ],
      "text/plain": [
       "                         r2\n",
       "Linear Regression  0.661112\n",
       "Ridge Regression   0.629179\n",
       "Lasso Regression  -0.000437\n",
       "Decision Tree      0.502483\n",
       "Bagging Tree       0.625435\n",
       "Random Forest      0.626711\n",
       "Adaptive Boost    -3.260495\n",
       "Gradient Boost     0.677656\n",
       "XGBoosting         0.674566\n",
       "LightGBM           0.653470"
      ]
     },
     "execution_count": 64,
     "metadata": {},
     "output_type": "execute_result"
    }
   ],
   "source": [
    "cscores_means_df.columns = ['r2']\n",
    "cscores_means_df"
   ]
  },
  {
   "cell_type": "code",
   "execution_count": 65,
   "metadata": {},
   "outputs": [
    {
     "data": {
      "text/html": [
       "<div>\n",
       "<style scoped>\n",
       "    .dataframe tbody tr th:only-of-type {\n",
       "        vertical-align: middle;\n",
       "    }\n",
       "\n",
       "    .dataframe tbody tr th {\n",
       "        vertical-align: top;\n",
       "    }\n",
       "\n",
       "    .dataframe thead th {\n",
       "        text-align: right;\n",
       "    }\n",
       "</style>\n",
       "<table border=\"1\" class=\"dataframe\">\n",
       "  <thead>\n",
       "    <tr style=\"text-align: right;\">\n",
       "      <th></th>\n",
       "      <th>0</th>\n",
       "    </tr>\n",
       "  </thead>\n",
       "  <tbody>\n",
       "    <tr>\n",
       "      <th>Linear Regression</th>\n",
       "      <td>1.349141</td>\n",
       "    </tr>\n",
       "    <tr>\n",
       "      <th>Ridge Regression</th>\n",
       "      <td>1.351676</td>\n",
       "    </tr>\n",
       "    <tr>\n",
       "      <th>Lasso Regression</th>\n",
       "      <td>2.453177</td>\n",
       "    </tr>\n",
       "    <tr>\n",
       "      <th>Decision Tree</th>\n",
       "      <td>1.934200</td>\n",
       "    </tr>\n",
       "    <tr>\n",
       "      <th>Bagging Tree</th>\n",
       "      <td>1.542834</td>\n",
       "    </tr>\n",
       "    <tr>\n",
       "      <th>Random Forest</th>\n",
       "      <td>1.531725</td>\n",
       "    </tr>\n",
       "    <tr>\n",
       "      <th>Adaptive Boost</th>\n",
       "      <td>2.512668</td>\n",
       "    </tr>\n",
       "    <tr>\n",
       "      <th>Gradient Boost</th>\n",
       "      <td>1.505827</td>\n",
       "    </tr>\n",
       "    <tr>\n",
       "      <th>XGBoosting</th>\n",
       "      <td>1.500516</td>\n",
       "    </tr>\n",
       "    <tr>\n",
       "      <th>LightGBM</th>\n",
       "      <td>1.546350</td>\n",
       "    </tr>\n",
       "  </tbody>\n",
       "</table>\n",
       "</div>"
      ],
      "text/plain": [
       "                          0\n",
       "Linear Regression  1.349141\n",
       "Ridge Regression   1.351676\n",
       "Lasso Regression   2.453177\n",
       "Decision Tree      1.934200\n",
       "Bagging Tree       1.542834\n",
       "Random Forest      1.531725\n",
       "Adaptive Boost     2.512668\n",
       "Gradient Boost     1.505827\n",
       "XGBoosting         1.500516\n",
       "LightGBM           1.546350"
      ]
     },
     "execution_count": 65,
     "metadata": {},
     "output_type": "execute_result"
    }
   ],
   "source": [
    "rmse_df = rmse_df.T\n",
    "rmse_df"
   ]
  },
  {
   "cell_type": "code",
   "execution_count": 66,
   "metadata": {},
   "outputs": [
    {
     "data": {
      "text/html": [
       "<div>\n",
       "<style scoped>\n",
       "    .dataframe tbody tr th:only-of-type {\n",
       "        vertical-align: middle;\n",
       "    }\n",
       "\n",
       "    .dataframe tbody tr th {\n",
       "        vertical-align: top;\n",
       "    }\n",
       "\n",
       "    .dataframe thead th {\n",
       "        text-align: right;\n",
       "    }\n",
       "</style>\n",
       "<table border=\"1\" class=\"dataframe\">\n",
       "  <thead>\n",
       "    <tr style=\"text-align: right;\">\n",
       "      <th></th>\n",
       "      <th>rmse</th>\n",
       "    </tr>\n",
       "  </thead>\n",
       "  <tbody>\n",
       "    <tr>\n",
       "      <th>Linear Regression</th>\n",
       "      <td>1.349141</td>\n",
       "    </tr>\n",
       "    <tr>\n",
       "      <th>Ridge Regression</th>\n",
       "      <td>1.351676</td>\n",
       "    </tr>\n",
       "    <tr>\n",
       "      <th>Lasso Regression</th>\n",
       "      <td>2.453177</td>\n",
       "    </tr>\n",
       "    <tr>\n",
       "      <th>Decision Tree</th>\n",
       "      <td>1.934200</td>\n",
       "    </tr>\n",
       "    <tr>\n",
       "      <th>Bagging Tree</th>\n",
       "      <td>1.542834</td>\n",
       "    </tr>\n",
       "    <tr>\n",
       "      <th>Random Forest</th>\n",
       "      <td>1.531725</td>\n",
       "    </tr>\n",
       "    <tr>\n",
       "      <th>Adaptive Boost</th>\n",
       "      <td>2.512668</td>\n",
       "    </tr>\n",
       "    <tr>\n",
       "      <th>Gradient Boost</th>\n",
       "      <td>1.505827</td>\n",
       "    </tr>\n",
       "    <tr>\n",
       "      <th>XGBoosting</th>\n",
       "      <td>1.500516</td>\n",
       "    </tr>\n",
       "    <tr>\n",
       "      <th>LightGBM</th>\n",
       "      <td>1.546350</td>\n",
       "    </tr>\n",
       "  </tbody>\n",
       "</table>\n",
       "</div>"
      ],
      "text/plain": [
       "                       rmse\n",
       "Linear Regression  1.349141\n",
       "Ridge Regression   1.351676\n",
       "Lasso Regression   2.453177\n",
       "Decision Tree      1.934200\n",
       "Bagging Tree       1.542834\n",
       "Random Forest      1.531725\n",
       "Adaptive Boost     2.512668\n",
       "Gradient Boost     1.505827\n",
       "XGBoosting         1.500516\n",
       "LightGBM           1.546350"
      ]
     },
     "execution_count": 66,
     "metadata": {},
     "output_type": "execute_result"
    }
   ],
   "source": [
    "rmse_df.columns = ['rmse']\n",
    "rmse_df"
   ]
  },
  {
   "cell_type": "code",
   "execution_count": 67,
   "metadata": {},
   "outputs": [
    {
     "data": {
      "text/html": [
       "<div>\n",
       "<style scoped>\n",
       "    .dataframe tbody tr th:only-of-type {\n",
       "        vertical-align: middle;\n",
       "    }\n",
       "\n",
       "    .dataframe tbody tr th {\n",
       "        vertical-align: top;\n",
       "    }\n",
       "\n",
       "    .dataframe thead th {\n",
       "        text-align: right;\n",
       "    }\n",
       "</style>\n",
       "<table border=\"1\" class=\"dataframe\">\n",
       "  <thead>\n",
       "    <tr style=\"text-align: right;\">\n",
       "      <th></th>\n",
       "      <th>r2</th>\n",
       "      <th>rmse</th>\n",
       "    </tr>\n",
       "  </thead>\n",
       "  <tbody>\n",
       "    <tr>\n",
       "      <th>Linear Regression</th>\n",
       "      <td>0.661112</td>\n",
       "      <td>1.349141</td>\n",
       "    </tr>\n",
       "    <tr>\n",
       "      <th>Ridge Regression</th>\n",
       "      <td>0.629179</td>\n",
       "      <td>1.351676</td>\n",
       "    </tr>\n",
       "    <tr>\n",
       "      <th>Lasso Regression</th>\n",
       "      <td>-0.000437</td>\n",
       "      <td>2.453177</td>\n",
       "    </tr>\n",
       "    <tr>\n",
       "      <th>Decision Tree</th>\n",
       "      <td>0.502483</td>\n",
       "      <td>1.934200</td>\n",
       "    </tr>\n",
       "    <tr>\n",
       "      <th>Bagging Tree</th>\n",
       "      <td>0.625435</td>\n",
       "      <td>1.542834</td>\n",
       "    </tr>\n",
       "    <tr>\n",
       "      <th>Random Forest</th>\n",
       "      <td>0.626711</td>\n",
       "      <td>1.531725</td>\n",
       "    </tr>\n",
       "    <tr>\n",
       "      <th>Adaptive Boost</th>\n",
       "      <td>-3.260495</td>\n",
       "      <td>2.512668</td>\n",
       "    </tr>\n",
       "    <tr>\n",
       "      <th>Gradient Boost</th>\n",
       "      <td>0.677656</td>\n",
       "      <td>1.505827</td>\n",
       "    </tr>\n",
       "    <tr>\n",
       "      <th>XGBoosting</th>\n",
       "      <td>0.674566</td>\n",
       "      <td>1.500516</td>\n",
       "    </tr>\n",
       "    <tr>\n",
       "      <th>LightGBM</th>\n",
       "      <td>0.653470</td>\n",
       "      <td>1.546350</td>\n",
       "    </tr>\n",
       "  </tbody>\n",
       "</table>\n",
       "</div>"
      ],
      "text/plain": [
       "                         r2      rmse\n",
       "Linear Regression  0.661112  1.349141\n",
       "Ridge Regression   0.629179  1.351676\n",
       "Lasso Regression  -0.000437  2.453177\n",
       "Decision Tree      0.502483  1.934200\n",
       "Bagging Tree       0.625435  1.542834\n",
       "Random Forest      0.626711  1.531725\n",
       "Adaptive Boost    -3.260495  2.512668\n",
       "Gradient Boost     0.677656  1.505827\n",
       "XGBoosting         0.674566  1.500516\n",
       "LightGBM           0.653470  1.546350"
      ]
     },
     "execution_count": 67,
     "metadata": {},
     "output_type": "execute_result"
    }
   ],
   "source": [
    "score_df = cscores_means_df.join(rmse_df)\n",
    "score_df"
   ]
  },
  {
   "cell_type": "code",
   "execution_count": 68,
   "metadata": {},
   "outputs": [
    {
     "data": {
      "text/html": [
       "<div>\n",
       "<style scoped>\n",
       "    .dataframe tbody tr th:only-of-type {\n",
       "        vertical-align: middle;\n",
       "    }\n",
       "\n",
       "    .dataframe tbody tr th {\n",
       "        vertical-align: top;\n",
       "    }\n",
       "\n",
       "    .dataframe thead th {\n",
       "        text-align: right;\n",
       "    }\n",
       "</style>\n",
       "<table border=\"1\" class=\"dataframe\">\n",
       "  <thead>\n",
       "    <tr style=\"text-align: right;\">\n",
       "      <th></th>\n",
       "      <th>r2</th>\n",
       "      <th>rmse</th>\n",
       "    </tr>\n",
       "    <tr>\n",
       "      <th>Algorithm</th>\n",
       "      <th></th>\n",
       "      <th></th>\n",
       "    </tr>\n",
       "  </thead>\n",
       "  <tbody>\n",
       "    <tr>\n",
       "      <th>Linear Regression</th>\n",
       "      <td>0.661112</td>\n",
       "      <td>1.349141</td>\n",
       "    </tr>\n",
       "    <tr>\n",
       "      <th>Ridge Regression</th>\n",
       "      <td>0.629179</td>\n",
       "      <td>1.351676</td>\n",
       "    </tr>\n",
       "    <tr>\n",
       "      <th>Lasso Regression</th>\n",
       "      <td>-0.000437</td>\n",
       "      <td>2.453177</td>\n",
       "    </tr>\n",
       "    <tr>\n",
       "      <th>Decision Tree</th>\n",
       "      <td>0.502483</td>\n",
       "      <td>1.934200</td>\n",
       "    </tr>\n",
       "    <tr>\n",
       "      <th>Bagging Tree</th>\n",
       "      <td>0.625435</td>\n",
       "      <td>1.542834</td>\n",
       "    </tr>\n",
       "    <tr>\n",
       "      <th>Random Forest</th>\n",
       "      <td>0.626711</td>\n",
       "      <td>1.531725</td>\n",
       "    </tr>\n",
       "    <tr>\n",
       "      <th>Adaptive Boost</th>\n",
       "      <td>-3.260495</td>\n",
       "      <td>2.512668</td>\n",
       "    </tr>\n",
       "    <tr>\n",
       "      <th>Gradient Boost</th>\n",
       "      <td>0.677656</td>\n",
       "      <td>1.505827</td>\n",
       "    </tr>\n",
       "    <tr>\n",
       "      <th>XGBoosting</th>\n",
       "      <td>0.674566</td>\n",
       "      <td>1.500516</td>\n",
       "    </tr>\n",
       "    <tr>\n",
       "      <th>LightGBM</th>\n",
       "      <td>0.653470</td>\n",
       "      <td>1.546350</td>\n",
       "    </tr>\n",
       "  </tbody>\n",
       "</table>\n",
       "</div>"
      ],
      "text/plain": [
       "                         r2      rmse\n",
       "Algorithm                            \n",
       "Linear Regression  0.661112  1.349141\n",
       "Ridge Regression   0.629179  1.351676\n",
       "Lasso Regression  -0.000437  2.453177\n",
       "Decision Tree      0.502483  1.934200\n",
       "Bagging Tree       0.625435  1.542834\n",
       "Random Forest      0.626711  1.531725\n",
       "Adaptive Boost    -3.260495  2.512668\n",
       "Gradient Boost     0.677656  1.505827\n",
       "XGBoosting         0.674566  1.500516\n",
       "LightGBM           0.653470  1.546350"
      ]
     },
     "execution_count": 68,
     "metadata": {},
     "output_type": "execute_result"
    }
   ],
   "source": [
    "score_df.index.name = 'Algorithm'\n",
    "score_df"
   ]
  },
  {
   "cell_type": "code",
   "execution_count": 69,
   "metadata": {},
   "outputs": [
    {
     "data": {
      "text/html": [
       "<div>\n",
       "<style scoped>\n",
       "    .dataframe tbody tr th:only-of-type {\n",
       "        vertical-align: middle;\n",
       "    }\n",
       "\n",
       "    .dataframe tbody tr th {\n",
       "        vertical-align: top;\n",
       "    }\n",
       "\n",
       "    .dataframe thead th {\n",
       "        text-align: right;\n",
       "    }\n",
       "</style>\n",
       "<table border=\"1\" class=\"dataframe\">\n",
       "  <thead>\n",
       "    <tr style=\"text-align: right;\">\n",
       "      <th></th>\n",
       "      <th>r2</th>\n",
       "      <th>rmse</th>\n",
       "    </tr>\n",
       "    <tr>\n",
       "      <th>Algorithm</th>\n",
       "      <th></th>\n",
       "      <th></th>\n",
       "    </tr>\n",
       "  </thead>\n",
       "  <tbody>\n",
       "    <tr>\n",
       "      <th>Gradient Boost</th>\n",
       "      <td>0.677656</td>\n",
       "      <td>1.505827</td>\n",
       "    </tr>\n",
       "    <tr>\n",
       "      <th>XGBoosting</th>\n",
       "      <td>0.674566</td>\n",
       "      <td>1.500516</td>\n",
       "    </tr>\n",
       "    <tr>\n",
       "      <th>Linear Regression</th>\n",
       "      <td>0.661112</td>\n",
       "      <td>1.349141</td>\n",
       "    </tr>\n",
       "    <tr>\n",
       "      <th>LightGBM</th>\n",
       "      <td>0.653470</td>\n",
       "      <td>1.546350</td>\n",
       "    </tr>\n",
       "    <tr>\n",
       "      <th>Ridge Regression</th>\n",
       "      <td>0.629179</td>\n",
       "      <td>1.351676</td>\n",
       "    </tr>\n",
       "    <tr>\n",
       "      <th>Random Forest</th>\n",
       "      <td>0.626711</td>\n",
       "      <td>1.531725</td>\n",
       "    </tr>\n",
       "    <tr>\n",
       "      <th>Bagging Tree</th>\n",
       "      <td>0.625435</td>\n",
       "      <td>1.542834</td>\n",
       "    </tr>\n",
       "    <tr>\n",
       "      <th>Decision Tree</th>\n",
       "      <td>0.502483</td>\n",
       "      <td>1.934200</td>\n",
       "    </tr>\n",
       "    <tr>\n",
       "      <th>Lasso Regression</th>\n",
       "      <td>-0.000437</td>\n",
       "      <td>2.453177</td>\n",
       "    </tr>\n",
       "    <tr>\n",
       "      <th>Adaptive Boost</th>\n",
       "      <td>-3.260495</td>\n",
       "      <td>2.512668</td>\n",
       "    </tr>\n",
       "  </tbody>\n",
       "</table>\n",
       "</div>"
      ],
      "text/plain": [
       "                         r2      rmse\n",
       "Algorithm                            \n",
       "Gradient Boost     0.677656  1.505827\n",
       "XGBoosting         0.674566  1.500516\n",
       "Linear Regression  0.661112  1.349141\n",
       "LightGBM           0.653470  1.546350\n",
       "Ridge Regression   0.629179  1.351676\n",
       "Random Forest      0.626711  1.531725\n",
       "Bagging Tree       0.625435  1.542834\n",
       "Decision Tree      0.502483  1.934200\n",
       "Lasso Regression  -0.000437  2.453177\n",
       "Adaptive Boost    -3.260495  2.512668"
      ]
     },
     "execution_count": 69,
     "metadata": {},
     "output_type": "execute_result"
    }
   ],
   "source": [
    "df = score_df.sort_values(['r2', 'rmse'], ascending=False)\n",
    "df"
   ]
  },
  {
   "cell_type": "markdown",
   "metadata": {},
   "source": [
    "#  With tuned parameters\n",
    "\n",
    "## Tuned Random Forest\n",
    "\n",
    "__RandomizedSearchCV gave following as best parameters__\n",
    "\n",
    "`{'n_estimators': 60,\n",
    " 'min_samples_split': 2,\n",
    " 'min_samples_leaf': 1,\n",
    " 'max_features': 'auto',\n",
    " 'max_depth': 6,\n",
    " 'bootstrap': True}`"
   ]
  },
  {
   "cell_type": "code",
   "execution_count": 70,
   "metadata": {},
   "outputs": [],
   "source": [
    "rfr = RandomForestRegressor(n_estimators=60, max_depth=6,random_state=42, n_jobs= -1)\n",
    "rfr.fit(X_train, y_train)\n",
    "\n",
    "tuned_cscores = {}\n",
    "tuned_cscores_means = {}\n",
    "tuned_rmse_dict = {}\n",
    "\n",
    "cross_validation_scores= cross_val_score(rfr, X_train, y_train, cv=5, scoring=\"r2\")"
   ]
  },
  {
   "cell_type": "code",
   "execution_count": 71,
   "metadata": {},
   "outputs": [
    {
     "name": "stdout",
     "output_type": "stream",
     "text": [
      "5-fold cross validation scores for Random Forest:  [0.71820147 0.79087646 0.74483862 0.68472169 0.3862905 ]\n",
      "Mean R^2: 0.6649857473712506\n"
     ]
    }
   ],
   "source": [
    "tuned_cscores['Random Forest'] = list(cross_validation_scores)\n",
    "tuned_cscores_means['Random Forest'] = np.mean(cross_validation_scores)\n",
    "\n",
    "print(\"5-fold cross validation scores for Random Forest: \", cross_validation_scores)\n",
    "print(\"Mean R^2: {}\".format(np.mean(cross_validation_scores)))"
   ]
  },
  {
   "cell_type": "code",
   "execution_count": 72,
   "metadata": {},
   "outputs": [],
   "source": [
    "# Predict on the validation data\n",
    "y_pred = rfr.predict(X_validation)\n",
    "\n",
    "tuned_rmse_dict[\"Random Forest\"] = np.sqrt(mean_squared_error(y_validation, y_pred))"
   ]
  },
  {
   "cell_type": "markdown",
   "metadata": {},
   "source": [
    "## Tuned Bagging Tree\n",
    "\n",
    "__RandomizedSearchCV gave following as best parameters__\n",
    "\n",
    "`{'n_estimators': 50, 'max_features': 4}`"
   ]
  },
  {
   "cell_type": "code",
   "execution_count": 73,
   "metadata": {},
   "outputs": [],
   "source": [
    "bag = BaggingRegressor(n_estimators=50, max_features=4,random_state=42, n_jobs= -1)\n",
    "bag.fit(X_train, y_train)\n",
    "\n",
    "cross_validation_scores= cross_val_score(bag, X_train, y_train, cv=5, scoring=\"r2\")"
   ]
  },
  {
   "cell_type": "code",
   "execution_count": 74,
   "metadata": {},
   "outputs": [
    {
     "name": "stdout",
     "output_type": "stream",
     "text": [
      "5-fold cross validation scores for Bagging Tree:  [0.73259884 0.77646986 0.74874723 0.67885589 0.37285165]\n",
      "Mean R^2: 0.661904693655823\n"
     ]
    }
   ],
   "source": [
    "tuned_cscores['Bagging Tree'] = list(cross_validation_scores)\n",
    "tuned_cscores_means['Bagging Tree'] = np.mean(cross_validation_scores)\n",
    "\n",
    "print(\"5-fold cross validation scores for Bagging Tree: \", cross_validation_scores)\n",
    "print(\"Mean R^2: {}\".format(np.mean(cross_validation_scores)))"
   ]
  },
  {
   "cell_type": "code",
   "execution_count": 75,
   "metadata": {},
   "outputs": [],
   "source": [
    "# Predict on the validation data\n",
    "y_pred = bag.predict(X_validation)\n",
    "\n",
    "tuned_rmse_dict[\"Bagging Tree\"] = np.sqrt(mean_squared_error(y_validation, y_pred))"
   ]
  },
  {
   "cell_type": "markdown",
   "metadata": {},
   "source": [
    "## Tuned Gradient Boosting\n",
    "\n",
    "__RandomizedSearchCV gave following as best parameters__\n",
    "\n",
    "`{'n_estimators': 50,\n",
    " 'min_samples_split': 5,\n",
    " 'min_samples_leaf': 2,\n",
    " 'max_features': 'sqrt',\n",
    " 'max_depth': 6,\n",
    " 'learning_rate': 0.1}`"
   ]
  },
  {
   "cell_type": "code",
   "execution_count": 76,
   "metadata": {},
   "outputs": [],
   "source": [
    "gbr = GradientBoostingRegressor(n_estimators=50, max_features='sqrt', max_depth=6, \n",
    "                                min_samples_split=5, min_samples_leaf=2, \n",
    "                                learning_rate=0.1, random_state=42)\n",
    "gbr.fit(X_train, y_train)\n",
    "\n",
    "\n",
    "cross_validation_scores= cross_val_score(gbr, X_train, y_train, cv=5, scoring=\"r2\")"
   ]
  },
  {
   "cell_type": "code",
   "execution_count": 77,
   "metadata": {},
   "outputs": [
    {
     "name": "stdout",
     "output_type": "stream",
     "text": [
      "5-fold cross validation scores for Gradient Boost Regression:  [0.73720368 0.79156272 0.76345063 0.69115986 0.39275907]\n",
      "Mean R^2: 0.6752271908834839\n"
     ]
    }
   ],
   "source": [
    "tuned_cscores['Gradient Boost'] = list(cross_validation_scores)\n",
    "tuned_cscores_means['Gradient Boost'] = np.mean(cross_validation_scores)\n",
    "\n",
    "print(\"5-fold cross validation scores for Gradient Boost Regression: \", cross_validation_scores)\n",
    "print(\"Mean R^2: {}\".format(np.mean(cross_validation_scores)))"
   ]
  },
  {
   "cell_type": "code",
   "execution_count": 78,
   "metadata": {},
   "outputs": [],
   "source": [
    "# Predict on the validation data\n",
    "y_pred = gbr.predict(X_validation)\n",
    "\n",
    "tuned_rmse_dict[\"Gradient Boost\"] = np.sqrt(mean_squared_error(y_validation, y_pred))"
   ]
  },
  {
   "cell_type": "markdown",
   "metadata": {},
   "source": [
    "## Tuned XGBoost\n",
    "\n",
    "__RandomizedSearchCV gave following as best parameters__\n",
    "\n",
    "`{'silent': False,\n",
    " 'reg_lambda': 5,\n",
    " 'n_estimators': 90,\n",
    " 'min_child_weight': 10,\n",
    " 'max_depth': 6,\n",
    " 'learning_rate': 0.1,\n",
    " 'gamma': 0,\n",
    " 'colsample_bytree': 0.7}`"
   ]
  },
  {
   "cell_type": "code",
   "execution_count": 79,
   "metadata": {},
   "outputs": [
    {
     "name": "stderr",
     "output_type": "stream",
     "text": [
      "C:\\Users\\Pankaj\\Anaconda3\\lib\\site-packages\\xgboost\\core.py:587: FutureWarning: Series.base is deprecated and will be removed in a future version\n",
      "  if getattr(data, 'base', None) is not None and \\\n",
      "C:\\Users\\Pankaj\\Anaconda3\\lib\\site-packages\\xgboost\\core.py:588: FutureWarning: Series.base is deprecated and will be removed in a future version\n",
      "  data.base is not None and isinstance(data, np.ndarray) \\\n",
      "C:\\Users\\Pankaj\\Anaconda3\\lib\\site-packages\\xgboost\\core.py:587: FutureWarning: Series.base is deprecated and will be removed in a future version\n",
      "  if getattr(data, 'base', None) is not None and \\\n",
      "C:\\Users\\Pankaj\\Anaconda3\\lib\\site-packages\\xgboost\\core.py:587: FutureWarning: Series.base is deprecated and will be removed in a future version\n",
      "  if getattr(data, 'base', None) is not None and \\\n",
      "C:\\Users\\Pankaj\\Anaconda3\\lib\\site-packages\\xgboost\\core.py:587: FutureWarning: Series.base is deprecated and will be removed in a future version\n",
      "  if getattr(data, 'base', None) is not None and \\\n",
      "C:\\Users\\Pankaj\\Anaconda3\\lib\\site-packages\\xgboost\\core.py:587: FutureWarning: Series.base is deprecated and will be removed in a future version\n",
      "  if getattr(data, 'base', None) is not None and \\\n"
     ]
    }
   ],
   "source": [
    "xg_reg = xgb.XGBRegressor(n_estimators=90, silent=False, reg_lambda=5, min_child_weight=10,\n",
    "                                max_depth=6, learning_rate=0.1, gamma=0,\n",
    "                                min_samples_split=2, min_samples_leaf=2, \n",
    "                                colsample_bytree=0.7, random_state=42, n_jobs=-1)\n",
    "xg_reg.fit(X_train, y_train)\n",
    "\n",
    "\n",
    "cross_validation_scores= cross_val_score(xg_reg, X_train, y_train, cv=5, scoring=\"r2\")"
   ]
  },
  {
   "cell_type": "code",
   "execution_count": 80,
   "metadata": {},
   "outputs": [
    {
     "name": "stdout",
     "output_type": "stream",
     "text": [
      "5-fold cross validation scores for XGBoosting:  [0.74093974 0.78866608 0.74247665 0.6989674  0.37457214]\n",
      "Mean R^2: 0.6691244027317169\n"
     ]
    }
   ],
   "source": [
    "tuned_cscores['XGBoosting'] = list(cross_validation_scores)\n",
    "tuned_cscores_means['XGBoosting'] = np.mean(cross_validation_scores)\n",
    "\n",
    "print(\"5-fold cross validation scores for XGBoosting: \", cross_validation_scores)\n",
    "print(\"Mean R^2: {}\".format(np.mean(cross_validation_scores)))"
   ]
  },
  {
   "cell_type": "code",
   "execution_count": 81,
   "metadata": {},
   "outputs": [],
   "source": [
    "# Predict on the validation data\n",
    "y_pred = xg_reg.predict(X_validation)\n",
    "\n",
    "tuned_rmse_dict[\"XGBoosting\"] = np.sqrt(mean_squared_error(y_validation, y_pred))"
   ]
  },
  {
   "cell_type": "markdown",
   "metadata": {},
   "source": [
    "## Tuned LightGBM\n",
    "\n",
    "__RandomizedSearchCV gave following as best parameters__\n",
    "\n",
    "`{'subsample': 0.5,\n",
    " 'silent': False,\n",
    " 'num_leaves': 100,\n",
    " 'n_estimators': 150,\n",
    " 'max_depth': 4,\n",
    " 'learning_rate': 0.1,\n",
    " 'colsample_bytree': 0.7}`"
   ]
  },
  {
   "cell_type": "code",
   "execution_count": 82,
   "metadata": {},
   "outputs": [],
   "source": [
    "lgb_reg = lgb.LGBMRegressor(n_estimators=150, silent=False, \n",
    "                                max_depth=4, learning_rate=0.1, \n",
    "                                num_leaves=100, subsample=0.5,\n",
    "                                colsample_bytree=0.7, random_state=42, n_jobs=-1)\n",
    "lgb_reg.fit(X_train, y_train)\n",
    "\n",
    "\n",
    "cross_validation_scores= cross_val_score(lgb_reg, X_train, y_train, cv=5, scoring=\"r2\")"
   ]
  },
  {
   "cell_type": "code",
   "execution_count": 83,
   "metadata": {},
   "outputs": [
    {
     "name": "stdout",
     "output_type": "stream",
     "text": [
      "5-fold cross validation scores for LightGBM:  [0.68003598 0.76674543 0.74670287 0.69016668 0.40003498]\n",
      "Mean R^2: 0.6567371881781721\n"
     ]
    }
   ],
   "source": [
    "tuned_cscores['LightGBM'] = list(cross_validation_scores)\n",
    "tuned_cscores_means['LightGBM'] = np.mean(cross_validation_scores)\n",
    "\n",
    "print(\"5-fold cross validation scores for LightGBM: \", cross_validation_scores)\n",
    "print(\"Mean R^2: {}\".format(np.mean(cross_validation_scores)))"
   ]
  },
  {
   "cell_type": "code",
   "execution_count": 84,
   "metadata": {},
   "outputs": [],
   "source": [
    "# Predict on the validation data\n",
    "y_pred = lgb_reg.predict(X_validation)\n",
    "\n",
    "tuned_rmse_dict[\"LightGBM\"] = np.sqrt(mean_squared_error(y_validation, y_pred))"
   ]
  },
  {
   "cell_type": "code",
   "execution_count": 85,
   "metadata": {},
   "outputs": [
    {
     "data": {
      "text/html": [
       "<div>\n",
       "<style scoped>\n",
       "    .dataframe tbody tr th:only-of-type {\n",
       "        vertical-align: middle;\n",
       "    }\n",
       "\n",
       "    .dataframe tbody tr th {\n",
       "        vertical-align: top;\n",
       "    }\n",
       "\n",
       "    .dataframe thead th {\n",
       "        text-align: right;\n",
       "    }\n",
       "</style>\n",
       "<table border=\"1\" class=\"dataframe\">\n",
       "  <thead>\n",
       "    <tr style=\"text-align: right;\">\n",
       "      <th></th>\n",
       "      <th>r2</th>\n",
       "      <th>rmse</th>\n",
       "    </tr>\n",
       "    <tr>\n",
       "      <th>Algorithm</th>\n",
       "      <th></th>\n",
       "      <th></th>\n",
       "    </tr>\n",
       "  </thead>\n",
       "  <tbody>\n",
       "    <tr>\n",
       "      <th>Random Forest</th>\n",
       "      <td>0.664986</td>\n",
       "      <td>1.457858</td>\n",
       "    </tr>\n",
       "    <tr>\n",
       "      <th>Bagging Tree</th>\n",
       "      <td>0.661905</td>\n",
       "      <td>1.425319</td>\n",
       "    </tr>\n",
       "    <tr>\n",
       "      <th>Gradient Boost</th>\n",
       "      <td>0.675227</td>\n",
       "      <td>1.461838</td>\n",
       "    </tr>\n",
       "    <tr>\n",
       "      <th>XGBoosting</th>\n",
       "      <td>0.669124</td>\n",
       "      <td>1.468157</td>\n",
       "    </tr>\n",
       "    <tr>\n",
       "      <th>LightGBM</th>\n",
       "      <td>0.656737</td>\n",
       "      <td>1.533018</td>\n",
       "    </tr>\n",
       "  </tbody>\n",
       "</table>\n",
       "</div>"
      ],
      "text/plain": [
       "                      r2      rmse\n",
       "Algorithm                         \n",
       "Random Forest   0.664986  1.457858\n",
       "Bagging Tree    0.661905  1.425319\n",
       "Gradient Boost  0.675227  1.461838\n",
       "XGBoosting      0.669124  1.468157\n",
       "LightGBM        0.656737  1.533018"
      ]
     },
     "execution_count": 85,
     "metadata": {},
     "output_type": "execute_result"
    }
   ],
   "source": [
    "index = [0]\n",
    "tuned_cscores_means_df = pd.DataFrame(tuned_cscores_means, index=index)\n",
    "tuned_rmse_df = pd.DataFrame(tuned_rmse_dict, index=index)\n",
    "\n",
    "tuned_cscores_means_df = tuned_cscores_means_df.T\n",
    "tuned_rmse_df = tuned_rmse_df.T\n",
    "\n",
    "tuned_cscores_means_df.columns = ['r2']\n",
    "tuned_rmse_df.columns = ['rmse']\n",
    "\n",
    "tuned_score_df = tuned_cscores_means_df.join(tuned_rmse_df)\n",
    "tuned_score_df.index.name = 'Algorithm'\n",
    "tuned_score_df"
   ]
  },
  {
   "cell_type": "code",
   "execution_count": 86,
   "metadata": {},
   "outputs": [
    {
     "data": {
      "text/html": [
       "<div>\n",
       "<style scoped>\n",
       "    .dataframe tbody tr th:only-of-type {\n",
       "        vertical-align: middle;\n",
       "    }\n",
       "\n",
       "    .dataframe tbody tr th {\n",
       "        vertical-align: top;\n",
       "    }\n",
       "\n",
       "    .dataframe thead th {\n",
       "        text-align: right;\n",
       "    }\n",
       "</style>\n",
       "<table border=\"1\" class=\"dataframe\">\n",
       "  <thead>\n",
       "    <tr style=\"text-align: right;\">\n",
       "      <th></th>\n",
       "      <th>r2</th>\n",
       "      <th>rmse</th>\n",
       "    </tr>\n",
       "    <tr>\n",
       "      <th>Algorithm</th>\n",
       "      <th></th>\n",
       "      <th></th>\n",
       "    </tr>\n",
       "  </thead>\n",
       "  <tbody>\n",
       "    <tr>\n",
       "      <th>Gradient Boost</th>\n",
       "      <td>0.675227</td>\n",
       "      <td>1.461838</td>\n",
       "    </tr>\n",
       "    <tr>\n",
       "      <th>XGBoosting</th>\n",
       "      <td>0.669124</td>\n",
       "      <td>1.468157</td>\n",
       "    </tr>\n",
       "    <tr>\n",
       "      <th>Random Forest</th>\n",
       "      <td>0.664986</td>\n",
       "      <td>1.457858</td>\n",
       "    </tr>\n",
       "    <tr>\n",
       "      <th>Bagging Tree</th>\n",
       "      <td>0.661905</td>\n",
       "      <td>1.425319</td>\n",
       "    </tr>\n",
       "    <tr>\n",
       "      <th>LightGBM</th>\n",
       "      <td>0.656737</td>\n",
       "      <td>1.533018</td>\n",
       "    </tr>\n",
       "  </tbody>\n",
       "</table>\n",
       "</div>"
      ],
      "text/plain": [
       "                      r2      rmse\n",
       "Algorithm                         \n",
       "Gradient Boost  0.675227  1.461838\n",
       "XGBoosting      0.669124  1.468157\n",
       "Random Forest   0.664986  1.457858\n",
       "Bagging Tree    0.661905  1.425319\n",
       "LightGBM        0.656737  1.533018"
      ]
     },
     "execution_count": 86,
     "metadata": {},
     "output_type": "execute_result"
    }
   ],
   "source": [
    "tuned_df = tuned_score_df.sort_values(['r2', 'rmse'], ascending=False)\n",
    "tuned_df"
   ]
  },
  {
   "cell_type": "code",
   "execution_count": 87,
   "metadata": {},
   "outputs": [
    {
     "data": {
      "text/html": [
       "<div>\n",
       "<style scoped>\n",
       "    .dataframe tbody tr th:only-of-type {\n",
       "        vertical-align: middle;\n",
       "    }\n",
       "\n",
       "    .dataframe tbody tr th {\n",
       "        vertical-align: top;\n",
       "    }\n",
       "\n",
       "    .dataframe thead th {\n",
       "        text-align: right;\n",
       "    }\n",
       "</style>\n",
       "<table border=\"1\" class=\"dataframe\">\n",
       "  <thead>\n",
       "    <tr style=\"text-align: right;\">\n",
       "      <th></th>\n",
       "      <th>r2</th>\n",
       "      <th>rmse</th>\n",
       "    </tr>\n",
       "    <tr>\n",
       "      <th>Algorithm</th>\n",
       "      <th></th>\n",
       "      <th></th>\n",
       "    </tr>\n",
       "  </thead>\n",
       "  <tbody>\n",
       "    <tr>\n",
       "      <th>Gradient Boost</th>\n",
       "      <td>0.677656</td>\n",
       "      <td>1.505827</td>\n",
       "    </tr>\n",
       "    <tr>\n",
       "      <th>XGBoosting</th>\n",
       "      <td>0.674566</td>\n",
       "      <td>1.500516</td>\n",
       "    </tr>\n",
       "    <tr>\n",
       "      <th>Linear Regression</th>\n",
       "      <td>0.661112</td>\n",
       "      <td>1.349141</td>\n",
       "    </tr>\n",
       "    <tr>\n",
       "      <th>LightGBM</th>\n",
       "      <td>0.653470</td>\n",
       "      <td>1.546350</td>\n",
       "    </tr>\n",
       "    <tr>\n",
       "      <th>Ridge Regression</th>\n",
       "      <td>0.629179</td>\n",
       "      <td>1.351676</td>\n",
       "    </tr>\n",
       "    <tr>\n",
       "      <th>Random Forest</th>\n",
       "      <td>0.626711</td>\n",
       "      <td>1.531725</td>\n",
       "    </tr>\n",
       "    <tr>\n",
       "      <th>Bagging Tree</th>\n",
       "      <td>0.625435</td>\n",
       "      <td>1.542834</td>\n",
       "    </tr>\n",
       "    <tr>\n",
       "      <th>Decision Tree</th>\n",
       "      <td>0.502483</td>\n",
       "      <td>1.934200</td>\n",
       "    </tr>\n",
       "    <tr>\n",
       "      <th>Lasso Regression</th>\n",
       "      <td>-0.000437</td>\n",
       "      <td>2.453177</td>\n",
       "    </tr>\n",
       "    <tr>\n",
       "      <th>Adaptive Boost</th>\n",
       "      <td>-3.260495</td>\n",
       "      <td>2.512668</td>\n",
       "    </tr>\n",
       "  </tbody>\n",
       "</table>\n",
       "</div>"
      ],
      "text/plain": [
       "                         r2      rmse\n",
       "Algorithm                            \n",
       "Gradient Boost     0.677656  1.505827\n",
       "XGBoosting         0.674566  1.500516\n",
       "Linear Regression  0.661112  1.349141\n",
       "LightGBM           0.653470  1.546350\n",
       "Ridge Regression   0.629179  1.351676\n",
       "Random Forest      0.626711  1.531725\n",
       "Bagging Tree       0.625435  1.542834\n",
       "Decision Tree      0.502483  1.934200\n",
       "Lasso Regression  -0.000437  2.453177\n",
       "Adaptive Boost    -3.260495  2.512668"
      ]
     },
     "execution_count": 87,
     "metadata": {},
     "output_type": "execute_result"
    }
   ],
   "source": [
    "df"
   ]
  },
  {
   "cell_type": "code",
   "execution_count": 88,
   "metadata": {},
   "outputs": [],
   "source": [
    "df.to_csv('scores_default_parameters.csv')\n",
    "tuned_df.to_csv('scores_tuned_parameters.csv')"
   ]
  },
  {
   "cell_type": "code",
   "execution_count": 89,
   "metadata": {},
   "outputs": [
    {
     "data": {
      "text/html": [
       "<div>\n",
       "<style scoped>\n",
       "    .dataframe tbody tr th:only-of-type {\n",
       "        vertical-align: middle;\n",
       "    }\n",
       "\n",
       "    .dataframe tbody tr th {\n",
       "        vertical-align: top;\n",
       "    }\n",
       "\n",
       "    .dataframe thead th {\n",
       "        text-align: right;\n",
       "    }\n",
       "</style>\n",
       "<table border=\"1\" class=\"dataframe\">\n",
       "  <thead>\n",
       "    <tr style=\"text-align: right;\">\n",
       "      <th></th>\n",
       "      <th>tuned_r2</th>\n",
       "      <th>tuned_rmse</th>\n",
       "    </tr>\n",
       "    <tr>\n",
       "      <th>Algorithm</th>\n",
       "      <th></th>\n",
       "      <th></th>\n",
       "    </tr>\n",
       "  </thead>\n",
       "  <tbody>\n",
       "    <tr>\n",
       "      <th>Gradient Boost</th>\n",
       "      <td>0.675227</td>\n",
       "      <td>1.461838</td>\n",
       "    </tr>\n",
       "    <tr>\n",
       "      <th>XGBoosting</th>\n",
       "      <td>0.669124</td>\n",
       "      <td>1.468157</td>\n",
       "    </tr>\n",
       "    <tr>\n",
       "      <th>Random Forest</th>\n",
       "      <td>0.664986</td>\n",
       "      <td>1.457858</td>\n",
       "    </tr>\n",
       "    <tr>\n",
       "      <th>Bagging Tree</th>\n",
       "      <td>0.661905</td>\n",
       "      <td>1.425319</td>\n",
       "    </tr>\n",
       "    <tr>\n",
       "      <th>LightGBM</th>\n",
       "      <td>0.656737</td>\n",
       "      <td>1.533018</td>\n",
       "    </tr>\n",
       "  </tbody>\n",
       "</table>\n",
       "</div>"
      ],
      "text/plain": [
       "                tuned_r2  tuned_rmse\n",
       "Algorithm                           \n",
       "Gradient Boost  0.675227    1.461838\n",
       "XGBoosting      0.669124    1.468157\n",
       "Random Forest   0.664986    1.457858\n",
       "Bagging Tree    0.661905    1.425319\n",
       "LightGBM        0.656737    1.533018"
      ]
     },
     "execution_count": 89,
     "metadata": {},
     "output_type": "execute_result"
    }
   ],
   "source": [
    "tuned_df.columns = ['tuned_r2', 'tuned_rmse']\n",
    "tuned_df"
   ]
  },
  {
   "cell_type": "code",
   "execution_count": 90,
   "metadata": {},
   "outputs": [
    {
     "data": {
      "text/html": [
       "<div>\n",
       "<style scoped>\n",
       "    .dataframe tbody tr th:only-of-type {\n",
       "        vertical-align: middle;\n",
       "    }\n",
       "\n",
       "    .dataframe tbody tr th {\n",
       "        vertical-align: top;\n",
       "    }\n",
       "\n",
       "    .dataframe thead th {\n",
       "        text-align: right;\n",
       "    }\n",
       "</style>\n",
       "<table border=\"1\" class=\"dataframe\">\n",
       "  <thead>\n",
       "    <tr style=\"text-align: right;\">\n",
       "      <th></th>\n",
       "      <th>r2</th>\n",
       "      <th>rmse</th>\n",
       "      <th>tuned_r2</th>\n",
       "      <th>tuned_rmse</th>\n",
       "    </tr>\n",
       "    <tr>\n",
       "      <th>Algorithm</th>\n",
       "      <th></th>\n",
       "      <th></th>\n",
       "      <th></th>\n",
       "      <th></th>\n",
       "    </tr>\n",
       "  </thead>\n",
       "  <tbody>\n",
       "    <tr>\n",
       "      <th>Adaptive Boost</th>\n",
       "      <td>-3.260495</td>\n",
       "      <td>2.512668</td>\n",
       "      <td>NaN</td>\n",
       "      <td>NaN</td>\n",
       "    </tr>\n",
       "    <tr>\n",
       "      <th>Bagging Tree</th>\n",
       "      <td>0.625435</td>\n",
       "      <td>1.542834</td>\n",
       "      <td>0.661905</td>\n",
       "      <td>1.425319</td>\n",
       "    </tr>\n",
       "    <tr>\n",
       "      <th>Decision Tree</th>\n",
       "      <td>0.502483</td>\n",
       "      <td>1.934200</td>\n",
       "      <td>NaN</td>\n",
       "      <td>NaN</td>\n",
       "    </tr>\n",
       "    <tr>\n",
       "      <th>Gradient Boost</th>\n",
       "      <td>0.677656</td>\n",
       "      <td>1.505827</td>\n",
       "      <td>0.675227</td>\n",
       "      <td>1.461838</td>\n",
       "    </tr>\n",
       "    <tr>\n",
       "      <th>Lasso Regression</th>\n",
       "      <td>-0.000437</td>\n",
       "      <td>2.453177</td>\n",
       "      <td>NaN</td>\n",
       "      <td>NaN</td>\n",
       "    </tr>\n",
       "    <tr>\n",
       "      <th>LightGBM</th>\n",
       "      <td>0.653470</td>\n",
       "      <td>1.546350</td>\n",
       "      <td>0.656737</td>\n",
       "      <td>1.533018</td>\n",
       "    </tr>\n",
       "    <tr>\n",
       "      <th>Linear Regression</th>\n",
       "      <td>0.661112</td>\n",
       "      <td>1.349141</td>\n",
       "      <td>NaN</td>\n",
       "      <td>NaN</td>\n",
       "    </tr>\n",
       "    <tr>\n",
       "      <th>Random Forest</th>\n",
       "      <td>0.626711</td>\n",
       "      <td>1.531725</td>\n",
       "      <td>0.664986</td>\n",
       "      <td>1.457858</td>\n",
       "    </tr>\n",
       "    <tr>\n",
       "      <th>Ridge Regression</th>\n",
       "      <td>0.629179</td>\n",
       "      <td>1.351676</td>\n",
       "      <td>NaN</td>\n",
       "      <td>NaN</td>\n",
       "    </tr>\n",
       "    <tr>\n",
       "      <th>XGBoosting</th>\n",
       "      <td>0.674566</td>\n",
       "      <td>1.500516</td>\n",
       "      <td>0.669124</td>\n",
       "      <td>1.468157</td>\n",
       "    </tr>\n",
       "  </tbody>\n",
       "</table>\n",
       "</div>"
      ],
      "text/plain": [
       "                         r2      rmse  tuned_r2  tuned_rmse\n",
       "Algorithm                                                  \n",
       "Adaptive Boost    -3.260495  2.512668       NaN         NaN\n",
       "Bagging Tree       0.625435  1.542834  0.661905    1.425319\n",
       "Decision Tree      0.502483  1.934200       NaN         NaN\n",
       "Gradient Boost     0.677656  1.505827  0.675227    1.461838\n",
       "Lasso Regression  -0.000437  2.453177       NaN         NaN\n",
       "LightGBM           0.653470  1.546350  0.656737    1.533018\n",
       "Linear Regression  0.661112  1.349141       NaN         NaN\n",
       "Random Forest      0.626711  1.531725  0.664986    1.457858\n",
       "Ridge Regression   0.629179  1.351676       NaN         NaN\n",
       "XGBoosting         0.674566  1.500516  0.669124    1.468157"
      ]
     },
     "execution_count": 90,
     "metadata": {},
     "output_type": "execute_result"
    }
   ],
   "source": [
    "combined_df = df.join(tuned_df,how='outer')\n",
    "combined_df"
   ]
  },
  {
   "cell_type": "code",
   "execution_count": 91,
   "metadata": {},
   "outputs": [
    {
     "data": {
      "text/html": [
       "<div>\n",
       "<style scoped>\n",
       "    .dataframe tbody tr th:only-of-type {\n",
       "        vertical-align: middle;\n",
       "    }\n",
       "\n",
       "    .dataframe tbody tr th {\n",
       "        vertical-align: top;\n",
       "    }\n",
       "\n",
       "    .dataframe thead th {\n",
       "        text-align: right;\n",
       "    }\n",
       "</style>\n",
       "<table border=\"1\" class=\"dataframe\">\n",
       "  <thead>\n",
       "    <tr style=\"text-align: right;\">\n",
       "      <th></th>\n",
       "      <th>r2</th>\n",
       "      <th>rmse</th>\n",
       "      <th>tuned_r2</th>\n",
       "      <th>tuned_rmse</th>\n",
       "    </tr>\n",
       "    <tr>\n",
       "      <th>Algorithm</th>\n",
       "      <th></th>\n",
       "      <th></th>\n",
       "      <th></th>\n",
       "      <th></th>\n",
       "    </tr>\n",
       "  </thead>\n",
       "  <tbody>\n",
       "    <tr>\n",
       "      <th>Gradient Boost</th>\n",
       "      <td>0.677656</td>\n",
       "      <td>1.505827</td>\n",
       "      <td>0.675227</td>\n",
       "      <td>1.461838</td>\n",
       "    </tr>\n",
       "    <tr>\n",
       "      <th>XGBoosting</th>\n",
       "      <td>0.674566</td>\n",
       "      <td>1.500516</td>\n",
       "      <td>0.669124</td>\n",
       "      <td>1.468157</td>\n",
       "    </tr>\n",
       "    <tr>\n",
       "      <th>Linear Regression</th>\n",
       "      <td>0.661112</td>\n",
       "      <td>1.349141</td>\n",
       "      <td>NaN</td>\n",
       "      <td>NaN</td>\n",
       "    </tr>\n",
       "    <tr>\n",
       "      <th>LightGBM</th>\n",
       "      <td>0.653470</td>\n",
       "      <td>1.546350</td>\n",
       "      <td>0.656737</td>\n",
       "      <td>1.533018</td>\n",
       "    </tr>\n",
       "    <tr>\n",
       "      <th>Ridge Regression</th>\n",
       "      <td>0.629179</td>\n",
       "      <td>1.351676</td>\n",
       "      <td>NaN</td>\n",
       "      <td>NaN</td>\n",
       "    </tr>\n",
       "    <tr>\n",
       "      <th>Random Forest</th>\n",
       "      <td>0.626711</td>\n",
       "      <td>1.531725</td>\n",
       "      <td>0.664986</td>\n",
       "      <td>1.457858</td>\n",
       "    </tr>\n",
       "    <tr>\n",
       "      <th>Bagging Tree</th>\n",
       "      <td>0.625435</td>\n",
       "      <td>1.542834</td>\n",
       "      <td>0.661905</td>\n",
       "      <td>1.425319</td>\n",
       "    </tr>\n",
       "    <tr>\n",
       "      <th>Decision Tree</th>\n",
       "      <td>0.502483</td>\n",
       "      <td>1.934200</td>\n",
       "      <td>NaN</td>\n",
       "      <td>NaN</td>\n",
       "    </tr>\n",
       "    <tr>\n",
       "      <th>Lasso Regression</th>\n",
       "      <td>-0.000437</td>\n",
       "      <td>2.453177</td>\n",
       "      <td>NaN</td>\n",
       "      <td>NaN</td>\n",
       "    </tr>\n",
       "    <tr>\n",
       "      <th>Adaptive Boost</th>\n",
       "      <td>-3.260495</td>\n",
       "      <td>2.512668</td>\n",
       "      <td>NaN</td>\n",
       "      <td>NaN</td>\n",
       "    </tr>\n",
       "  </tbody>\n",
       "</table>\n",
       "</div>"
      ],
      "text/plain": [
       "                         r2      rmse  tuned_r2  tuned_rmse\n",
       "Algorithm                                                  \n",
       "Gradient Boost     0.677656  1.505827  0.675227    1.461838\n",
       "XGBoosting         0.674566  1.500516  0.669124    1.468157\n",
       "Linear Regression  0.661112  1.349141       NaN         NaN\n",
       "LightGBM           0.653470  1.546350  0.656737    1.533018\n",
       "Ridge Regression   0.629179  1.351676       NaN         NaN\n",
       "Random Forest      0.626711  1.531725  0.664986    1.457858\n",
       "Bagging Tree       0.625435  1.542834  0.661905    1.425319\n",
       "Decision Tree      0.502483  1.934200       NaN         NaN\n",
       "Lasso Regression  -0.000437  2.453177       NaN         NaN\n",
       "Adaptive Boost    -3.260495  2.512668       NaN         NaN"
      ]
     },
     "execution_count": 91,
     "metadata": {},
     "output_type": "execute_result"
    }
   ],
   "source": [
    "combined_df = combined_df.sort_values(['r2', 'tuned_r2'], ascending=False)\n",
    "combined_df"
   ]
  },
  {
   "cell_type": "code",
   "execution_count": 105,
   "metadata": {},
   "outputs": [],
   "source": [
    "scores_df = pd.DataFrame(cscores).T\n",
    "scores_df.columns = [1, 2, 3, 4, 5]\n",
    "scores_df[\"mean_5\"] = scores_df.mean(axis=1)\n",
    "scores_df[\"mean_4\"] =scores_df[[1, 2, 3, 4]].mean(axis=1)\n",
    "scores_df = scores_df.sort_values(['mean_5','mean_4'], ascending=False)\n",
    "\n",
    "tuned_scores_df = pd.DataFrame(tuned_cscores).T\n",
    "tuned_scores_df.columns = [1, 2, 3, 4, 5]\n",
    "tuned_scores_df[\"mean_5\"] = tuned_scores_df.mean(axis=1)\n",
    "tuned_scores_df[\"mean_4\"] = tuned_scores_df[[1, 2, 3, 4]].mean(axis=1)\n",
    "tuned_scores_df = tuned_scores_df.sort_values(['mean_5', 'mean_4'], ascending=False)"
   ]
  },
  {
   "cell_type": "code",
   "execution_count": 106,
   "metadata": {},
   "outputs": [
    {
     "data": {
      "text/html": [
       "<div>\n",
       "<style scoped>\n",
       "    .dataframe tbody tr th:only-of-type {\n",
       "        vertical-align: middle;\n",
       "    }\n",
       "\n",
       "    .dataframe tbody tr th {\n",
       "        vertical-align: top;\n",
       "    }\n",
       "\n",
       "    .dataframe thead th {\n",
       "        text-align: right;\n",
       "    }\n",
       "</style>\n",
       "<table border=\"1\" class=\"dataframe\">\n",
       "  <thead>\n",
       "    <tr style=\"text-align: right;\">\n",
       "      <th></th>\n",
       "      <th>1</th>\n",
       "      <th>2</th>\n",
       "      <th>3</th>\n",
       "      <th>4</th>\n",
       "      <th>5</th>\n",
       "      <th>mean_5</th>\n",
       "      <th>mean_4</th>\n",
       "    </tr>\n",
       "  </thead>\n",
       "  <tbody>\n",
       "    <tr>\n",
       "      <th>Gradient Boost</th>\n",
       "      <td>0.751285</td>\n",
       "      <td>0.807129</td>\n",
       "      <td>0.753577</td>\n",
       "      <td>0.695682</td>\n",
       "      <td>0.380606</td>\n",
       "      <td>0.677656</td>\n",
       "      <td>0.751918</td>\n",
       "    </tr>\n",
       "    <tr>\n",
       "      <th>XGBoosting</th>\n",
       "      <td>0.741392</td>\n",
       "      <td>0.799844</td>\n",
       "      <td>0.751984</td>\n",
       "      <td>0.698136</td>\n",
       "      <td>0.381475</td>\n",
       "      <td>0.674566</td>\n",
       "      <td>0.747839</td>\n",
       "    </tr>\n",
       "    <tr>\n",
       "      <th>Linear Regression</th>\n",
       "      <td>0.734729</td>\n",
       "      <td>0.788722</td>\n",
       "      <td>0.740108</td>\n",
       "      <td>0.686828</td>\n",
       "      <td>0.355171</td>\n",
       "      <td>0.661112</td>\n",
       "      <td>0.737597</td>\n",
       "    </tr>\n",
       "    <tr>\n",
       "      <th>LightGBM</th>\n",
       "      <td>0.694634</td>\n",
       "      <td>0.772119</td>\n",
       "      <td>0.731835</td>\n",
       "      <td>0.684235</td>\n",
       "      <td>0.384528</td>\n",
       "      <td>0.653470</td>\n",
       "      <td>0.720706</td>\n",
       "    </tr>\n",
       "    <tr>\n",
       "      <th>Ridge Regression</th>\n",
       "      <td>0.724755</td>\n",
       "      <td>0.754825</td>\n",
       "      <td>0.681163</td>\n",
       "      <td>0.617798</td>\n",
       "      <td>0.367353</td>\n",
       "      <td>0.629179</td>\n",
       "      <td>0.694635</td>\n",
       "    </tr>\n",
       "    <tr>\n",
       "      <th>Random Forest</th>\n",
       "      <td>0.641422</td>\n",
       "      <td>0.740722</td>\n",
       "      <td>0.718931</td>\n",
       "      <td>0.684464</td>\n",
       "      <td>0.348013</td>\n",
       "      <td>0.626711</td>\n",
       "      <td>0.696385</td>\n",
       "    </tr>\n",
       "    <tr>\n",
       "      <th>Bagging Tree</th>\n",
       "      <td>0.642673</td>\n",
       "      <td>0.737599</td>\n",
       "      <td>0.717775</td>\n",
       "      <td>0.687039</td>\n",
       "      <td>0.342091</td>\n",
       "      <td>0.625435</td>\n",
       "      <td>0.696272</td>\n",
       "    </tr>\n",
       "    <tr>\n",
       "      <th>Decision Tree</th>\n",
       "      <td>0.571035</td>\n",
       "      <td>0.613442</td>\n",
       "      <td>0.535836</td>\n",
       "      <td>0.606414</td>\n",
       "      <td>0.185686</td>\n",
       "      <td>0.502483</td>\n",
       "      <td>0.581682</td>\n",
       "    </tr>\n",
       "    <tr>\n",
       "      <th>Lasso Regression</th>\n",
       "      <td>-0.000436</td>\n",
       "      <td>-0.000484</td>\n",
       "      <td>-0.000049</td>\n",
       "      <td>-0.001212</td>\n",
       "      <td>-0.000004</td>\n",
       "      <td>-0.000437</td>\n",
       "      <td>-0.000546</td>\n",
       "    </tr>\n",
       "    <tr>\n",
       "      <th>Adaptive Boost</th>\n",
       "      <td>0.432996</td>\n",
       "      <td>0.151270</td>\n",
       "      <td>0.144161</td>\n",
       "      <td>0.467402</td>\n",
       "      <td>-17.498304</td>\n",
       "      <td>-3.260495</td>\n",
       "      <td>0.298957</td>\n",
       "    </tr>\n",
       "  </tbody>\n",
       "</table>\n",
       "</div>"
      ],
      "text/plain": [
       "                          1         2         3         4          5  \\\n",
       "Gradient Boost     0.751285  0.807129  0.753577  0.695682   0.380606   \n",
       "XGBoosting         0.741392  0.799844  0.751984  0.698136   0.381475   \n",
       "Linear Regression  0.734729  0.788722  0.740108  0.686828   0.355171   \n",
       "LightGBM           0.694634  0.772119  0.731835  0.684235   0.384528   \n",
       "Ridge Regression   0.724755  0.754825  0.681163  0.617798   0.367353   \n",
       "Random Forest      0.641422  0.740722  0.718931  0.684464   0.348013   \n",
       "Bagging Tree       0.642673  0.737599  0.717775  0.687039   0.342091   \n",
       "Decision Tree      0.571035  0.613442  0.535836  0.606414   0.185686   \n",
       "Lasso Regression  -0.000436 -0.000484 -0.000049 -0.001212  -0.000004   \n",
       "Adaptive Boost     0.432996  0.151270  0.144161  0.467402 -17.498304   \n",
       "\n",
       "                     mean_5    mean_4  \n",
       "Gradient Boost     0.677656  0.751918  \n",
       "XGBoosting         0.674566  0.747839  \n",
       "Linear Regression  0.661112  0.737597  \n",
       "LightGBM           0.653470  0.720706  \n",
       "Ridge Regression   0.629179  0.694635  \n",
       "Random Forest      0.626711  0.696385  \n",
       "Bagging Tree       0.625435  0.696272  \n",
       "Decision Tree      0.502483  0.581682  \n",
       "Lasso Regression  -0.000437 -0.000546  \n",
       "Adaptive Boost    -3.260495  0.298957  "
      ]
     },
     "execution_count": 106,
     "metadata": {},
     "output_type": "execute_result"
    }
   ],
   "source": [
    "scores_df"
   ]
  },
  {
   "cell_type": "code",
   "execution_count": 107,
   "metadata": {},
   "outputs": [
    {
     "data": {
      "text/html": [
       "<div>\n",
       "<style scoped>\n",
       "    .dataframe tbody tr th:only-of-type {\n",
       "        vertical-align: middle;\n",
       "    }\n",
       "\n",
       "    .dataframe tbody tr th {\n",
       "        vertical-align: top;\n",
       "    }\n",
       "\n",
       "    .dataframe thead th {\n",
       "        text-align: right;\n",
       "    }\n",
       "</style>\n",
       "<table border=\"1\" class=\"dataframe\">\n",
       "  <thead>\n",
       "    <tr style=\"text-align: right;\">\n",
       "      <th></th>\n",
       "      <th>1</th>\n",
       "      <th>2</th>\n",
       "      <th>3</th>\n",
       "      <th>4</th>\n",
       "      <th>5</th>\n",
       "      <th>mean_5</th>\n",
       "      <th>mean_4</th>\n",
       "    </tr>\n",
       "  </thead>\n",
       "  <tbody>\n",
       "    <tr>\n",
       "      <th>Gradient Boost</th>\n",
       "      <td>0.737204</td>\n",
       "      <td>0.791563</td>\n",
       "      <td>0.763451</td>\n",
       "      <td>0.691160</td>\n",
       "      <td>0.392759</td>\n",
       "      <td>0.675227</td>\n",
       "      <td>0.745844</td>\n",
       "    </tr>\n",
       "    <tr>\n",
       "      <th>XGBoosting</th>\n",
       "      <td>0.740940</td>\n",
       "      <td>0.788666</td>\n",
       "      <td>0.742477</td>\n",
       "      <td>0.698967</td>\n",
       "      <td>0.374572</td>\n",
       "      <td>0.669124</td>\n",
       "      <td>0.742762</td>\n",
       "    </tr>\n",
       "    <tr>\n",
       "      <th>Random Forest</th>\n",
       "      <td>0.718201</td>\n",
       "      <td>0.790876</td>\n",
       "      <td>0.744839</td>\n",
       "      <td>0.684722</td>\n",
       "      <td>0.386290</td>\n",
       "      <td>0.664986</td>\n",
       "      <td>0.734660</td>\n",
       "    </tr>\n",
       "    <tr>\n",
       "      <th>Bagging Tree</th>\n",
       "      <td>0.732599</td>\n",
       "      <td>0.776470</td>\n",
       "      <td>0.748747</td>\n",
       "      <td>0.678856</td>\n",
       "      <td>0.372852</td>\n",
       "      <td>0.661905</td>\n",
       "      <td>0.734168</td>\n",
       "    </tr>\n",
       "    <tr>\n",
       "      <th>LightGBM</th>\n",
       "      <td>0.680036</td>\n",
       "      <td>0.766745</td>\n",
       "      <td>0.746703</td>\n",
       "      <td>0.690167</td>\n",
       "      <td>0.400035</td>\n",
       "      <td>0.656737</td>\n",
       "      <td>0.720913</td>\n",
       "    </tr>\n",
       "  </tbody>\n",
       "</table>\n",
       "</div>"
      ],
      "text/plain": [
       "                       1         2         3         4         5    mean_5  \\\n",
       "Gradient Boost  0.737204  0.791563  0.763451  0.691160  0.392759  0.675227   \n",
       "XGBoosting      0.740940  0.788666  0.742477  0.698967  0.374572  0.669124   \n",
       "Random Forest   0.718201  0.790876  0.744839  0.684722  0.386290  0.664986   \n",
       "Bagging Tree    0.732599  0.776470  0.748747  0.678856  0.372852  0.661905   \n",
       "LightGBM        0.680036  0.766745  0.746703  0.690167  0.400035  0.656737   \n",
       "\n",
       "                  mean_4  \n",
       "Gradient Boost  0.745844  \n",
       "XGBoosting      0.742762  \n",
       "Random Forest   0.734660  \n",
       "Bagging Tree    0.734168  \n",
       "LightGBM        0.720913  "
      ]
     },
     "execution_count": 107,
     "metadata": {},
     "output_type": "execute_result"
    }
   ],
   "source": [
    "tuned_scores_df"
   ]
  },
  {
   "cell_type": "code",
   "execution_count": null,
   "metadata": {},
   "outputs": [],
   "source": []
  },
  {
   "cell_type": "code",
   "execution_count": null,
   "metadata": {},
   "outputs": [],
   "source": []
  },
  {
   "cell_type": "code",
   "execution_count": null,
   "metadata": {},
   "outputs": [],
   "source": []
  }
 ],
 "metadata": {
  "kernelspec": {
   "display_name": "Python 3",
   "language": "python",
   "name": "python3"
  },
  "language_info": {
   "codemirror_mode": {
    "name": "ipython",
    "version": 3
   },
   "file_extension": ".py",
   "mimetype": "text/x-python",
   "name": "python",
   "nbconvert_exporter": "python",
   "pygments_lexer": "ipython3",
   "version": "3.7.1"
  }
 },
 "nbformat": 4,
 "nbformat_minor": 2
}
