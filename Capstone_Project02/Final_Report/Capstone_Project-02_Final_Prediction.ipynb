{
 "cells": [
  {
   "cell_type": "code",
   "execution_count": 1,
   "metadata": {},
   "outputs": [
    {
     "name": "stderr",
     "output_type": "stream",
     "text": [
      "Using TensorFlow backend.\n"
     ]
    }
   ],
   "source": [
    "import pandas as pd\n",
    "import shutil\n",
    "import os\n",
    "from sklearn.utils import shuffle\n",
    "\n",
    "import tensorflow as tf\n",
    "import keras\n",
    "from keras.preprocessing.image import ImageDataGenerator, load_img, img_to_array\n",
    "from keras.models import Sequential, Model, load_model\n",
    "\n",
    "import warnings\n",
    "warnings.filterwarnings('ignore')"
   ]
  },
  {
   "cell_type": "code",
   "execution_count": 2,
   "metadata": {},
   "outputs": [
    {
     "data": {
      "text/html": [
       "<div>\n",
       "<style scoped>\n",
       "    .dataframe tbody tr th:only-of-type {\n",
       "        vertical-align: middle;\n",
       "    }\n",
       "\n",
       "    .dataframe tbody tr th {\n",
       "        vertical-align: top;\n",
       "    }\n",
       "\n",
       "    .dataframe thead th {\n",
       "        text-align: right;\n",
       "    }\n",
       "</style>\n",
       "<table border=\"1\" class=\"dataframe\">\n",
       "  <thead>\n",
       "    <tr style=\"text-align: right;\">\n",
       "      <th></th>\n",
       "      <th>id</th>\n",
       "      <th>label</th>\n",
       "    </tr>\n",
       "  </thead>\n",
       "  <tbody>\n",
       "    <tr>\n",
       "      <td>0</td>\n",
       "      <td>0b2ea2a822ad23fdb1b5dd26653da899fbd2c0d5</td>\n",
       "      <td>0</td>\n",
       "    </tr>\n",
       "    <tr>\n",
       "      <td>1</td>\n",
       "      <td>95596b92e5066c5c52466c90b69ff089b39f2737</td>\n",
       "      <td>0</td>\n",
       "    </tr>\n",
       "    <tr>\n",
       "      <td>2</td>\n",
       "      <td>248e6738860e2ebcf6258cdc1f32f299e0c76914</td>\n",
       "      <td>0</td>\n",
       "    </tr>\n",
       "    <tr>\n",
       "      <td>3</td>\n",
       "      <td>2c35657e312966e9294eac6841726ff3a748febf</td>\n",
       "      <td>0</td>\n",
       "    </tr>\n",
       "    <tr>\n",
       "      <td>4</td>\n",
       "      <td>145782eb7caa1c516acbe2eda34d9a3f31c41fd6</td>\n",
       "      <td>0</td>\n",
       "    </tr>\n",
       "  </tbody>\n",
       "</table>\n",
       "</div>"
      ],
      "text/plain": [
       "                                         id  label\n",
       "0  0b2ea2a822ad23fdb1b5dd26653da899fbd2c0d5      0\n",
       "1  95596b92e5066c5c52466c90b69ff089b39f2737      0\n",
       "2  248e6738860e2ebcf6258cdc1f32f299e0c76914      0\n",
       "3  2c35657e312966e9294eac6841726ff3a748febf      0\n",
       "4  145782eb7caa1c516acbe2eda34d9a3f31c41fd6      0"
      ]
     },
     "execution_count": 2,
     "metadata": {},
     "output_type": "execute_result"
    }
   ],
   "source": [
    "TEST_DATA_DIRECTORY = '../data/test/'\n",
    "# read the image labels \n",
    "df = pd.read_csv('../data/sample_submission.csv')\n",
    "df.head()"
   ]
  },
  {
   "cell_type": "code",
   "execution_count": 3,
   "metadata": {},
   "outputs": [
    {
     "name": "stdout",
     "output_type": "stream",
     "text": [
      "Images in test dir 57459\n"
     ]
    }
   ],
   "source": [
    "print('Images in test dir {}' . format(len(os.listdir('../data/test'))))"
   ]
  },
  {
   "cell_type": "code",
   "execution_count": 4,
   "metadata": {},
   "outputs": [
    {
     "data": {
      "text/plain": [
       "0    57458\n",
       "Name: label, dtype: int64"
      ]
     },
     "execution_count": 4,
     "metadata": {},
     "output_type": "execute_result"
    }
   ],
   "source": [
    "df['label'].value_counts()"
   ]
  },
  {
   "cell_type": "code",
   "execution_count": 5,
   "metadata": {},
   "outputs": [],
   "source": [
    "test_directory = 'test_dir'\n",
    "os.mkdir(test_directory)\n",
    "\n",
    "# create images directory inside test_dir\n",
    "images = os.path.join(test_directory, 'images')\n",
    "os.mkdir(images)"
   ]
  },
  {
   "cell_type": "code",
   "execution_count": 6,
   "metadata": {},
   "outputs": [],
   "source": [
    "for image in os.listdir('../data/test/'):\n",
    "    \n",
    "    file_name = image\n",
    "    \n",
    "    # source path to image\n",
    "    src = os.path.join('../data/test', file_name)\n",
    "    # destination path to image\n",
    "    dst = os.path.join(images, file_name)\n",
    "    # copy the image from the source to the destination\n",
    "    shutil.copyfile(src, dst)"
   ]
  },
  {
   "cell_type": "code",
   "execution_count": 7,
   "metadata": {},
   "outputs": [
    {
     "name": "stdout",
     "output_type": "stream",
     "text": [
      "Images in new test dir 57459\n"
     ]
    }
   ],
   "source": [
    "print('Images in new test dir {}' . format(len(os.listdir(images))))"
   ]
  },
  {
   "cell_type": "code",
   "execution_count": 8,
   "metadata": {},
   "outputs": [
    {
     "name": "stdout",
     "output_type": "stream",
     "text": [
      "Found 57458 images belonging to 1 classes.\n"
     ]
    }
   ],
   "source": [
    "IMAGE_SIZE = 96\n",
    "batch_size = 10\n",
    "\n",
    "datagen = ImageDataGenerator(rescale=1.0/255, shear_range=0.2, zoom_range=0.2)\n",
    "test_datagen = datagen.flow_from_directory(test_directory, target_size=(IMAGE_SIZE,IMAGE_SIZE),\n",
    "                                                   batch_size=1, class_mode='binary',\n",
    "                                                  shuffle=False)"
   ]
  },
  {
   "cell_type": "code",
   "execution_count": 9,
   "metadata": {},
   "outputs": [
    {
     "name": "stdout",
     "output_type": "stream",
     "text": [
      "WARNING:tensorflow:From /Library/Frameworks/Python.framework/Versions/3.7/lib/python3.7/site-packages/tensorflow_core/python/ops/resource_variable_ops.py:1630: calling BaseResourceVariable.__init__ (from tensorflow.python.ops.resource_variable_ops) with constraint is deprecated and will be removed in a future version.\n",
      "Instructions for updating:\n",
      "If using Keras pass *_constraint arguments to layers.\n",
      "WARNING:tensorflow:From /Library/Frameworks/Python.framework/Versions/3.7/lib/python3.7/site-packages/keras/backend/tensorflow_backend.py:4070: The name tf.nn.max_pool is deprecated. Please use tf.nn.max_pool2d instead.\n",
      "\n",
      "WARNING:tensorflow:From /Library/Frameworks/Python.framework/Versions/3.7/lib/python3.7/site-packages/tensorflow_core/python/ops/nn_impl.py:183: where (from tensorflow.python.ops.array_ops) is deprecated and will be removed in a future version.\n",
      "Instructions for updating:\n",
      "Use tf.where in 2.0, which has the same broadcast rule as np.where\n",
      "WARNING:tensorflow:From /Library/Frameworks/Python.framework/Versions/3.7/lib/python3.7/site-packages/keras/backend/tensorflow_backend.py:422: The name tf.global_variables is deprecated. Please use tf.compat.v1.global_variables instead.\n",
      "\n"
     ]
    }
   ],
   "source": [
    "from keras.models import load_model\n",
    "\n",
    "my_model6 = load_model('./models/new_model6.h5')"
   ]
  },
  {
   "cell_type": "code",
   "execution_count": 10,
   "metadata": {},
   "outputs": [
    {
     "name": "stdout",
     "output_type": "stream",
     "text": [
      "57458/57458 [==============================] - 1430s 25ms/step\n"
     ]
    }
   ],
   "source": [
    "number_of_test_images = 57458\n",
    "predictions = my_model6.predict_generator(test_datagen, steps=number_of_test_images, verbose=1)"
   ]
  },
  {
   "cell_type": "code",
   "execution_count": 11,
   "metadata": {},
   "outputs": [
    {
     "data": {
      "text/html": [
       "<div>\n",
       "<style scoped>\n",
       "    .dataframe tbody tr th:only-of-type {\n",
       "        vertical-align: middle;\n",
       "    }\n",
       "\n",
       "    .dataframe tbody tr th {\n",
       "        vertical-align: top;\n",
       "    }\n",
       "\n",
       "    .dataframe thead th {\n",
       "        text-align: right;\n",
       "    }\n",
       "</style>\n",
       "<table border=\"1\" class=\"dataframe\">\n",
       "  <thead>\n",
       "    <tr style=\"text-align: right;\">\n",
       "      <th></th>\n",
       "      <th>cancer</th>\n",
       "      <th>normal</th>\n",
       "    </tr>\n",
       "  </thead>\n",
       "  <tbody>\n",
       "    <tr>\n",
       "      <td>0</td>\n",
       "      <td>0.999999</td>\n",
       "      <td>8.252396e-07</td>\n",
       "    </tr>\n",
       "    <tr>\n",
       "      <td>1</td>\n",
       "      <td>0.999561</td>\n",
       "      <td>2.982884e-04</td>\n",
       "    </tr>\n",
       "    <tr>\n",
       "      <td>2</td>\n",
       "      <td>0.562755</td>\n",
       "      <td>4.587920e-01</td>\n",
       "    </tr>\n",
       "    <tr>\n",
       "      <td>3</td>\n",
       "      <td>0.000078</td>\n",
       "      <td>9.999337e-01</td>\n",
       "    </tr>\n",
       "    <tr>\n",
       "      <td>4</td>\n",
       "      <td>0.000071</td>\n",
       "      <td>9.999253e-01</td>\n",
       "    </tr>\n",
       "  </tbody>\n",
       "</table>\n",
       "</div>"
      ],
      "text/plain": [
       "     cancer        normal\n",
       "0  0.999999  8.252396e-07\n",
       "1  0.999561  2.982884e-04\n",
       "2  0.562755  4.587920e-01\n",
       "3  0.000078  9.999337e-01\n",
       "4  0.000071  9.999253e-01"
      ]
     },
     "execution_count": 11,
     "metadata": {},
     "output_type": "execute_result"
    }
   ],
   "source": [
    "df_predictions = pd.DataFrame(predictions, columns=['cancer','normal'])\n",
    "\n",
    "df_predictions.head()"
   ]
  },
  {
   "cell_type": "code",
   "execution_count": 12,
   "metadata": {},
   "outputs": [
    {
     "data": {
      "text/html": [
       "<div>\n",
       "<style scoped>\n",
       "    .dataframe tbody tr th:only-of-type {\n",
       "        vertical-align: middle;\n",
       "    }\n",
       "\n",
       "    .dataframe tbody tr th {\n",
       "        vertical-align: top;\n",
       "    }\n",
       "\n",
       "    .dataframe thead th {\n",
       "        text-align: right;\n",
       "    }\n",
       "</style>\n",
       "<table border=\"1\" class=\"dataframe\">\n",
       "  <thead>\n",
       "    <tr style=\"text-align: right;\">\n",
       "      <th></th>\n",
       "      <th>cancer</th>\n",
       "      <th>normal</th>\n",
       "      <th>file_IDs</th>\n",
       "    </tr>\n",
       "  </thead>\n",
       "  <tbody>\n",
       "    <tr>\n",
       "      <td>0</td>\n",
       "      <td>0.999999</td>\n",
       "      <td>8.252396e-07</td>\n",
       "      <td>images/00006537328c33e284c973d7b39d340809f7271...</td>\n",
       "    </tr>\n",
       "    <tr>\n",
       "      <td>1</td>\n",
       "      <td>0.999561</td>\n",
       "      <td>2.982884e-04</td>\n",
       "      <td>images/0000ec92553fda4ce39889f9226ace43cae3364...</td>\n",
       "    </tr>\n",
       "    <tr>\n",
       "      <td>2</td>\n",
       "      <td>0.562755</td>\n",
       "      <td>4.587920e-01</td>\n",
       "      <td>images/00024a6dee61f12f7856b0fc6be20bc7a48ba3d...</td>\n",
       "    </tr>\n",
       "    <tr>\n",
       "      <td>3</td>\n",
       "      <td>0.000078</td>\n",
       "      <td>9.999337e-01</td>\n",
       "      <td>images/000253dfaa0be9d0d100283b22284ab2f6b643f...</td>\n",
       "    </tr>\n",
       "    <tr>\n",
       "      <td>4</td>\n",
       "      <td>0.000071</td>\n",
       "      <td>9.999253e-01</td>\n",
       "      <td>images/000270442cc15af719583a8172c87cd2bd9c774...</td>\n",
       "    </tr>\n",
       "  </tbody>\n",
       "</table>\n",
       "</div>"
      ],
      "text/plain": [
       "     cancer        normal                                           file_IDs\n",
       "0  0.999999  8.252396e-07  images/00006537328c33e284c973d7b39d340809f7271...\n",
       "1  0.999561  2.982884e-04  images/0000ec92553fda4ce39889f9226ace43cae3364...\n",
       "2  0.562755  4.587920e-01  images/00024a6dee61f12f7856b0fc6be20bc7a48ba3d...\n",
       "3  0.000078  9.999337e-01  images/000253dfaa0be9d0d100283b22284ab2f6b643f...\n",
       "4  0.000071  9.999253e-01  images/000270442cc15af719583a8172c87cd2bd9c774..."
      ]
     },
     "execution_count": 12,
     "metadata": {},
     "output_type": "execute_result"
    }
   ],
   "source": [
    "# As you can see it doesn't have file ids (names)\n",
    "# The following will add the file names in the sequence in which \n",
    "# the test datagenerator processed the test image files.\n",
    "test_file_IDs = test_datagen.filenames\n",
    "\n",
    "# add the fileIDs to the dataframe\n",
    "df_predictions['file_IDs'] = test_file_IDs\n",
    "\n",
    "df_predictions.head()"
   ]
  },
  {
   "cell_type": "code",
   "execution_count": 13,
   "metadata": {},
   "outputs": [
    {
     "data": {
      "text/html": [
       "<div>\n",
       "<style scoped>\n",
       "    .dataframe tbody tr th:only-of-type {\n",
       "        vertical-align: middle;\n",
       "    }\n",
       "\n",
       "    .dataframe tbody tr th {\n",
       "        vertical-align: top;\n",
       "    }\n",
       "\n",
       "    .dataframe thead th {\n",
       "        text-align: right;\n",
       "    }\n",
       "</style>\n",
       "<table border=\"1\" class=\"dataframe\">\n",
       "  <thead>\n",
       "    <tr style=\"text-align: right;\">\n",
       "      <th></th>\n",
       "      <th>cancer</th>\n",
       "      <th>normal</th>\n",
       "      <th>file_IDs</th>\n",
       "      <th>ID</th>\n",
       "    </tr>\n",
       "  </thead>\n",
       "  <tbody>\n",
       "    <tr>\n",
       "      <td>0</td>\n",
       "      <td>0.999999</td>\n",
       "      <td>8.252396e-07</td>\n",
       "      <td>images/00006537328c33e284c973d7b39d340809f7271...</td>\n",
       "      <td>00006537328c33e284c973d7b39d340809f7271b</td>\n",
       "    </tr>\n",
       "    <tr>\n",
       "      <td>1</td>\n",
       "      <td>0.999561</td>\n",
       "      <td>2.982884e-04</td>\n",
       "      <td>images/0000ec92553fda4ce39889f9226ace43cae3364...</td>\n",
       "      <td>0000ec92553fda4ce39889f9226ace43cae3364e</td>\n",
       "    </tr>\n",
       "    <tr>\n",
       "      <td>2</td>\n",
       "      <td>0.562755</td>\n",
       "      <td>4.587920e-01</td>\n",
       "      <td>images/00024a6dee61f12f7856b0fc6be20bc7a48ba3d...</td>\n",
       "      <td>00024a6dee61f12f7856b0fc6be20bc7a48ba3d2</td>\n",
       "    </tr>\n",
       "    <tr>\n",
       "      <td>3</td>\n",
       "      <td>0.000078</td>\n",
       "      <td>9.999337e-01</td>\n",
       "      <td>images/000253dfaa0be9d0d100283b22284ab2f6b643f...</td>\n",
       "      <td>000253dfaa0be9d0d100283b22284ab2f6b643f6</td>\n",
       "    </tr>\n",
       "    <tr>\n",
       "      <td>4</td>\n",
       "      <td>0.000071</td>\n",
       "      <td>9.999253e-01</td>\n",
       "      <td>images/000270442cc15af719583a8172c87cd2bd9c774...</td>\n",
       "      <td>000270442cc15af719583a8172c87cd2bd9c7746</td>\n",
       "    </tr>\n",
       "  </tbody>\n",
       "</table>\n",
       "</div>"
      ],
      "text/plain": [
       "     cancer        normal                                           file_IDs  \\\n",
       "0  0.999999  8.252396e-07  images/00006537328c33e284c973d7b39d340809f7271...   \n",
       "1  0.999561  2.982884e-04  images/0000ec92553fda4ce39889f9226ace43cae3364...   \n",
       "2  0.562755  4.587920e-01  images/00024a6dee61f12f7856b0fc6be20bc7a48ba3d...   \n",
       "3  0.000078  9.999337e-01  images/000253dfaa0be9d0d100283b22284ab2f6b643f...   \n",
       "4  0.000071  9.999253e-01  images/000270442cc15af719583a8172c87cd2bd9c774...   \n",
       "\n",
       "                                         ID  \n",
       "0  00006537328c33e284c973d7b39d340809f7271b  \n",
       "1  0000ec92553fda4ce39889f9226ace43cae3364e  \n",
       "2  00024a6dee61f12f7856b0fc6be20bc7a48ba3d2  \n",
       "3  000253dfaa0be9d0d100283b22284ab2f6b643f6  \n",
       "4  000270442cc15af719583a8172c87cd2bd9c7746  "
      ]
     },
     "execution_count": 13,
     "metadata": {},
     "output_type": "execute_result"
    }
   ],
   "source": [
    "# Notice that the file_IDs have names like images/0000653............\n",
    "# We need to remove the 'images/' and keep just the 000653..........\n",
    "\n",
    "def clean_file_ID_name(id):\n",
    "    split_id = id.split('/')\n",
    "    \n",
    "    # please note that the name also has .tif suffix which we need to remove\n",
    "    # before final submission\n",
    "    suffix_removed_id = split_id[1].split('.')\n",
    "    \n",
    "    return suffix_removed_id[0]\n",
    "\n",
    "df_predictions['ID'] = df_predictions['file_IDs'].apply(clean_file_ID_name)\n",
    "df_predictions.head()"
   ]
  },
  {
   "cell_type": "code",
   "execution_count": 14,
   "metadata": {},
   "outputs": [],
   "source": [
    "# Now we need just the cancer prediction (i.e. predict the probability of cancer)\n",
    "\n",
    "cancer_predictions = df_predictions['cancer']\n",
    "\n",
    "# get the id column\n",
    "image_ID = df_predictions['ID']\n",
    "\n",
    "submission_file = pd.DataFrame({'ID':image_ID, 'label':cancer_predictions,}).set_index('ID')\n",
    "\n",
    "submission_file.to_csv('submission_file.csv', columns=['label']) "
   ]
  },
  {
   "cell_type": "code",
   "execution_count": null,
   "metadata": {},
   "outputs": [],
   "source": []
  }
 ],
 "metadata": {
  "kernelspec": {
   "display_name": "Python 3",
   "language": "python",
   "name": "python3"
  },
  "language_info": {
   "codemirror_mode": {
    "name": "ipython",
    "version": 3
   },
   "file_extension": ".py",
   "mimetype": "text/x-python",
   "name": "python",
   "nbconvert_exporter": "python",
   "pygments_lexer": "ipython3",
   "version": "3.7.1"
  }
 },
 "nbformat": 4,
 "nbformat_minor": 2
}
