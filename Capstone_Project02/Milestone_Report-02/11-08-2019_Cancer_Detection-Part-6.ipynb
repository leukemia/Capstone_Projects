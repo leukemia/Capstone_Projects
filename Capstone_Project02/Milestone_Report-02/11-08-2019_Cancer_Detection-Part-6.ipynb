{
 "cells": [
  {
   "cell_type": "code",
   "execution_count": 1,
   "metadata": {},
   "outputs": [
    {
     "name": "stderr",
     "output_type": "stream",
     "text": [
      "Using TensorFlow backend.\n"
     ]
    }
   ],
   "source": [
    "import numpy as np\n",
    "import matplotlib.pyplot as plt\n",
    "import pandas as pd\n",
    "import seaborn as sns\n",
    "import cv2\n",
    "import imageio\n",
    "import itertools\n",
    "import shutil\n",
    "import os\n",
    "import random\n",
    "from glob import glob\n",
    "from sklearn.utils import shuffle\n",
    "from sklearn.metrics import confusion_matrix, roc_curve, auc, roc_auc_score\n",
    "from sklearn.model_selection import train_test_split, StratifiedKFold, GroupKFold\n",
    "\n",
    "import tensorflow as tf\n",
    "import keras\n",
    "from keras.preprocessing.image import ImageDataGenerator, load_img, img_to_array\n",
    "from keras.layers import Conv2D, MaxPooling2D\n",
    "from keras.layers import Dense, Dropout, Flatten, Input, Activation, GlobalAveragePooling2D, BatchNormalization, GlobalMaxPooling2D, Concatenate\n",
    "from keras.models import Sequential, Model, load_model\n",
    "from keras.callbacks import EarlyStopping, ReduceLROnPlateau, ModelCheckpoint, Callback\n",
    "from keras.optimizers import SGD, Adam\n",
    "from keras import backend as K \n",
    "from keras.utils import plot_model\n",
    "from keras import layers as KL\n",
    "from keras.applications.resnet50 import ResNet50, preprocess_input\n",
    "from keras.applications.nasnet import NASNetMobile, NASNetLarge, preprocess_input\n",
    "\n",
    "%matplotlib inline"
   ]
  },
  {
   "cell_type": "code",
   "execution_count": 2,
   "metadata": {},
   "outputs": [],
   "source": [
    "class Data_Processing():\n",
    "    @staticmethod\n",
    "    def make_working_directories(wd,tr,val,dir1,dir2):\n",
    "        '''Makes working directory and training & validation directories within working directories.\n",
    "        After that makes folder with 0 and 1 classification within training and validation directories.\n",
    "        arguments:- 1. working_directory_name, 2. trainig_directory_name, 3. validation_directory_name,\n",
    "        4. directory_name_with_class_1, 5. directory_name_with_class_0'''\n",
    "        # Because I'm sampling a subset of images, I will make separate directory\n",
    "        # for the sampled images and not mix with the original ones.\n",
    "        working_dir = wd\n",
    "\n",
    "        if os.path.exists(working_dir) and os.path.isdir(working_dir):\n",
    "            shutil.rmtree(working_dir)\n",
    "\n",
    "        os.mkdir(working_dir)\n",
    "        # Now make train_dir and validation_dir within working_dir\n",
    "        train_dir = os.path.join(working_dir, tr)\n",
    "        validation_dir = os.path.join(working_dir, val)\n",
    "        os.mkdir(train_dir)\n",
    "        os.mkdir(validation_dir)\n",
    "\n",
    "        # now make normal and cancer subfolders inside train directory\n",
    "        cancer = os.path.join(train_dir, dir1)\n",
    "        normal = os.path.join(train_dir, dir2)\n",
    "        os.mkdir(cancer)\n",
    "        os.mkdir(normal)\n",
    "\n",
    "        # now make normal and cancer subfolders inside validation directory\n",
    "        cancer = os.path.join(validation_dir, dir1)\n",
    "        normal = os.path.join(validation_dir, dir2)\n",
    "        os.mkdir(cancer)\n",
    "        os.mkdir(normal)\n",
    "        print(\"Finished making directories!\")\n",
    "        return\n",
    "    \n",
    "    def print_images(tdd, df,column,n_images):\n",
    "        '''Prints sample images.'''\n",
    "        unique_categories = (df.groupby([column])[column].unique()).index\n",
    "        fig, ax = plt.subplots(nrows=len(unique_categories), ncols=n_images,\n",
    "                          figsize=(5*n_images, 5*len(unique_categories)))\n",
    "    \n",
    "        for i, category in enumerate(unique_categories):\n",
    "            im = df[df[column]==category].sample(n_images) # n_images is also the sample size\n",
    "            for j in range(0,n_images):\n",
    "                file = tdd + im.iloc[j]['id'] + '.tif'\n",
    "                img = cv2.imread(file)\n",
    "                ax[i,j].imshow(img, resample=True, cmap='gray')\n",
    "                color = ['red' if df.iloc[i].label == 1 else 'green'][0]\n",
    "                ax[i,j].set_title(category, fontsize=36, color=color)\n",
    "        plt.tight_layout()\n",
    "        plt.show()\n",
    "        return\n",
    "    \n",
    "    def sampling(df, sample_size):\n",
    "        '''Takes a subset of images from unbalanced dataset to make balanced\n",
    "        dataset to work with.'''\n",
    "        df0 = df[df['label'] == 0].sample(sample_size, random_state=42)\n",
    "        df1 = df[df['label'] == 1].sample(sample_size, random_state=42)\n",
    "        \n",
    "        # now concatenate the dataframes\n",
    "        df_train = pd.concat([df0, df1], axis=0).reset_index(drop=True)\n",
    "\n",
    "        # shuffle\n",
    "        df_train = shuffle(df_train)\n",
    "        \n",
    "        return df_train\n",
    "    \n",
    "    def split_data(df_train):\n",
    "        '''Splits data into training and validation sets.'''\n",
    "        df_train, df_valid = train_test_split(df_train, test_size=0.2, random_state=42,\n",
    "                                     stratify=df_train['label'])\n",
    "        \n",
    "        # If I don't set the id below as index of the df, it will give error while attaching\n",
    "        # .tif to the image name\n",
    "        #df.set_index('id', inplace=True)\n",
    "        \n",
    "        train_list = list(df_train['id'])\n",
    "        valid_list = list(df_valid['id'])\n",
    "        \n",
    "        return df_train, df_valid, train_list, valid_list\n",
    "    \n",
    "    def copy_data(lst, source_directory,target_directory):\n",
    "        '''Copies data and puts them into respective directories inside working directory.'''\n",
    "        for image in lst:\n",
    "            file_name = image + '.tif'\n",
    "            target = df.loc[image, 'label']\n",
    "            if target == 0:\n",
    "                label = 'normal'\n",
    "            elif target == 1:\n",
    "                label = 'cancer'\n",
    "            \n",
    "            image_source = os.path.join(source_directory, file_name)\n",
    "            image_destination = os.path.join(target_directory, label, file_name)\n",
    "            \n",
    "            # copy the image from source folder to the destination folder\n",
    "            shutil.copyfile(image_source, image_destination)\n",
    "            \n",
    "        print(\"Finished copying data in \", target_directory, \" !\")\n",
    "            \n",
    "        return\n",
    "    \n",
    "    \n",
    "class Cancer:\n",
    "    @staticmethod\n",
    "    def build_model1(height, width, depth):\n",
    "        kernel_size = (2,2)\n",
    "        pool_size = (2,2)\n",
    "        first_filters = 32\n",
    "        second_filters = 32\n",
    "        third_filters = 64\n",
    "        \n",
    "        dropout_dense = 0.5\n",
    "        \n",
    "        input_shape = (height, width, depth)\n",
    "        \n",
    "        model = Sequential() \n",
    "        model.add(Conv2D(first_filters, kernel_size=kernel_size, input_shape = input_shape))\n",
    "        model.add(Conv2D(first_filters, kernel_size, activation = 'relu'))\n",
    "        model.add(Conv2D(first_filters, kernel_size, activation = 'relu'))\n",
    "        model.add(MaxPooling2D(pool_size = pool_size)) \n",
    "\n",
    "        model.add(Conv2D(second_filters, kernel_size, activation ='relu')) \n",
    "        model.add(Conv2D(second_filters, kernel_size, activation ='relu'))\n",
    "        model.add(Conv2D(second_filters, kernel_size, activation ='relu'))\n",
    "        model.add(MaxPooling2D(pool_size = pool_size))\n",
    "        \n",
    "\n",
    "        model.add(Conv2D(third_filters, kernel_size, activation ='relu'))\n",
    "        model.add(Conv2D(third_filters, kernel_size, activation ='relu'))\n",
    "        model.add(Conv2D(third_filters, kernel_size, activation ='relu'))\n",
    "        model.add(MaxPooling2D(pool_size = pool_size)) \n",
    "\n",
    "        model.add(Flatten()) \n",
    "        model.add(Dense(64, activation = 'relu')) \n",
    "        model.add(Dropout(dropout_dense)) \n",
    "        model.add(Dense(2, activation = 'sigmoid')) \n",
    "        \n",
    "        \n",
    "        model.summary()\n",
    "        \n",
    "        model.compile(Adam(lr=0.0001, decay=0.00001),loss='binary_crossentropy',  metrics=['accuracy'])\n",
    "\n",
    "        return model\n",
    "    \n",
    "    \n",
    "    def build_model2(height, width, depth):\n",
    "        kernel_size = (2,2)\n",
    "        pool_size = (2,2)\n",
    "        first_filters = 32\n",
    "        second_filters = 32\n",
    "        third_filters = 64\n",
    "        fourth_filters = 128\n",
    "        \n",
    "        dropout_dense = 0.5\n",
    "        \n",
    "        input_shape = (height, width, depth)\n",
    "        \n",
    "        model = Sequential() \n",
    "        model.add(Conv2D(first_filters, kernel_size=kernel_size, input_shape = input_shape))\n",
    "        model.add(Conv2D(first_filters, kernel_size, activation = 'relu'))\n",
    "        model.add(Conv2D(first_filters, kernel_size, activation = 'relu'))\n",
    "        model.add(MaxPooling2D(pool_size = pool_size)) \n",
    "\n",
    "        model.add(Conv2D(second_filters, kernel_size, activation ='relu')) \n",
    "        model.add(Conv2D(second_filters, kernel_size, activation ='relu'))\n",
    "        model.add(Conv2D(second_filters, kernel_size, activation ='relu'))\n",
    "        model.add(MaxPooling2D(pool_size = pool_size))\n",
    "        \n",
    "\n",
    "        model.add(Conv2D(third_filters, kernel_size, activation ='relu'))\n",
    "        model.add(Conv2D(third_filters, kernel_size, activation ='relu'))\n",
    "        model.add(Conv2D(third_filters, kernel_size, activation ='relu'))\n",
    "        model.add(MaxPooling2D(pool_size = pool_size)) \n",
    "        \n",
    "        model.add(Conv2D(fourth_filters, kernel_size, activation ='relu'))\n",
    "        model.add(Conv2D(fourth_filters, kernel_size, activation ='relu'))\n",
    "        model.add(Conv2D(fourth_filters, kernel_size, activation ='relu'))\n",
    "        model.add(MaxPooling2D(pool_size = pool_size)) \n",
    "\n",
    "        model.add(Flatten()) \n",
    "        model.add(Dense(64, activation = 'relu')) \n",
    "        model.add(Dropout(dropout_dense)) \n",
    "        model.add(Dense(2, activation = 'sigmoid'))  \n",
    "        \n",
    "        model.summary()\n",
    "        \n",
    "        model.compile(Adam(lr=0.0001, decay=0.00001),loss='binary_crossentropy',  metrics=['accuracy'])\n",
    "        \n",
    "        return model\n",
    "    \n",
    "    def build_model3(height, width, depth):\n",
    "        kernel_size = (2,2)\n",
    "        pool_size = (2,2)\n",
    "        first_filters = 32\n",
    "        second_filters = 32\n",
    "        third_filters = 64\n",
    "        fourth_filters = 128\n",
    "        \n",
    "        dropout_dense = 0.5\n",
    "        \n",
    "        input_shape = (height, width, depth)\n",
    "        \n",
    "        model = Sequential() \n",
    "        model.add(Conv2D(first_filters, kernel_size=kernel_size, input_shape = input_shape))\n",
    "        model.add(Conv2D(first_filters, kernel_size, activation = 'relu'))\n",
    "        model.add(Conv2D(first_filters, kernel_size, activation = 'relu'))\n",
    "        model.add(MaxPooling2D(pool_size = pool_size)) \n",
    "\n",
    "        model.add(Conv2D(second_filters, kernel_size, activation ='relu')) \n",
    "        model.add(Conv2D(second_filters, kernel_size, activation ='relu'))\n",
    "        model.add(Conv2D(second_filters, kernel_size, activation ='relu'))\n",
    "        model.add(MaxPooling2D(pool_size = pool_size))\n",
    "        \n",
    "\n",
    "        model.add(Conv2D(third_filters, kernel_size, activation ='relu'))\n",
    "        model.add(Conv2D(third_filters, kernel_size, activation ='relu'))\n",
    "        model.add(Conv2D(third_filters, kernel_size, activation ='relu'))\n",
    "        model.add(MaxPooling2D(pool_size = pool_size)) \n",
    "        \n",
    "        model.add(Conv2D(fourth_filters, kernel_size, activation ='relu'))\n",
    "        model.add(Conv2D(fourth_filters, kernel_size, activation ='relu'))\n",
    "        model.add(Conv2D(fourth_filters, kernel_size, activation ='relu'))\n",
    "        model.add(MaxPooling2D(pool_size = pool_size)) \n",
    "\n",
    "        model.add(Flatten()) \n",
    "        model.add(Dense(64, activation = 'relu')) \n",
    "        model.add(Dropout(dropout_dense))  \n",
    "        model.add(Dense(2, activation = 'softmax')) \n",
    "              \n",
    "        model.summary()\n",
    "        \n",
    "        model.compile(Adam(lr=0.0001, decay=0.00001),loss='binary_crossentropy',  metrics=['accuracy'])\n",
    "\n",
    "        return model\n",
    "\n",
    "    \n",
    "    def build_model4(height, width, depth):\n",
    "        kernel_size = (3,3)\n",
    "        pool_size= (2,2)\n",
    "        first_filters = 32\n",
    "        second_filters = 64\n",
    "        third_filters = 128\n",
    "\n",
    "        dropout_conv = 0.3\n",
    "        dropout_dense = 0.3\n",
    "        \n",
    "        input_shape = (height, width, depth)\n",
    "\n",
    "        model = Sequential()\n",
    "        model.add(Conv2D(first_filters, kernel_size, activation = 'relu', input_shape = input_shape))\n",
    "        model.add(Conv2D(first_filters, kernel_size, activation = 'relu'))\n",
    "        model.add(Conv2D(first_filters, kernel_size, activation = 'relu'))\n",
    "        model.add(MaxPooling2D(pool_size = pool_size)) \n",
    "        model.add(Dropout(dropout_conv))\n",
    "\n",
    "        model.add(Conv2D(second_filters, kernel_size, activation ='relu'))\n",
    "        model.add(Conv2D(second_filters, kernel_size, activation ='relu'))\n",
    "        model.add(Conv2D(second_filters, kernel_size, activation ='relu'))\n",
    "        model.add(MaxPooling2D(pool_size = pool_size))\n",
    "        model.add(Dropout(dropout_conv))\n",
    "\n",
    "        model.add(Conv2D(third_filters, kernel_size, activation ='relu'))\n",
    "        model.add(Conv2D(third_filters, kernel_size, activation ='relu'))\n",
    "        model.add(Conv2D(third_filters, kernel_size, activation ='relu'))\n",
    "        model.add(MaxPooling2D(pool_size = pool_size))\n",
    "        model.add(Dropout(dropout_conv))\n",
    "\n",
    "        model.add(Flatten())\n",
    "        model.add(Dense(256, activation = \"relu\"))\n",
    "        model.add(Dropout(dropout_dense))\n",
    "        model.add(Dense(2, activation = \"softmax\"))\n",
    "\n",
    "        model.summary()\n",
    "        \n",
    "        model.compile(Adam(lr=0.0001, decay=0.00001),loss='binary_crossentropy',  metrics=['accuracy'])\n",
    "\n",
    "        return model\n",
    "    \n",
    "    def build_model5(height, width, depth):\n",
    "        kernel_size = (2,2)\n",
    "        pool_size = (2,2)\n",
    "        first_filters = 32\n",
    "        second_filters = 64\n",
    "        third_filters = 128\n",
    "        fourth_filters = 128\n",
    "\n",
    "        \n",
    "        dropout_conv = 0.3\n",
    "        dropout_dense = 0.3\n",
    "        \n",
    "        input_shape = (height, width, depth)\n",
    "\n",
    "        model = Sequential()\n",
    "        model.add(Conv2D(first_filters, kernel_size, activation = 'relu', input_shape = input_shape))\n",
    "        model.add(Conv2D(first_filters, kernel_size, activation = 'relu'))\n",
    "        model.add(Conv2D(first_filters, kernel_size, activation = 'relu'))\n",
    "        model.add(MaxPooling2D(pool_size = pool_size)) \n",
    "        model.add(Dropout(dropout_conv))\n",
    "\n",
    "        model.add(Conv2D(second_filters, kernel_size, activation ='relu'))\n",
    "        model.add(Conv2D(second_filters, kernel_size, activation ='relu'))\n",
    "        model.add(Conv2D(second_filters, kernel_size, activation ='relu'))\n",
    "        model.add(MaxPooling2D(pool_size = pool_size))\n",
    "        model.add(Dropout(dropout_conv))\n",
    "\n",
    "        model.add(Conv2D(third_filters, kernel_size, activation ='relu'))\n",
    "        model.add(Conv2D(third_filters, kernel_size, activation ='relu'))\n",
    "        model.add(Conv2D(third_filters, kernel_size, activation ='relu'))\n",
    "        model.add(MaxPooling2D(pool_size = pool_size))\n",
    "        model.add(Dropout(dropout_conv))\n",
    "        \n",
    "        model.add(Conv2D(fourth_filters, kernel_size, activation ='relu'))\n",
    "        model.add(Conv2D(fourth_filters, kernel_size, activation ='relu'))\n",
    "        model.add(Conv2D(fourth_filters, kernel_size, activation ='relu'))\n",
    "        model.add(MaxPooling2D(pool_size = pool_size))\n",
    "        model.add(Dropout(dropout_conv))\n",
    "\n",
    "        model.add(Flatten())\n",
    "        model.add(Dense(256, activation = \"relu\"))\n",
    "        model.add(Dropout(dropout_dense))\n",
    "        model.add(Dense(2, activation = \"softmax\"))\n",
    "        \n",
    "        model.summary()\n",
    "        \n",
    "        model.compile(Adam(lr=0.0001, decay=0.00001),loss='binary_crossentropy',  metrics=['accuracy'])\n",
    "\n",
    "        return model\n",
    "    \n",
    "    def build_model6(height, width, depth):\n",
    "        import ssl\n",
    "\n",
    "        ssl._create_default_https_context = ssl._create_unverified_context\n",
    "        \n",
    "        \n",
    "        input_shape = (height, width, depth)\n",
    "        resnet = ResNet50(include_top=False, weights='imagenet', \n",
    "                          input_shape=input_shape)\n",
    "        \n",
    "        inputs = Input((height, width, depth))\n",
    "        outputs = GlobalAveragePooling2D()(resnet(inputs))\n",
    "        outputs = Dropout(0.5)(outputs)\n",
    "        outputs = Dense(2, activation='sigmoid')(outputs)\n",
    "        \n",
    "        model = Model(inputs, outputs)\n",
    "        \n",
    "        model.summary()\n",
    "        \n",
    "        model.compile(Adam(lr=0.0001, decay=0.00001),loss='binary_crossentropy',  metrics=['accuracy'])\n",
    "        \n",
    "        return model\n",
    "    \n",
    "    \n",
    "    def build_model7(height, width, depth):\n",
    "        input_shape = (height, width, depth)\n",
    "        NasM = NASNetMobile(include_top=False, input_shape=input_shape, weights=None)\n",
    "        inputs = Input((height, width, depth))\n",
    "        x = NasM(inputs)\n",
    "        out1 = GlobalMaxPooling2D()(x)\n",
    "        out2 = GlobalAveragePooling2D()(x)\n",
    "        out3 = Flatten()(x)\n",
    "        out = Concatenate(axis=-1)([out1, out2, out3])\n",
    "        out = Dropout(0.5)(out)\n",
    "        out = Dense(2, activation=\"sigmoid\", name=\"3_\")(out)\n",
    "        model = Model(inputs, out)\n",
    "\n",
    "        model.summary()\n",
    "        \n",
    "        model.compile(Adam(lr=0.0001, decay=0.00001),loss='binary_crossentropy',  metrics=['accuracy'])\n",
    "        \n",
    "        return model\n",
    "\n",
    "    \n",
    "    def build_datagen(tp, vp, tstp, imsize, bsize):\n",
    "        datagen = ImageDataGenerator(rescale=1.0/255, shear_range=0.2, zoom_range=0.2)\n",
    "        \n",
    "        train_datagen = datagen.flow_from_directory(tp, target_size=(imsize,imsize),\n",
    "                                                   batch_size=bsize, class_mode='categorical')\n",
    "        \n",
    "        validation_datagen = datagen.flow_from_directory(vp, target_size=(imsize,imsize),\n",
    "                                                   batch_size=bsize, class_mode='categorical')\n",
    "        \n",
    "        #test_datagen = datagen.flow_from_directory(tstp, target_size=(imsize,imsize),\n",
    "        #                                           batch_size=1, class_mode='binary',\n",
    "        #                                          shuffle=False)\n",
    "        \n",
    "        test_datagen = datagen.flow_from_directory(vp, target_size=(imsize,imsize),\n",
    "                                                   batch_size=1, class_mode='categorical',\n",
    "                                                  shuffle=False)\n",
    "        \n",
    "        return train_datagen, validation_datagen, test_datagen\n",
    "    \n",
    "    def callback_list(model):\n",
    "        checkpoint = ModelCheckpoint(model, monitor='val_accuracy', verbose=1,\n",
    "                                    save_best_only=True, mode='max')\n",
    "        reduce_lr = ReduceLROnPlateau(monitor='val_accuracy',factor=0.5, patience=2,\n",
    "                                     verbose=1, mode='max', min_lr=0.00001)\n",
    "        callback_list = [checkpoint, reduce_lr]\n",
    "        return callback_list\n",
    "\n"
   ]
  },
  {
   "cell_type": "code",
   "execution_count": 3,
   "metadata": {},
   "outputs": [
    {
     "name": "stdout",
     "output_type": "stream",
     "text": [
      "Files in the working directory ====> ['.DS_Store', 'train_dir', 'validation_dir']\n",
      "Files in the working/train directory ====> ['.DS_Store', 'cancer', 'normal']\n",
      "Files in the working/validation directory ====> ['cancer', 'normal']\n"
     ]
    }
   ],
   "source": [
    "print('Files in the working directory ====>', os.listdir('./working_dir'))\n",
    "print('Files in the working/train directory ====>', os.listdir('./working_dir/train_dir'))\n",
    "print('Files in the working/validation directory ====>', os.listdir('./working_dir/validation_dir'))"
   ]
  },
  {
   "cell_type": "code",
   "execution_count": 4,
   "metadata": {},
   "outputs": [
    {
     "data": {
      "text/html": [
       "<div>\n",
       "<style scoped>\n",
       "    .dataframe tbody tr th:only-of-type {\n",
       "        vertical-align: middle;\n",
       "    }\n",
       "\n",
       "    .dataframe tbody tr th {\n",
       "        vertical-align: top;\n",
       "    }\n",
       "\n",
       "    .dataframe thead th {\n",
       "        text-align: right;\n",
       "    }\n",
       "</style>\n",
       "<table border=\"1\" class=\"dataframe\">\n",
       "  <thead>\n",
       "    <tr style=\"text-align: right;\">\n",
       "      <th></th>\n",
       "      <th>id</th>\n",
       "      <th>label</th>\n",
       "    </tr>\n",
       "  </thead>\n",
       "  <tbody>\n",
       "    <tr>\n",
       "      <td>0</td>\n",
       "      <td>402ca4eccdf378e8f5233873bbc08b38ea8993f2</td>\n",
       "      <td>0</td>\n",
       "    </tr>\n",
       "    <tr>\n",
       "      <td>1</td>\n",
       "      <td>710e80026b86a6ab187b33e415ead47f26faedda</td>\n",
       "      <td>1</td>\n",
       "    </tr>\n",
       "    <tr>\n",
       "      <td>2</td>\n",
       "      <td>2b2388ceb0e433831a454265a0a980293532ecae</td>\n",
       "      <td>0</td>\n",
       "    </tr>\n",
       "    <tr>\n",
       "      <td>3</td>\n",
       "      <td>bc76c7d156128e6c724139a938e2b6ae7fb18ee9</td>\n",
       "      <td>1</td>\n",
       "    </tr>\n",
       "    <tr>\n",
       "      <td>4</td>\n",
       "      <td>c1e1ddd35d445c842c34f6c47122d64778dfddf7</td>\n",
       "      <td>0</td>\n",
       "    </tr>\n",
       "  </tbody>\n",
       "</table>\n",
       "</div>"
      ],
      "text/plain": [
       "                                         id  label\n",
       "0  402ca4eccdf378e8f5233873bbc08b38ea8993f2      0\n",
       "1  710e80026b86a6ab187b33e415ead47f26faedda      1\n",
       "2  2b2388ceb0e433831a454265a0a980293532ecae      0\n",
       "3  bc76c7d156128e6c724139a938e2b6ae7fb18ee9      1\n",
       "4  c1e1ddd35d445c842c34f6c47122d64778dfddf7      0"
      ]
     },
     "execution_count": 4,
     "metadata": {},
     "output_type": "execute_result"
    }
   ],
   "source": [
    "TRAIN_DATA_DIRECTORY = '../data/train/'\n",
    "TRAIN_LABEL = '../data/train_labels.csv'\n",
    "TEST_DATA_DIRECTORY = '../data/test/'\n",
    "df_sampled = pd.read_csv('df_sampled.csv')\n",
    "df_sampled.head()"
   ]
  },
  {
   "cell_type": "markdown",
   "metadata": {},
   "source": [
    "#### Now split the train and validation sets and put them into their respective folders\n",
    "\n",
    "The `stratify` parameter makes a split so that the porportion of values in the sample produced will be the same as the proportion of values provided to parameter `stratify`.\n",
    "For example, if variable `y` is binary categorical variable with values `0` and `1` and there are 25% of zeros adn 75% of ones, `stratify=y` will make sure that your random split has 25% of `0`'s and 75% of `1`'s."
   ]
  },
  {
   "cell_type": "code",
   "execution_count": 5,
   "metadata": {},
   "outputs": [
    {
     "name": "stdout",
     "output_type": "stream",
     "text": [
      "df_train shape (32000, 2)\n",
      "df_validation_shape (8000, 2)\n"
     ]
    }
   ],
   "source": [
    "df_train, df_valid, train_list, valid_list = Data_Processing.split_data(df_sampled)\n",
    "\n",
    "print('df_train shape', df_train.shape)\n",
    "print('df_validation_shape', df_valid.shape)"
   ]
  },
  {
   "cell_type": "code",
   "execution_count": 6,
   "metadata": {},
   "outputs": [
    {
     "name": "stdout",
     "output_type": "stream",
     "text": [
      "Number of files in working_dir/train_dir/cancer ====> 16000\n",
      "Number of files in working_dir/train_dir/normal ====> 16000\n",
      "Number of files in working_dir/validation_dir/cancer ====> 4000\n",
      "Number of files in working_dir/validation_dir/normal ====> 4000\n"
     ]
    }
   ],
   "source": [
    "print('Number of files in working_dir/train_dir/cancer ====>', \\\n",
    "      len(os.listdir('working_dir/train_dir/cancer')))\n",
    "print('Number of files in working_dir/train_dir/normal ====>', \\\n",
    "      len(os.listdir('working_dir/train_dir/normal')))\n",
    "print('Number of files in working_dir/validation_dir/cancer ====>', \\\n",
    "      len(os.listdir('working_dir/validation_dir/cancer')))\n",
    "print('Number of files in working_dir/validation_dir/normal ====>', \\\n",
    "      len(os.listdir('working_dir/validation_dir/normal')))"
   ]
  },
  {
   "cell_type": "code",
   "execution_count": 7,
   "metadata": {},
   "outputs": [
    {
     "name": "stdout",
     "output_type": "stream",
     "text": [
      "Found 32000 images belonging to 2 classes.\n",
      "Found 8000 images belonging to 2 classes.\n",
      "Found 8000 images belonging to 2 classes.\n"
     ]
    }
   ],
   "source": [
    "IMAGE_SIZE = 96\n",
    "train_path = 'working_dir/train_dir'\n",
    "validation_path = 'working_dir/validation_dir'\n",
    "test_path = 'data/test'\n",
    "\n",
    "num_train_samples = len(df_train)\n",
    "num_valid_samples = len(df_valid)\n",
    "\n",
    "batch_size = 10\n",
    "\n",
    "train_datagen, validation_datagen, test_datagen = Cancer.build_datagen(train_path,validation_path,\n",
    "                                                                       test_path, IMAGE_SIZE,batch_size)"
   ]
  },
  {
   "cell_type": "code",
   "execution_count": 8,
   "metadata": {},
   "outputs": [],
   "source": [
    "from keras.models import load_model\n",
    "my_model1 = load_model('./models/new_model1.h5')\n",
    "my_model2 = load_model('./models/new_model2.h5')\n",
    "my_model3 = load_model('./models/new_model3.h5')\n",
    "my_model4 = load_model('./models/new_model4.h5')\n",
    "my_model5 = load_model('./models/new_model5.h5')\n",
    "my_model6 = load_model('./models/new_model6.h5')\n",
    "my_model7 = load_model('./models/new_model7.h5')"
   ]
  },
  {
   "cell_type": "code",
   "execution_count": 9,
   "metadata": {},
   "outputs": [],
   "source": [
    "val_loss_dict = {}\n",
    "val_acc_dict = {}\n",
    "\n",
    "val_loss, val_acc = my_model6.evaluate_generator(test_datagen, steps=len(df_valid))\n",
    "\n",
    "val_loss_dict['model1'] = val_loss\n",
    "val_acc_dict['model1'] = val_acc\n",
    "\n",
    "val_loss, val_acc = my_model2.evaluate_generator(test_datagen, steps=len(df_valid))\n",
    "\n",
    "val_loss_dict['model2'] = val_loss\n",
    "val_acc_dict['model2'] = val_acc\n",
    "\n",
    "val_loss, val_acc = my_model3.evaluate_generator(test_datagen, steps=len(df_valid))\n",
    "\n",
    "val_loss_dict['model3'] = val_loss\n",
    "val_acc_dict['model3'] = val_acc\n",
    "\n",
    "val_loss, val_acc = my_model4.evaluate_generator(test_datagen, steps=len(df_valid))\n",
    "\n",
    "val_loss_dict['model4'] = val_loss\n",
    "val_acc_dict['model4'] = val_acc\n",
    "\n",
    "val_loss, val_acc = my_model5.evaluate_generator(test_datagen, steps=len(df_valid))\n",
    "\n",
    "val_loss_dict['model5'] = val_loss\n",
    "val_acc_dict['model5'] = val_acc\n",
    "\n",
    "val_loss, val_acc = my_model6.evaluate_generator(test_datagen, steps=len(df_valid))\n",
    "\n",
    "val_loss_dict['model6'] = val_loss\n",
    "val_acc_dict['model6'] = val_acc\n",
    "\n",
    "val_loss, val_acc = my_model7.evaluate_generator(test_datagen, steps=len(df_valid))\n",
    "\n",
    "val_loss_dict['model7'] = val_loss\n",
    "val_acc_dict['model7'] = val_acc"
   ]
  },
  {
   "cell_type": "code",
   "execution_count": 10,
   "metadata": {},
   "outputs": [
    {
     "data": {
      "text/html": [
       "<div>\n",
       "<style scoped>\n",
       "    .dataframe tbody tr th:only-of-type {\n",
       "        vertical-align: middle;\n",
       "    }\n",
       "\n",
       "    .dataframe tbody tr th {\n",
       "        vertical-align: top;\n",
       "    }\n",
       "\n",
       "    .dataframe thead th {\n",
       "        text-align: right;\n",
       "    }\n",
       "</style>\n",
       "<table border=\"1\" class=\"dataframe\">\n",
       "  <thead>\n",
       "    <tr style=\"text-align: right;\">\n",
       "      <th></th>\n",
       "      <th>val_loss</th>\n",
       "    </tr>\n",
       "  </thead>\n",
       "  <tbody>\n",
       "    <tr>\n",
       "      <td>model1</td>\n",
       "      <td>0.003166</td>\n",
       "    </tr>\n",
       "    <tr>\n",
       "      <td>model2</td>\n",
       "      <td>0.017603</td>\n",
       "    </tr>\n",
       "    <tr>\n",
       "      <td>model3</td>\n",
       "      <td>0.014006</td>\n",
       "    </tr>\n",
       "    <tr>\n",
       "      <td>model4</td>\n",
       "      <td>0.028071</td>\n",
       "    </tr>\n",
       "    <tr>\n",
       "      <td>model5</td>\n",
       "      <td>0.041226</td>\n",
       "    </tr>\n",
       "    <tr>\n",
       "      <td>model6</td>\n",
       "      <td>0.008133</td>\n",
       "    </tr>\n",
       "    <tr>\n",
       "      <td>model7</td>\n",
       "      <td>0.031510</td>\n",
       "    </tr>\n",
       "  </tbody>\n",
       "</table>\n",
       "</div>"
      ],
      "text/plain": [
       "        val_loss\n",
       "model1  0.003166\n",
       "model2  0.017603\n",
       "model3  0.014006\n",
       "model4  0.028071\n",
       "model5  0.041226\n",
       "model6  0.008133\n",
       "model7  0.031510"
      ]
     },
     "execution_count": 10,
     "metadata": {},
     "output_type": "execute_result"
    }
   ],
   "source": [
    "index = [0]\n",
    "val_loss_df = pd.DataFrame(val_loss_dict, index=index)\n",
    "val_acc_df = pd.DataFrame(val_acc_dict, index=index)\n",
    "val_loss_df = val_loss_df.T\n",
    "val_loss_df.columns = ['val_loss']\n",
    "val_loss_df"
   ]
  },
  {
   "cell_type": "code",
   "execution_count": 11,
   "metadata": {},
   "outputs": [
    {
     "data": {
      "text/html": [
       "<div>\n",
       "<style scoped>\n",
       "    .dataframe tbody tr th:only-of-type {\n",
       "        vertical-align: middle;\n",
       "    }\n",
       "\n",
       "    .dataframe tbody tr th {\n",
       "        vertical-align: top;\n",
       "    }\n",
       "\n",
       "    .dataframe thead th {\n",
       "        text-align: right;\n",
       "    }\n",
       "</style>\n",
       "<table border=\"1\" class=\"dataframe\">\n",
       "  <thead>\n",
       "    <tr style=\"text-align: right;\">\n",
       "      <th></th>\n",
       "      <th>val_acc</th>\n",
       "    </tr>\n",
       "  </thead>\n",
       "  <tbody>\n",
       "    <tr>\n",
       "      <td>model1</td>\n",
       "      <td>0.935250</td>\n",
       "    </tr>\n",
       "    <tr>\n",
       "      <td>model2</td>\n",
       "      <td>0.872125</td>\n",
       "    </tr>\n",
       "    <tr>\n",
       "      <td>model3</td>\n",
       "      <td>0.871375</td>\n",
       "    </tr>\n",
       "    <tr>\n",
       "      <td>model4</td>\n",
       "      <td>0.839000</td>\n",
       "    </tr>\n",
       "    <tr>\n",
       "      <td>model5</td>\n",
       "      <td>0.850625</td>\n",
       "    </tr>\n",
       "    <tr>\n",
       "      <td>model6</td>\n",
       "      <td>0.935375</td>\n",
       "    </tr>\n",
       "    <tr>\n",
       "      <td>model7</td>\n",
       "      <td>0.840813</td>\n",
       "    </tr>\n",
       "  </tbody>\n",
       "</table>\n",
       "</div>"
      ],
      "text/plain": [
       "         val_acc\n",
       "model1  0.935250\n",
       "model2  0.872125\n",
       "model3  0.871375\n",
       "model4  0.839000\n",
       "model5  0.850625\n",
       "model6  0.935375\n",
       "model7  0.840813"
      ]
     },
     "execution_count": 11,
     "metadata": {},
     "output_type": "execute_result"
    }
   ],
   "source": [
    "val_acc_df = val_acc_df.T\n",
    "val_acc_df.columns = ['val_acc']\n",
    "val_acc_df"
   ]
  },
  {
   "cell_type": "code",
   "execution_count": 12,
   "metadata": {},
   "outputs": [
    {
     "data": {
      "text/plain": [
       "<bound method DataFrame.reset_index of         val_loss\n",
       "model1  0.003166\n",
       "model2  0.017603\n",
       "model3  0.014006\n",
       "model4  0.028071\n",
       "model5  0.041226\n",
       "model6  0.008133\n",
       "model7  0.031510>"
      ]
     },
     "execution_count": 12,
     "metadata": {},
     "output_type": "execute_result"
    }
   ],
   "source": [
    "val_loss_df.reset_index"
   ]
  },
  {
   "cell_type": "code",
   "execution_count": 13,
   "metadata": {},
   "outputs": [
    {
     "data": {
      "text/plain": [
       "<bound method DataFrame.reset_index of          val_acc\n",
       "model1  0.935250\n",
       "model2  0.872125\n",
       "model3  0.871375\n",
       "model4  0.839000\n",
       "model5  0.850625\n",
       "model6  0.935375\n",
       "model7  0.840813>"
      ]
     },
     "execution_count": 13,
     "metadata": {},
     "output_type": "execute_result"
    }
   ],
   "source": [
    "val_acc_df.reset_index"
   ]
  },
  {
   "cell_type": "code",
   "execution_count": 14,
   "metadata": {},
   "outputs": [
    {
     "data": {
      "text/html": [
       "<div>\n",
       "<style scoped>\n",
       "    .dataframe tbody tr th:only-of-type {\n",
       "        vertical-align: middle;\n",
       "    }\n",
       "\n",
       "    .dataframe tbody tr th {\n",
       "        vertical-align: top;\n",
       "    }\n",
       "\n",
       "    .dataframe thead th {\n",
       "        text-align: right;\n",
       "    }\n",
       "</style>\n",
       "<table border=\"1\" class=\"dataframe\">\n",
       "  <thead>\n",
       "    <tr style=\"text-align: right;\">\n",
       "      <th></th>\n",
       "      <th>val_loss</th>\n",
       "      <th>val_acc</th>\n",
       "    </tr>\n",
       "  </thead>\n",
       "  <tbody>\n",
       "    <tr>\n",
       "      <td>model1</td>\n",
       "      <td>0.003166</td>\n",
       "      <td>0.935250</td>\n",
       "    </tr>\n",
       "    <tr>\n",
       "      <td>model2</td>\n",
       "      <td>0.017603</td>\n",
       "      <td>0.872125</td>\n",
       "    </tr>\n",
       "    <tr>\n",
       "      <td>model3</td>\n",
       "      <td>0.014006</td>\n",
       "      <td>0.871375</td>\n",
       "    </tr>\n",
       "    <tr>\n",
       "      <td>model4</td>\n",
       "      <td>0.028071</td>\n",
       "      <td>0.839000</td>\n",
       "    </tr>\n",
       "    <tr>\n",
       "      <td>model5</td>\n",
       "      <td>0.041226</td>\n",
       "      <td>0.850625</td>\n",
       "    </tr>\n",
       "    <tr>\n",
       "      <td>model6</td>\n",
       "      <td>0.008133</td>\n",
       "      <td>0.935375</td>\n",
       "    </tr>\n",
       "    <tr>\n",
       "      <td>model7</td>\n",
       "      <td>0.031510</td>\n",
       "      <td>0.840813</td>\n",
       "    </tr>\n",
       "  </tbody>\n",
       "</table>\n",
       "</div>"
      ],
      "text/plain": [
       "        val_loss   val_acc\n",
       "model1  0.003166  0.935250\n",
       "model2  0.017603  0.872125\n",
       "model3  0.014006  0.871375\n",
       "model4  0.028071  0.839000\n",
       "model5  0.041226  0.850625\n",
       "model6  0.008133  0.935375\n",
       "model7  0.031510  0.840813"
      ]
     },
     "execution_count": 14,
     "metadata": {},
     "output_type": "execute_result"
    }
   ],
   "source": [
    "val_loss_val_acc_df = val_loss_df.join(val_acc_df, how='outer')\n",
    "val_loss_val_acc_df"
   ]
  },
  {
   "cell_type": "code",
   "execution_count": 15,
   "metadata": {},
   "outputs": [
    {
     "name": "stdout",
     "output_type": "stream",
     "text": [
      "8000/8000 [==============================] - 32s 4ms/step\n",
      "8000/8000 [==============================] - 37s 5ms/step\n",
      "8000/8000 [==============================] - 37s 5ms/step\n",
      "8000/8000 [==============================] - 61s 8ms/step\n",
      "8000/8000 [==============================] - 55s 7ms/step\n",
      "8000/8000 [==============================] - 284s 36ms/step\n",
      "8000/8000 [==============================] - 164s 21ms/step\n"
     ]
    }
   ],
   "source": [
    "predictions1_x = my_model1.predict_generator(test_datagen, steps=len(df_valid), verbose=1)\n",
    "predictions2_x = my_model2.predict_generator(test_datagen, steps=len(df_valid), verbose=1)\n",
    "predictions3_x = my_model3.predict_generator(test_datagen, steps=len(df_valid), verbose=1)\n",
    "predictions4_x = my_model4.predict_generator(test_datagen, steps=len(df_valid), verbose=1)\n",
    "predictions5_x = my_model5.predict_generator(test_datagen, steps=len(df_valid), verbose=1)\n",
    "predictions6_x = my_model6.predict_generator(test_datagen, steps=len(df_valid), verbose=1)\n",
    "predictions7_x = my_model7.predict_generator(test_datagen, steps=len(df_valid), verbose=1)"
   ]
  },
  {
   "cell_type": "code",
   "execution_count": 16,
   "metadata": {},
   "outputs": [],
   "source": [
    "df_predictions1 = pd.DataFrame(predictions1_x, columns=['normal', 'cancer'])\n",
    "df_predictions2 = pd.DataFrame(predictions2_x, columns=['normal', 'cancer'])\n",
    "df_predictions3 = pd.DataFrame(predictions3_x, columns=['normal', 'cancer'])\n",
    "df_predictions4 = pd.DataFrame(predictions4_x, columns=['normal', 'cancer'])\n",
    "df_predictions5 = pd.DataFrame(predictions5_x, columns=['normal', 'cancer'])\n",
    "df_predictions6 = pd.DataFrame(predictions6_x, columns=['normal', 'cancer'])\n",
    "df_predictions7 = pd.DataFrame(predictions7_x, columns=['normal', 'cancer'])"
   ]
  },
  {
   "cell_type": "code",
   "execution_count": 17,
   "metadata": {},
   "outputs": [
    {
     "name": "stdout",
     "output_type": "stream",
     "text": [
      "0.9401422500000001\n",
      "0.9458688124999999\n",
      "0.9462513749999999\n",
      "0.9225599062500001\n",
      "0.9260073750000001\n",
      "0.9805297187500001\n",
      "0.92516190625\n"
     ]
    }
   ],
   "source": [
    "roc_auc_score_dict = {}\n",
    "\n",
    "\n",
    "# get the true labels of the images\n",
    "y_true = test_datagen.classes\n",
    "\n",
    "# Get the predicted labels as probabilities\n",
    "y_pred = df_predictions1['cancer']\n",
    "\n",
    "print(roc_auc_score(y_true, y_pred))\n",
    "\n",
    "roc_auc_score_dict['model1'] = roc_auc_score(y_true, y_pred)\n",
    "\n",
    "y_pred = df_predictions2['cancer']\n",
    "\n",
    "print(roc_auc_score(y_true, y_pred))\n",
    "\n",
    "roc_auc_score_dict['model2'] = roc_auc_score(y_true, y_pred)\n",
    "\n",
    "y_pred = df_predictions3['cancer']\n",
    "\n",
    "print(roc_auc_score(y_true, y_pred))\n",
    "\n",
    "roc_auc_score_dict['model3'] = roc_auc_score(y_true, y_pred)\n",
    "\n",
    "y_pred = df_predictions4['cancer']\n",
    "\n",
    "print(roc_auc_score(y_true, y_pred))\n",
    "\n",
    "roc_auc_score_dict['model4'] = roc_auc_score(y_true, y_pred)\n",
    "\n",
    "y_pred = df_predictions5['cancer']\n",
    "\n",
    "print(roc_auc_score(y_true, y_pred))\n",
    "\n",
    "roc_auc_score_dict['model5'] = roc_auc_score(y_true, y_pred)\n",
    "\n",
    "y_pred = df_predictions6['cancer']\n",
    "\n",
    "print(roc_auc_score(y_true, y_pred))\n",
    "\n",
    "roc_auc_score_dict['model6'] = roc_auc_score(y_true, y_pred)\n",
    "\n",
    "y_pred = df_predictions7['cancer']\n",
    "\n",
    "print(roc_auc_score(y_true, y_pred))\n",
    "\n",
    "roc_auc_score_dict['model7'] = roc_auc_score(y_true, y_pred)"
   ]
  },
  {
   "cell_type": "code",
   "execution_count": 18,
   "metadata": {},
   "outputs": [
    {
     "data": {
      "text/html": [
       "<div>\n",
       "<style scoped>\n",
       "    .dataframe tbody tr th:only-of-type {\n",
       "        vertical-align: middle;\n",
       "    }\n",
       "\n",
       "    .dataframe tbody tr th {\n",
       "        vertical-align: top;\n",
       "    }\n",
       "\n",
       "    .dataframe thead th {\n",
       "        text-align: right;\n",
       "    }\n",
       "</style>\n",
       "<table border=\"1\" class=\"dataframe\">\n",
       "  <thead>\n",
       "    <tr style=\"text-align: right;\">\n",
       "      <th></th>\n",
       "      <th>roc_auc_scores</th>\n",
       "    </tr>\n",
       "  </thead>\n",
       "  <tbody>\n",
       "    <tr>\n",
       "      <td>model1</td>\n",
       "      <td>0.940142</td>\n",
       "    </tr>\n",
       "    <tr>\n",
       "      <td>model2</td>\n",
       "      <td>0.945869</td>\n",
       "    </tr>\n",
       "    <tr>\n",
       "      <td>model3</td>\n",
       "      <td>0.946251</td>\n",
       "    </tr>\n",
       "    <tr>\n",
       "      <td>model4</td>\n",
       "      <td>0.922560</td>\n",
       "    </tr>\n",
       "    <tr>\n",
       "      <td>model5</td>\n",
       "      <td>0.926007</td>\n",
       "    </tr>\n",
       "    <tr>\n",
       "      <td>model6</td>\n",
       "      <td>0.980530</td>\n",
       "    </tr>\n",
       "    <tr>\n",
       "      <td>model7</td>\n",
       "      <td>0.925162</td>\n",
       "    </tr>\n",
       "  </tbody>\n",
       "</table>\n",
       "</div>"
      ],
      "text/plain": [
       "        roc_auc_scores\n",
       "model1        0.940142\n",
       "model2        0.945869\n",
       "model3        0.946251\n",
       "model4        0.922560\n",
       "model5        0.926007\n",
       "model6        0.980530\n",
       "model7        0.925162"
      ]
     },
     "execution_count": 18,
     "metadata": {},
     "output_type": "execute_result"
    }
   ],
   "source": [
    "index = [0]\n",
    "roc_auc_scores_df = pd.DataFrame(roc_auc_score_dict, index=index)\n",
    "roc_auc_scores_df = roc_auc_scores_df.T\n",
    "roc_auc_scores_df.columns = ['roc_auc_scores']\n",
    "roc_auc_scores_df"
   ]
  },
  {
   "cell_type": "code",
   "execution_count": 19,
   "metadata": {},
   "outputs": [
    {
     "data": {
      "text/html": [
       "<div>\n",
       "<style scoped>\n",
       "    .dataframe tbody tr th:only-of-type {\n",
       "        vertical-align: middle;\n",
       "    }\n",
       "\n",
       "    .dataframe tbody tr th {\n",
       "        vertical-align: top;\n",
       "    }\n",
       "\n",
       "    .dataframe thead th {\n",
       "        text-align: right;\n",
       "    }\n",
       "</style>\n",
       "<table border=\"1\" class=\"dataframe\">\n",
       "  <thead>\n",
       "    <tr style=\"text-align: right;\">\n",
       "      <th></th>\n",
       "      <th>val_loss</th>\n",
       "      <th>val_acc</th>\n",
       "      <th>roc_auc_scores</th>\n",
       "    </tr>\n",
       "  </thead>\n",
       "  <tbody>\n",
       "    <tr>\n",
       "      <td>model1</td>\n",
       "      <td>0.003166</td>\n",
       "      <td>0.935250</td>\n",
       "      <td>0.940142</td>\n",
       "    </tr>\n",
       "    <tr>\n",
       "      <td>model2</td>\n",
       "      <td>0.017603</td>\n",
       "      <td>0.872125</td>\n",
       "      <td>0.945869</td>\n",
       "    </tr>\n",
       "    <tr>\n",
       "      <td>model3</td>\n",
       "      <td>0.014006</td>\n",
       "      <td>0.871375</td>\n",
       "      <td>0.946251</td>\n",
       "    </tr>\n",
       "    <tr>\n",
       "      <td>model4</td>\n",
       "      <td>0.028071</td>\n",
       "      <td>0.839000</td>\n",
       "      <td>0.922560</td>\n",
       "    </tr>\n",
       "    <tr>\n",
       "      <td>model5</td>\n",
       "      <td>0.041226</td>\n",
       "      <td>0.850625</td>\n",
       "      <td>0.926007</td>\n",
       "    </tr>\n",
       "    <tr>\n",
       "      <td>model6</td>\n",
       "      <td>0.008133</td>\n",
       "      <td>0.935375</td>\n",
       "      <td>0.980530</td>\n",
       "    </tr>\n",
       "    <tr>\n",
       "      <td>model7</td>\n",
       "      <td>0.031510</td>\n",
       "      <td>0.840813</td>\n",
       "      <td>0.925162</td>\n",
       "    </tr>\n",
       "  </tbody>\n",
       "</table>\n",
       "</div>"
      ],
      "text/plain": [
       "        val_loss   val_acc  roc_auc_scores\n",
       "model1  0.003166  0.935250        0.940142\n",
       "model2  0.017603  0.872125        0.945869\n",
       "model3  0.014006  0.871375        0.946251\n",
       "model4  0.028071  0.839000        0.922560\n",
       "model5  0.041226  0.850625        0.926007\n",
       "model6  0.008133  0.935375        0.980530\n",
       "model7  0.031510  0.840813        0.925162"
      ]
     },
     "execution_count": 19,
     "metadata": {},
     "output_type": "execute_result"
    }
   ],
   "source": [
    "val_loss_val_acc_roc_auc_scores_df = val_loss_val_acc_df.join(roc_auc_scores_df, how='outer')\n",
    "val_loss_val_acc_roc_auc_scores_df"
   ]
  },
  {
   "cell_type": "code",
   "execution_count": 20,
   "metadata": {},
   "outputs": [],
   "source": [
    "def plot_confusion_matrix(cm, classes,\n",
    "                          normalize=False,\n",
    "                          title='Confusion matrix',\n",
    "                          cmap=plt.cm.Blues):\n",
    "    \"\"\"\n",
    "    This function prints and plots the confusion matrix.\n",
    "    Normalization can be applied by setting `normalize=True`.\n",
    "    \"\"\"\n",
    "    if normalize:\n",
    "        cm = cm.astype('float') / cm.sum(axis=1)[:, np.newaxis]\n",
    "        print(\"Normalized confusion matrix\")\n",
    "    else:\n",
    "        print('Confusion matrix, without normalization')\n",
    "\n",
    "    print(cm)\n",
    "\n",
    "    plt.imshow(cm, interpolation='nearest', cmap=cmap)\n",
    "    plt.title(title)\n",
    "    plt.colorbar()\n",
    "    tick_marks = np.arange(len(classes))\n",
    "    plt.xticks(tick_marks, classes, rotation=45)\n",
    "    plt.yticks(tick_marks, classes)\n",
    "\n",
    "    fmt = '.2f' if normalize else 'd'\n",
    "    thresh = cm.max() / 2.\n",
    "    for i, j in itertools.product(range(cm.shape[0]), range(cm.shape[1])):\n",
    "        plt.text(j, i, format(cm[i, j], fmt),\n",
    "                 horizontalalignment=\"center\",\n",
    "                 color=\"white\" if cm[i, j] > thresh else \"black\")\n",
    "\n",
    "    plt.ylabel('True label')\n",
    "    plt.xlabel('Predicted label')\n",
    "    plt.tight_layout()"
   ]
  },
  {
   "cell_type": "code",
   "execution_count": 21,
   "metadata": {},
   "outputs": [],
   "source": [
    "test_labels = test_datagen.classes\n",
    "cm1 = confusion_matrix(test_labels, predictions1_x.argmax(axis=1))\n",
    "cm2 = confusion_matrix(test_labels, predictions2_x.argmax(axis=1))\n",
    "cm3 = confusion_matrix(test_labels, predictions3_x.argmax(axis=1))\n",
    "cm4 = confusion_matrix(test_labels, predictions4_x.argmax(axis=1))\n",
    "cm5 = confusion_matrix(test_labels, predictions5_x.argmax(axis=1))\n",
    "cm6 = confusion_matrix(test_labels, predictions6_x.argmax(axis=1))\n",
    "cm7 = confusion_matrix(test_labels, predictions7_x.argmax(axis=1))\n",
    "cm_plot_labels = ['cancer', 'normal']"
   ]
  },
  {
   "cell_type": "code",
   "execution_count": 22,
   "metadata": {},
   "outputs": [
    {
     "name": "stdout",
     "output_type": "stream",
     "text": [
      "Confusion matrix, without normalization\n",
      "[[3315  685]\n",
      " [ 407 3593]]\n"
     ]
    },
    {
     "data": {
      "image/png": "[encoded data removed]",
      "text/plain": [
       "<Figure size 432x288 with 2 Axes>"
      ]
     },
     "metadata": {
      "needs_background": "light"
     },
     "output_type": "display_data"
    }
   ],
   "source": [
    "plot_confusion_matrix(cm1, cm_plot_labels, title='Confusion Matrix')"
   ]
  },
  {
   "cell_type": "code",
   "execution_count": 23,
   "metadata": {},
   "outputs": [
    {
     "name": "stdout",
     "output_type": "stream",
     "text": [
      "Confusion matrix, without normalization\n",
      "[[3430  570]\n",
      " [ 437 3563]]\n"
     ]
    },
    {
     "data": {
      "image/png": "[encoded data removed]",
      "text/plain": [
       "<Figure size 432x288 with 2 Axes>"
      ]
     },
     "metadata": {
      "needs_background": "light"
     },
     "output_type": "display_data"
    }
   ],
   "source": [
    "plot_confusion_matrix(cm2, cm_plot_labels, title='Confusion Matrix')"
   ]
  },
  {
   "cell_type": "code",
   "execution_count": 24,
   "metadata": {},
   "outputs": [
    {
     "name": "stdout",
     "output_type": "stream",
     "text": [
      "Confusion matrix, without normalization\n",
      "[[3402  598]\n",
      " [ 411 3589]]\n"
     ]
    },
    {
     "data": {
      "image/png": "[encoded data removed]",
      "text/plain": [
       "<Figure size 432x288 with 2 Axes>"
      ]
     },
     "metadata": {
      "needs_background": "light"
     },
     "output_type": "display_data"
    }
   ],
   "source": [
    "plot_confusion_matrix(cm3, cm_plot_labels, title='Confusion Matrix')"
   ]
  },
  {
   "cell_type": "code",
   "execution_count": 25,
   "metadata": {},
   "outputs": [
    {
     "name": "stdout",
     "output_type": "stream",
     "text": [
      "Confusion matrix, without normalization\n",
      "[[3528  472]\n",
      " [ 845 3155]]\n"
     ]
    },
    {
     "data": {
      "image/png": "[encoded data removed]",
      "text/plain": [
       "<Figure size 432x288 with 2 Axes>"
      ]
     },
     "metadata": {
      "needs_background": "light"
     },
     "output_type": "display_data"
    }
   ],
   "source": [
    "plot_confusion_matrix(cm4, cm_plot_labels, title='Confusion Matrix')"
   ]
  },
  {
   "cell_type": "code",
   "execution_count": 26,
   "metadata": {},
   "outputs": [
    {
     "name": "stdout",
     "output_type": "stream",
     "text": [
      "Confusion matrix, without normalization\n",
      "[[3461  539]\n",
      " [ 662 3338]]\n"
     ]
    },
    {
     "data": {
      "image/png": "[encoded data removed]",
      "text/plain": [
       "<Figure size 432x288 with 2 Axes>"
      ]
     },
     "metadata": {
      "needs_background": "light"
     },
     "output_type": "display_data"
    }
   ],
   "source": [
    "plot_confusion_matrix(cm5, cm_plot_labels, title='Confusion Matrix')"
   ]
  },
  {
   "cell_type": "code",
   "execution_count": 27,
   "metadata": {},
   "outputs": [
    {
     "name": "stdout",
     "output_type": "stream",
     "text": [
      "Confusion matrix, without normalization\n",
      "[[3682  318]\n",
      " [ 181 3819]]\n"
     ]
    },
    {
     "data": {
      "image/png": "[encoded data removed]",
      "text/plain": [
       "<Figure size 432x288 with 2 Axes>"
      ]
     },
     "metadata": {
      "needs_background": "light"
     },
     "output_type": "display_data"
    }
   ],
   "source": [
    "plot_confusion_matrix(cm6, cm_plot_labels, title='Confusion Matrix')"
   ]
  },
  {
   "cell_type": "code",
   "execution_count": 28,
   "metadata": {},
   "outputs": [
    {
     "name": "stdout",
     "output_type": "stream",
     "text": [
      "Confusion matrix, without normalization\n",
      "[[3581  419]\n",
      " [ 874 3126]]\n"
     ]
    },
    {
     "data": {
      "image/png": "[encoded data removed]",
      "text/plain": [
       "<Figure size 432x288 with 2 Axes>"
      ]
     },
     "metadata": {
      "needs_background": "light"
     },
     "output_type": "display_data"
    }
   ],
   "source": [
    "plot_confusion_matrix(cm7, cm_plot_labels, title='Confusion Matrix')"
   ]
  },
  {
   "cell_type": "code",
   "execution_count": 29,
   "metadata": {},
   "outputs": [],
   "source": [
    "from sklearn.metrics import classification_report\n",
    "\n",
    "# To generate classification report, we need y_pred as binary labels and not as probabilities\n",
    "y_pred_binary1 = predictions1_x.argmax(axis=1)\n",
    "y_pred_binary2 = predictions2_x.argmax(axis=1)\n",
    "y_pred_binary3 = predictions3_x.argmax(axis=1)\n",
    "y_pred_binary4 = predictions4_x.argmax(axis=1)\n",
    "y_pred_binary5 = predictions5_x.argmax(axis=1)\n",
    "y_pred_binary6 = predictions6_x.argmax(axis=1)\n",
    "y_pred_binary7 = predictions7_x.argmax(axis=1)"
   ]
  },
  {
   "cell_type": "code",
   "execution_count": 30,
   "metadata": {},
   "outputs": [],
   "source": [
    "class_rep1 = classification_report(y_true, y_pred_binary1, target_names=cm_plot_labels)\n",
    "class_rep2 = classification_report(y_true, y_pred_binary2, target_names=cm_plot_labels)\n",
    "class_rep3 = classification_report(y_true, y_pred_binary3, target_names=cm_plot_labels)\n",
    "class_rep4 = classification_report(y_true, y_pred_binary4, target_names=cm_plot_labels)\n",
    "class_rep5 = classification_report(y_true, y_pred_binary5, target_names=cm_plot_labels)\n",
    "class_rep6 = classification_report(y_true, y_pred_binary6, target_names=cm_plot_labels)\n",
    "class_rep7 = classification_report(y_true, y_pred_binary7, target_names=cm_plot_labels)"
   ]
  },
  {
   "cell_type": "code",
   "execution_count": 32,
   "metadata": {},
   "outputs": [
    {
     "name": "stdout",
     "output_type": "stream",
     "text": [
      "              precision    recall  f1-score   support\n",
      "\n",
      "      cancer       0.89      0.83      0.86      4000\n",
      "      normal       0.84      0.90      0.87      4000\n",
      "\n",
      "   micro avg       0.86      0.86      0.86      8000\n",
      "   macro avg       0.87      0.86      0.86      8000\n",
      "weighted avg       0.87      0.86      0.86      8000\n",
      "\n"
     ]
    }
   ],
   "source": [
    "print(class_rep1)"
   ]
  },
  {
   "cell_type": "code",
   "execution_count": 33,
   "metadata": {},
   "outputs": [
    {
     "name": "stdout",
     "output_type": "stream",
     "text": [
      "              precision    recall  f1-score   support\n",
      "\n",
      "      cancer       0.89      0.86      0.87      4000\n",
      "      normal       0.86      0.89      0.88      4000\n",
      "\n",
      "   micro avg       0.87      0.87      0.87      8000\n",
      "   macro avg       0.87      0.87      0.87      8000\n",
      "weighted avg       0.87      0.87      0.87      8000\n",
      "\n"
     ]
    }
   ],
   "source": [
    "print(class_rep2)"
   ]
  },
  {
   "cell_type": "code",
   "execution_count": 34,
   "metadata": {},
   "outputs": [
    {
     "name": "stdout",
     "output_type": "stream",
     "text": [
      "              precision    recall  f1-score   support\n",
      "\n",
      "      cancer       0.89      0.85      0.87      4000\n",
      "      normal       0.86      0.90      0.88      4000\n",
      "\n",
      "   micro avg       0.87      0.87      0.87      8000\n",
      "   macro avg       0.87      0.87      0.87      8000\n",
      "weighted avg       0.87      0.87      0.87      8000\n",
      "\n"
     ]
    }
   ],
   "source": [
    "print(class_rep3)"
   ]
  },
  {
   "cell_type": "code",
   "execution_count": 35,
   "metadata": {},
   "outputs": [
    {
     "name": "stdout",
     "output_type": "stream",
     "text": [
      "              precision    recall  f1-score   support\n",
      "\n",
      "      cancer       0.81      0.88      0.84      4000\n",
      "      normal       0.87      0.79      0.83      4000\n",
      "\n",
      "   micro avg       0.84      0.84      0.84      8000\n",
      "   macro avg       0.84      0.84      0.84      8000\n",
      "weighted avg       0.84      0.84      0.84      8000\n",
      "\n"
     ]
    }
   ],
   "source": [
    "print(class_rep4)"
   ]
  },
  {
   "cell_type": "code",
   "execution_count": 36,
   "metadata": {},
   "outputs": [
    {
     "name": "stdout",
     "output_type": "stream",
     "text": [
      "              precision    recall  f1-score   support\n",
      "\n",
      "      cancer       0.84      0.87      0.85      4000\n",
      "      normal       0.86      0.83      0.85      4000\n",
      "\n",
      "   micro avg       0.85      0.85      0.85      8000\n",
      "   macro avg       0.85      0.85      0.85      8000\n",
      "weighted avg       0.85      0.85      0.85      8000\n",
      "\n"
     ]
    }
   ],
   "source": [
    "print(class_rep5)"
   ]
  },
  {
   "cell_type": "code",
   "execution_count": 37,
   "metadata": {},
   "outputs": [
    {
     "name": "stdout",
     "output_type": "stream",
     "text": [
      "              precision    recall  f1-score   support\n",
      "\n",
      "      cancer       0.95      0.92      0.94      4000\n",
      "      normal       0.92      0.95      0.94      4000\n",
      "\n",
      "   micro avg       0.94      0.94      0.94      8000\n",
      "   macro avg       0.94      0.94      0.94      8000\n",
      "weighted avg       0.94      0.94      0.94      8000\n",
      "\n"
     ]
    }
   ],
   "source": [
    "print(class_rep6)"
   ]
  },
  {
   "cell_type": "code",
   "execution_count": 38,
   "metadata": {},
   "outputs": [
    {
     "name": "stdout",
     "output_type": "stream",
     "text": [
      "              precision    recall  f1-score   support\n",
      "\n",
      "      cancer       0.80      0.90      0.85      4000\n",
      "      normal       0.88      0.78      0.83      4000\n",
      "\n",
      "   micro avg       0.84      0.84      0.84      8000\n",
      "   macro avg       0.84      0.84      0.84      8000\n",
      "weighted avg       0.84      0.84      0.84      8000\n",
      "\n"
     ]
    }
   ],
   "source": [
    "print(class_rep7)"
   ]
  },
  {
   "cell_type": "code",
   "execution_count": null,
   "metadata": {},
   "outputs": [],
   "source": []
  }
 ],
 "metadata": {
  "kernelspec": {
   "display_name": "Python 3",
   "language": "python",
   "name": "python3"
  },
  "language_info": {
   "codemirror_mode": {
    "name": "ipython",
    "version": 3
   },
   "file_extension": ".py",
   "mimetype": "text/x-python",
   "name": "python",
   "nbconvert_exporter": "python",
   "pygments_lexer": "ipython3",
   "version": "3.7.1"
  }
 },
 "nbformat": 4,
 "nbformat_minor": 2
}
